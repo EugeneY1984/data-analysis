{
 "cells": [
  {
   "cell_type": "markdown",
   "metadata": {},
   "source": [
    "### MountainCar-v0\n",
    "\n",
    "Description:\n",
    "    The agent (a car) is started at the bottom of a valley. For any given\n",
    "    state the agent may choose to accelerate to the left, right or cease\n",
    "    any acceleration.\n",
    "\n",
    "Source:\n",
    "    The environment appeared first in Andrew Moore's PhD Thesis (1990).\n",
    "\n",
    "Observation:\n",
    "    Type: Box(2)\n",
    "    Num    Observation               Min            Max\n",
    "    0      Car Position              -1.2           0.6\n",
    "    1      Car Velocity              -0.07          0.07\n",
    "\n",
    "Actions:\n",
    "    Type: Discrete(3)\n",
    "    Num    Action\n",
    "    0      Accelerate to the Left\n",
    "    1      Don't accelerate\n",
    "    2      Accelerate to the Right\n",
    "\n",
    "    Note: This does not affect the amount of velocity affected by the\n",
    "    gravitational pull acting on the car.\n",
    "\n",
    "Reward:\n",
    "     Reward of 0 is awarded if the agent reached the flag (position = 0.5)\n",
    "     on top of the mountain.\n",
    "     Reward of -1 is awarded if the position of the agent is less than 0.5.\n",
    "\n",
    "Starting State:\n",
    "     The position of the car is assigned a uniform random value in\n",
    "     [-0.6 , -0.4].\n",
    "     The starting velocity of the car is always assigned to 0.\n",
    "\n",
    "Episode Termination:\n",
    "     The car position is more than 0.5\n",
    "     Episode length is greater than 200"
   ]
  },
  {
   "cell_type": "code",
   "execution_count": 23,
   "metadata": {},
   "outputs": [],
   "source": [
    "import numpy as np\n",
    "import gym\n",
    "import time\n",
    "from sklearn.preprocessing import KBinsDiscretizer\n",
    "import matplotlib.pyplot as plt\n",
    "from thompson_sampling.bernoulli import BernoulliExperiment"
   ]
  },
  {
   "cell_type": "markdown",
   "metadata": {},
   "source": [
    "Инициализация среды (поля)"
   ]
  },
  {
   "cell_type": "code",
   "execution_count": 24,
   "metadata": {},
   "outputs": [],
   "source": [
    "env = gym.make('MountainCar-v0')"
   ]
  },
  {
   "cell_type": "code",
   "execution_count": 25,
   "metadata": {},
   "outputs": [],
   "source": [
    "# Описание среды\n",
    "# ?env.env"
   ]
  },
  {
   "cell_type": "markdown",
   "metadata": {},
   "source": [
    "### Дискретизация среды"
   ]
  },
  {
   "cell_type": "code",
   "execution_count": 26,
   "metadata": {},
   "outputs": [
    {
     "name": "stdout",
     "output_type": "stream",
     "text": [
      "Нижняя граница [-1.2  -0.07]\n",
      "Верхняя граница [0.6  0.07]\n"
     ]
    }
   ],
   "source": [
    "print (\"Нижняя граница\", env.observation_space.low)\n",
    "print (\"Верхняя граница\", env.observation_space.high)"
   ]
  },
  {
   "cell_type": "code",
   "execution_count": 27,
   "metadata": {},
   "outputs": [],
   "source": [
    "n_bins = (10, 10)\n",
    "def discretizer(position, velocity):\n",
    "    est = KBinsDiscretizer(n_bins=n_bins, encode='ordinal', strategy='uniform')\n",
    "    est.fit([env.observation_space.low, env.observation_space.high])\n",
    "    return tuple(map(int,est.transform([[position, velocity]])[0]))"
   ]
  },
  {
   "cell_type": "code",
   "execution_count": 28,
   "metadata": {},
   "outputs": [],
   "source": [
    "# print (discretizer(-1, -0.01))"
   ]
  },
  {
   "cell_type": "markdown",
   "metadata": {},
   "source": [
    "### Q-обучение"
   ]
  },
  {
   "cell_type": "code",
   "execution_count": 29,
   "metadata": {},
   "outputs": [
    {
     "data": {
      "text/plain": [
       "(10, 10, 3)"
      ]
     },
     "execution_count": 29,
     "metadata": {},
     "output_type": "execute_result"
    }
   ],
   "source": [
    "# Создадим Q-таблицу из дискретных состояний среды и возможных действий\n",
    "q_table = np.zeros(n_bins + (env.action_space.n,))\n",
    "q_table.shape"
   ]
  },
  {
   "cell_type": "code",
   "execution_count": 30,
   "metadata": {},
   "outputs": [],
   "source": [
    "# e-жадная стратегия и обновление таблицы\n",
    "\n",
    "def policy (state, env, eps):\n",
    "    if np.random.random() < eps: \n",
    "        action = env.action_space.sample() # explore\n",
    "    else:\n",
    "        action = np.argmax(q_table[state])\n",
    "    return action\n",
    "\n",
    "def policy_update (current_state, new_state, reward, action, lr):\n",
    "    q_table[current_state][action] = (1-lr)*q_table[current_state][action] + lr*(reward + np.max(q_table[new_state]))"
   ]
  },
  {
   "cell_type": "markdown",
   "metadata": {},
   "source": [
    "### Тестирование и визуализация"
   ]
  },
  {
   "cell_type": "code",
   "execution_count": 31,
   "metadata": {},
   "outputs": [
    {
     "name": "stdout",
     "output_type": "stream",
     "text": [
      "0\n",
      "100\n",
      "200\n",
      "300\n",
      "400\n",
      "500\n",
      "600\n",
      "700\n",
      "800\n",
      "900\n",
      "Success episods: 0.24\n"
     ]
    }
   ],
   "source": [
    "progress = []\n",
    "success = 0\n",
    "avg_progress = []\n",
    "eps = 0.2\n",
    "lr = 0.9\n",
    "n_episodes = 1000\n",
    "for e in range(n_episodes):\n",
    "    _ = 0\n",
    "    episode_reward = 0\n",
    "    current_state, done = discretizer(*env.reset()), False\n",
    "    while done==False:\n",
    "        _ += 1\n",
    "        action = policy(current_state, env, eps)\n",
    "        obs, reward, done, info = env.step(action)\n",
    "        new_state = discretizer(*obs)\n",
    "        policy_update(current_state, new_state, reward, action, lr)\n",
    "        current_state = new_state\n",
    "        lr *= 0.9999\n",
    "        eps *= 0.9999       \n",
    "    progress.append(_)\n",
    "    avg_progress.append(np.mean(progress))\n",
    "    if e % 100 == 0:\n",
    "        print(e)\n",
    "    if obs[0] >= 0.5:\n",
    "        success += 1\n",
    "print('Success episods:', round(success / n_episodes, 2))"
   ]
  },
  {
   "cell_type": "code",
   "execution_count": 32,
   "metadata": {},
   "outputs": [
    {
     "data": {
      "image/png": "[encoded data removed]",
      "text/plain": [
       "<Figure size 432x288 with 1 Axes>"
      ]
     },
     "metadata": {
      "needs_background": "light"
     },
     "output_type": "display_data"
    }
   ],
   "source": [
    "plt.plot(progress)\n",
    "plt.plot(avg_progress)\n",
    "plt.show()"
   ]
  },
  {
   "cell_type": "markdown",
   "metadata": {},
   "source": [
    "### Проверка обученного агента"
   ]
  },
  {
   "cell_type": "code",
   "execution_count": 33,
   "metadata": {},
   "outputs": [
    {
     "name": "stdout",
     "output_type": "stream",
     "text": [
      "190\n"
     ]
    }
   ],
   "source": [
    "eps = 0\n",
    "_ = 0\n",
    "current_state, done = discretizer(*env.reset()), False\n",
    "while done==False:\n",
    "    _ += 1\n",
    "    action = policy(current_state, env, eps)\n",
    "    obs, reward, done, info = env.step(action)\n",
    "    new_state = discretizer(*obs)\n",
    "    current_state = new_state\n",
    "    # env.render()\n",
    "    time.sleep(0.05)\n",
    "env.close()\n",
    "print (_)"
   ]
  }
 ],
 "metadata": {
  "kernelspec": {
   "display_name": "Python 3 (ipykernel)",
   "language": "python",
   "name": "python3"
  },
  "language_info": {
   "codemirror_mode": {
    "name": "ipython",
    "version": 3
   },
   "file_extension": ".py",
   "mimetype": "text/x-python",
   "name": "python",
   "nbconvert_exporter": "python",
   "pygments_lexer": "ipython3",
   "version": "3.8.10"
  }
 },
 "nbformat": 4,
 "nbformat_minor": 4
}
