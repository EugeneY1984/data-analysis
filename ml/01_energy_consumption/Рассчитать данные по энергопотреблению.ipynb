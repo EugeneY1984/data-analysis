{
 "cells": [
  {
   "cell_type": "markdown",
   "source": [
    "# Рассчитать данные по энергопотреблению\n",
    "\n",
    "## Описание задания\n",
    "Загрузите данные и посчитайте модели линейной регрессии для 50 зданий по ансамблю регрессионных моделей: в первой модели весь оптимальный набор метеорологических данных, во второй - дни недели и праздники, в третьей - недели года, в четвертой - месяцы. Финальное значение показателя рассчитайте как взвешенное арифметическое показателей всех моделей, взяв веса для первой и второй модели как 3/8, а для третьей и четвертой - как 1/8.\n",
    "\n",
    "Загрузите данные решения, посчитайте значение энергопотребления для требуемых дат для тех зданий, которые посчитаны в модели, и выгрузите результат в виде CSV-файла (submission.csv)."
   ],
   "metadata": {}
  },
  {
   "cell_type": "code",
   "execution_count": null,
   "source": [
    "import pandas as pd\n",
    "import numpy as np\n",
    "from sklearn.model_selection import train_test_split\n",
    "from sklearn.linear_model import LinearRegression\n",
    "from pandas.tseries.holiday import USFederalHolidayCalendar as calendar\n",
    "from scipy.interpolate import interp1d"
   ],
   "outputs": [],
   "metadata": {}
  },
  {
   "cell_type": "markdown",
   "source": [
    "### Вспомогательные функции"
   ],
   "metadata": {}
  },
  {
   "cell_type": "code",
   "execution_count": null,
   "source": [
    "def reduce_mem_usage (df):\n",
    "    start_mem = df.memory_usage().sum() / 1024**2    \n",
    "    for col in df.columns:\n",
    "        col_type = df[col].dtypes\n",
    "        if str(col_type)[:5] == \"float\":\n",
    "            c_min = df[col].min()\n",
    "            c_max = df[col].max()\n",
    "            if c_min > np.finfo(\"f2\").min and c_max < np.finfo(\"f2\").max:\n",
    "                df[col] = df[col].astype(np.float16)\n",
    "            elif c_min > np.finfo(\"f4\").min and c_max < np.finfo(\"f4\").max:\n",
    "                df[col] = df[col].astype(np.float32)\n",
    "            else:\n",
    "                df[col] = df[col].astype(np.float64)\n",
    "        elif str(col_type)[:3] == \"int\":\n",
    "            c_min = df[col].min()\n",
    "            c_max = df[col].max()\n",
    "            if c_min > np.iinfo(\"i1\").min and c_max < np.iinfo(\"i1\").max:\n",
    "                df[col] = df[col].astype(np.int8)\n",
    "            elif c_min > np.iinfo(\"i2\").min and c_max < np.iinfo(\"i2\").max:\n",
    "                df[col] = df[col].astype(np.int16)\n",
    "            elif c_min > np.iinfo(\"i4\").min and c_max < np.iinfo(\"i4\").max:\n",
    "                df[col] = df[col].astype(np.int32)\n",
    "            elif c_min > np.iinfo(\"i8\").min and c_max < np.iinfo(\"i8\").max:\n",
    "                df[col] = df[col].astype(np.int64)\n",
    "        elif col == \"timestamp\":\n",
    "            df[col] = pd.to_datetime(df[col])\n",
    "        elif str(col_type)[:8] != \"datetime\":\n",
    "            df[col] = df[col].astype(\"category\")\n",
    "    end_mem = df.memory_usage().sum() / 1024**2\n",
    "    print('Потребление памяти меньше на', round(start_mem - end_mem, 2), 'Мб (минус', round(100 * (start_mem - end_mem) / start_mem, 1), '%)')\n",
    "    return df"
   ],
   "outputs": [],
   "metadata": {}
  },
  {
   "cell_type": "markdown",
   "source": [
    "## Данные для обучения"
   ],
   "metadata": {}
  },
  {
   "cell_type": "code",
   "execution_count": null,
   "source": [
    "# Загрузка\n",
    "buildings = pd.read_csv('./data/building_metadata.csv.gz', usecols=['site_id', 'building_id'])\n",
    "\n",
    "weather = pd.read_csv('./data/weather_train.csv.gz')\n",
    "# Возьмем только site_id = 0 для сокращения времени расчета\n",
    "weather = weather[weather['site_id'] == 0]\n",
    "\n",
    "energy = pd.read_csv('./data/train.0.csv.gz')\n",
    "# Берем данные по энергопотреблению для первых 50 зданий\n",
    "energy = energy[energy['building_id'] < 50]\n",
    "energy = energy[energy[\"meter_reading\"] > 0]"
   ],
   "outputs": [],
   "metadata": {}
  },
  {
   "cell_type": "code",
   "execution_count": null,
   "source": [
    "# Данные погоды\n",
    "## Интерполяция пропусков\n",
    "weather[\"precip_depth_1_hr\"] = weather[\"precip_depth_1_hr\"].apply(lambda x:x if x>0 else 0)\n",
    "interpolate_columns = [\"air_temperature\", \"dew_temperature\",\n",
    "                       \"cloud_coverage\", \"wind_speed\", \"wind_direction\",\n",
    "                       \"precip_depth_1_hr\", \"sea_level_pressure\"]\n",
    "for col in interpolate_columns:\n",
    "    weather[col] = weather[col].interpolate(limit_direction='both',\n",
    "                            kind='cubic')\n",
    "\n",
    "## Обогащение данных\n",
    "weather[\"wind_direction_rad\"] = weather[\"wind_direction\"] * np.pi/180\n",
    "weather[\"wind_direction_sin\"] = np.sin(weather[\"wind_direction_rad\"])\n",
    "weather[\"wind_direction_cos\"] = np.cos(weather[\"wind_direction_rad\"])\n",
    "weather[\"air_temperature_diff1\"] = weather[\"air_temperature\"].diff()\n",
    "weather.at[0, \"air_temperature_diff1\"] = weather.at[1, \"air_temperature_diff1\"]\n",
    "weather[\"air_temperature_diff2\"] = weather[\"air_temperature_diff1\"].diff()\n",
    "weather.at[0, \"air_temperature_diff2\"] = weather.at[1, \"air_temperature_diff2\"]"
   ],
   "outputs": [],
   "metadata": {}
  },
  {
   "cell_type": "code",
   "execution_count": null,
   "source": [
    "# Данные по энергопотреблению\n",
    "## Обогащение данных\n",
    "energy['timestamp'] = pd.to_datetime(energy['timestamp'])\n",
    "energy[\"hour\"] = energy[\"timestamp\"].dt.hour.astype(\"int8\")\n",
    "energy[\"weekday\"] = energy[\"timestamp\"].dt.weekday.astype(\"int8\")\n",
    "energy[\"week\"] = energy[\"timestamp\"].dt.week.astype(\"int8\")\n",
    "energy[\"month\"] = energy[\"timestamp\"].dt.month.astype(\"int8\")\n",
    "energy[\"date\"] = pd.to_datetime(energy[\"timestamp\"].dt.date)\n",
    "dates_range = pd.date_range(start='2015-12-31', end='2017-01-01')\n",
    "us_holidays = calendar().holidays(start=dates_range.min(), end=dates_range.max())\n",
    "energy['is_holiday'] = energy['date'].isin(us_holidays).astype(\"int8\")\n",
    "for weekday in range(0,7):\n",
    "    energy['is_wday' + str(weekday)] = energy['weekday'].isin([weekday]).astype(\"int8\")\n",
    "for week in range(1,54):\n",
    "    energy['is_w' + str(week)] = energy['week'].isin([week]).astype(\"int8\")\n",
    "for month in range(1,13):\n",
    "    energy['is_m' + str(month)] = energy['month'].isin([month]).astype(\"int8\")\n",
    "\n",
    "energy[\"meter_reading_log\"] = np.log(energy[\"meter_reading\"] + 1)"
   ],
   "outputs": [],
   "metadata": {}
  },
  {
   "cell_type": "code",
   "execution_count": null,
   "source": [
    "#  Объединим данные\n",
    "energy = pd.merge(left=energy, right=buildings, how='left', left_on='building_id', right_on='building_id')\n",
    "\n",
    "energy = energy.set_index([\"timestamp\", \"site_id\"])\n",
    "weather['timestamp'] = pd.to_datetime(weather['timestamp'])\n",
    "weather = weather.set_index([\"timestamp\", \"site_id\"])\n",
    "data_train = pd.merge(left=energy, right=weather, how=\"left\", left_index=True, right_index=True)\n",
    "data_train.reset_index(inplace=True)"
   ],
   "outputs": [],
   "metadata": {}
  },
  {
   "cell_type": "code",
   "execution_count": null,
   "source": [
    "#  Удалим ненужные столбцы и оптимизируем памать\n",
    "data_train = data_train.drop(columns=['meter', 'site_id', 'timestamp'], axis=1)\n",
    "data_train = reduce_mem_usage(data_train)\n",
    "del weather\n",
    "del energy\n",
    "print (data_train.info())"
   ],
   "outputs": [],
   "metadata": {}
  },
  {
   "cell_type": "markdown",
   "source": [
    "## Строим модели"
   ],
   "metadata": {}
  },
  {
   "cell_type": "code",
   "execution_count": null,
   "source": [
    "# Набор параметров для каждой модели\n",
    "## Модель 1. Весь оптимальный набор метео данных\n",
    "lr_weather_columns = [\"meter_reading_log\", \"hour\", \"building_id\",\n",
    "                      \"air_temperature\", \"dew_temperature\",\n",
    "                      \"sea_level_pressure\", \"wind_speed\",\n",
    "                      \"air_temperature_diff1\", \"air_temperature_diff2\",\n",
    "                      \"cloud_coverage\",\n",
    "                      \"wind_direction_rad\", \"wind_direction_sin\"]\n",
    "\n",
    "## Модель 2. Дни недели и праздники                      \n",
    "lr_day_columns = [\"meter_reading_log\", \"hour\", \"building_id\", \"is_holiday\"]\n",
    "for wday in range(0,7):\n",
    "    lr_day_columns.append(\"is_wday\" + str(wday))\n",
    "\n",
    "## Модель 3. Недели года                      \n",
    "lr_week_columns = [\"meter_reading_log\", \"hour\", \"building_id\"]\n",
    "for week in range(1,54):\n",
    "    lr_week_columns.append(\"is_w\" + str(week))\n",
    "\n",
    "## Модель 4. Месяцы                      \n",
    "lr_month_columns = [\"meter_reading_log\", \"hour\", \"building_id\"]\n",
    "for month in range(1,13):\n",
    "    lr_month_columns.append(\"is_m\" + str(month))\n",
    "\n",
    "hours = range(0, 24)\n",
    "building_ids = range(0, data_train[\"building_id\"].max() + 1)"
   ],
   "outputs": [],
   "metadata": {}
  },
  {
   "cell_type": "code",
   "execution_count": null,
   "source": [
    "def train_model (df, columns):\n",
    "    df_train_lr = pd.DataFrame(df, columns=columns)\n",
    "    lr_models = [[]]*len(buildings)\n",
    "    for building in building_ids:\n",
    "        lr_models[building] = [[]]*len(hours)\n",
    "        df_train_b = df_train_lr[df_train_lr[\"building_id\"]==building]\n",
    "        for hour in hours:\n",
    "            df_train_bh = df_train_b[df_train_b[\"hour\"]==hour]\n",
    "            y = df_train_bh[\"meter_reading_log\"]\n",
    "            x = df_train_bh.drop(labels=[\"meter_reading_log\", \"hour\", \"building_id\"], axis=1)\n",
    "            model = LinearRegression(fit_intercept=False).fit(x, y)\n",
    "            lr_models[building][hour] = model.coef_\n",
    "            lr_models[building][hour] = np.append(lr_models[building][hour], model.intercept_)\n",
    "    return lr_models"
   ],
   "outputs": [],
   "metadata": {}
  },
  {
   "cell_type": "code",
   "execution_count": null,
   "source": [
    "# Расчет отдельных моделей\n",
    "lr_weather_models = train_model(data_train, lr_weather_columns)\n",
    "lr_day_models = train_model(data_train, lr_day_columns)\n",
    "lr_week_models = train_model(data_train, lr_week_columns)\n",
    "lr_month_models = train_model(data_train, lr_month_columns)"
   ],
   "outputs": [],
   "metadata": {}
  },
  {
   "cell_type": "code",
   "execution_count": null,
   "source": [
    "def calculate_model_ensemble (x, model, columns):\n",
    "    lr = -1\n",
    "    if len(model) > 0:\n",
    "        lr = np.sum([x[col] * model[i] for i,col in enumerate(columns[3:])])\n",
    "        # lr += model[len(columns)-3]\n",
    "        lr += model[-1]\n",
    "        lr = np.exp(lr)\n",
    "    if lr < 0 or lr*lr == lr:\n",
    "        lr = 0\n",
    "\n",
    "    return lr\n",
    "\n",
    "def calculate_models_ensemble (x):\n",
    "    lr_weather = calculate_model_ensemble(x, model=lr_weather_models[x.building_id][x.hour], columns=lr_weather_columns)\n",
    "    lr_day = calculate_model_ensemble(x, model=lr_day_models[x.building_id][x.hour], columns=lr_day_columns)\n",
    "    lr_week = calculate_model_ensemble(x, model=lr_week_models[x.building_id][x.hour], columns=lr_week_columns)\n",
    "    lr_month = calculate_model_ensemble(x, model=lr_month_models[x.building_id][x.hour], columns=lr_month_columns)    \n",
    "    lr_ensemble = lr_weather * 3/8 + lr_day * 3/8 + lr_week * 1/8 + lr_month * 1/8\n",
    "\n",
    "    x['meter_reading'] = lr_ensemble\n",
    "\n",
    "    return x"
   ],
   "outputs": [],
   "metadata": {}
  },
  {
   "cell_type": "markdown",
   "source": [
    "## Данные для тестирования"
   ],
   "metadata": {}
  },
  {
   "cell_type": "code",
   "execution_count": null,
   "source": [
    "# Загрузка\n",
    "weather = pd.read_csv('./data/weather_test.csv.gz')\n",
    "# Возьмем только site_id = 0 для сокращения времени расчета\n",
    "weather = weather[weather['site_id'] == 0]\n",
    "\n",
    "energy = pd.read_csv('./data/test.csv.gz')\n",
    "# Берем данные по энергопотреблению для первых 50 зданий\n",
    "energy = energy[energy['building_id'] < 50]\n",
    "print(energy.info())"
   ],
   "outputs": [],
   "metadata": {}
  },
  {
   "cell_type": "code",
   "execution_count": null,
   "source": [
    "# Данные погоды\n",
    "## Интерполяция пропусков\n",
    "weather[\"precip_depth_1_hr\"] = weather[\"precip_depth_1_hr\"].apply(lambda x:x if x>0 else 0)\n",
    "interpolate_columns = [\"air_temperature\", \"dew_temperature\",\n",
    "                       \"cloud_coverage\", \"wind_speed\", \"wind_direction\",\n",
    "                       \"precip_depth_1_hr\", \"sea_level_pressure\"]\n",
    "for col in interpolate_columns:\n",
    "    weather[col] = weather[col].interpolate(limit_direction='both',\n",
    "                            kind='cubic')\n",
    "\n",
    "## Обогащение данных\n",
    "weather[\"wind_direction_rad\"] = weather[\"wind_direction\"] * np.pi/180\n",
    "weather[\"wind_direction_sin\"] = np.sin(weather[\"wind_direction_rad\"])\n",
    "weather[\"wind_direction_cos\"] = np.cos(weather[\"wind_direction_rad\"])\n",
    "weather[\"air_temperature_diff1\"] = weather[\"air_temperature\"].diff()\n",
    "weather.at[0, \"air_temperature_diff1\"] = weather.at[1, \"air_temperature_diff1\"]\n",
    "weather[\"air_temperature_diff2\"] = weather[\"air_temperature_diff1\"].diff()\n",
    "weather.at[0, \"air_temperature_diff2\"] = weather.at[1, \"air_temperature_diff2\"]"
   ],
   "outputs": [],
   "metadata": {}
  },
  {
   "cell_type": "code",
   "execution_count": null,
   "source": [
    "# Данные по энергопотреблению\n",
    "## Обогащение данных\n",
    "energy['timestamp'] = pd.to_datetime(energy['timestamp'])\n",
    "energy[\"hour\"] = energy[\"timestamp\"].dt.hour.astype(\"int8\")\n",
    "energy[\"weekday\"] = energy[\"timestamp\"].dt.weekday.astype(\"int8\")\n",
    "energy[\"week\"] = energy[\"timestamp\"].dt.week.astype(\"int8\")\n",
    "energy[\"month\"] = energy[\"timestamp\"].dt.month.astype(\"int8\")\n",
    "energy[\"date\"] = pd.to_datetime(energy[\"timestamp\"].dt.date)\n",
    "dates_range = pd.date_range(start='2015-12-31', end='2017-01-01')\n",
    "us_holidays = calendar().holidays(start=dates_range.min(), end=dates_range.max())\n",
    "energy['is_holiday'] = energy['date'].isin(us_holidays).astype(\"int8\")\n",
    "for weekday in range(0,7):\n",
    "    energy['is_wday' + str(weekday)] = energy['weekday'].isin([weekday]).astype(\"int8\")\n",
    "for week in range(1,54):\n",
    "    energy['is_w' + str(week)] = energy['week'].isin([week]).astype(\"int8\")\n",
    "for month in range(1,13):\n",
    "    energy['is_m' + str(month)] = energy['month'].isin([month]).astype(\"int8\")"
   ],
   "outputs": [],
   "metadata": {}
  },
  {
   "cell_type": "code",
   "execution_count": null,
   "source": [
    "#  Объединим данные\n",
    "energy = pd.merge(left=energy, right=buildings, how='left', left_on='building_id', right_on='building_id')\n",
    "\n",
    "energy = energy.set_index([\"timestamp\", \"site_id\"])\n",
    "weather['timestamp'] = pd.to_datetime(weather['timestamp'])\n",
    "weather = weather.set_index([\"timestamp\", \"site_id\"])\n",
    "data_test = pd.merge(left=energy, right=weather, how=\"left\", left_index=True, right_index=True)\n",
    "data_test.reset_index(inplace=True)"
   ],
   "outputs": [],
   "metadata": {}
  },
  {
   "cell_type": "code",
   "execution_count": null,
   "source": [
    "#  Удалим ненужные столбцы и оптимизируем памать\n",
    "data_test = data_test.drop(columns=['meter', 'site_id', 'timestamp'], axis=1)\n",
    "data_test = reduce_mem_usage(data_test)\n",
    "del weather\n",
    "del energy\n",
    "print (data_test.info())"
   ],
   "outputs": [],
   "metadata": {}
  },
  {
   "cell_type": "code",
   "execution_count": null,
   "source": [
    "# Рассчитаем тестовые данные\n",
    "data_test = data_test.apply(calculate_models_ensemble, axis=1, result_type='expand')"
   ],
   "outputs": [],
   "metadata": {}
  },
  {
   "cell_type": "code",
   "execution_count": null,
   "source": [
    "# Подготовка результатов в требуемом формате\n",
    "results_ready = pd.DataFrame(data_test, columns=[\"row_id\", \"meter_reading\"])\n",
    "\n",
    "results = pd.read_csv(\"./data/test.csv.gz\", usecols=[\"row_id\"])\n",
    "results = pd.merge(left=results, right=results_ready, how=\"left\", left_on=\"row_id\", right_on=\"row_id\")\n",
    "results.fillna(value=0, inplace=True)\n",
    "print (results.info())"
   ],
   "outputs": [],
   "metadata": {}
  },
  {
   "cell_type": "code",
   "execution_count": null,
   "source": [
    "results.to_csv(\"./data/submission.csv\",index=False)"
   ],
   "outputs": [],
   "metadata": {}
  },
  {
   "cell_type": "code",
   "execution_count": null,
   "source": [
    "del data_train\n",
    "del data_test\n",
    "del results\n",
    "del results_ready"
   ],
   "outputs": [],
   "metadata": {}
  }
 ],
 "metadata": {
  "orig_nbformat": 4,
  "language_info": {
   "name": "python",
   "version": "3.8.5",
   "mimetype": "text/x-python",
   "codemirror_mode": {
    "name": "ipython",
    "version": 3
   },
   "pygments_lexer": "ipython3",
   "nbconvert_exporter": "python",
   "file_extension": ".py"
  },
  "kernelspec": {
   "name": "python3",
   "display_name": "Python 3.8.5 64-bit"
  },
  "interpreter": {
   "hash": "916dbcbb3f70747c44a77c7bcd40155683ae19c65e1c03b4aa3499c5328201f1"
  }
 },
 "nbformat": 4,
 "nbformat_minor": 2
}