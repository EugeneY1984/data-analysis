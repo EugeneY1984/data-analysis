{
 "cells": [
  {
   "cell_type": "markdown",
   "source": [
    "# Рассчитать данные по энергопотреблению\n",
    "\n",
    "## Описание задания\n",
    "Загрузите данные и посчитайте модели линейной регрессии для 50 зданий по ансамблю регрессионных моделей: в первой модели весь оптимальный набор метеорологических данных, во второй - дни недели и праздники, в третьей - недели года, в четвертой - месяцы. Финальное значение показателя рассчитайте как взвешенное арифметическое показателей всех моделей, взяв веса для первой и второй модели как 3/8, а для третьей и четвертой - как 1/8.\n",
    "\n",
    "Загрузите данные решения, посчитайте значение энергопотребления для требуемых дат для тех зданий, которые посчитаны в модели, и выгрузите результат в виде CSV-файла (submission.csv)."
   ],
   "metadata": {}
  },
  {
   "cell_type": "code",
   "execution_count": 1,
   "source": [
    "import pandas as pd\n",
    "import numpy as np\n",
    "from sklearn.model_selection import train_test_split\n",
    "from sklearn.linear_model import LinearRegression\n",
    "from pandas.tseries.holiday import USFederalHolidayCalendar as calendar\n",
    "from scipy.interpolate import interp1d"
   ],
   "outputs": [],
   "metadata": {}
  },
  {
   "cell_type": "markdown",
   "source": [
    "### Вспомогательные функции"
   ],
   "metadata": {}
  },
  {
   "cell_type": "code",
   "execution_count": 2,
   "source": [
    "def reduce_mem_usage (df):\n",
    "    start_mem = df.memory_usage().sum() / 1024**2    \n",
    "    for col in df.columns:\n",
    "        col_type = df[col].dtypes\n",
    "        if str(col_type)[:5] == \"float\":\n",
    "            c_min = df[col].min()\n",
    "            c_max = df[col].max()\n",
    "            if c_min > np.finfo(\"f2\").min and c_max < np.finfo(\"f2\").max:\n",
    "                df[col] = df[col].astype(np.float16)\n",
    "            elif c_min > np.finfo(\"f4\").min and c_max < np.finfo(\"f4\").max:\n",
    "                df[col] = df[col].astype(np.float32)\n",
    "            else:\n",
    "                df[col] = df[col].astype(np.float64)\n",
    "        elif str(col_type)[:3] == \"int\":\n",
    "            c_min = df[col].min()\n",
    "            c_max = df[col].max()\n",
    "            if c_min > np.iinfo(\"i1\").min and c_max < np.iinfo(\"i1\").max:\n",
    "                df[col] = df[col].astype(np.int8)\n",
    "            elif c_min > np.iinfo(\"i2\").min and c_max < np.iinfo(\"i2\").max:\n",
    "                df[col] = df[col].astype(np.int16)\n",
    "            elif c_min > np.iinfo(\"i4\").min and c_max < np.iinfo(\"i4\").max:\n",
    "                df[col] = df[col].astype(np.int32)\n",
    "            elif c_min > np.iinfo(\"i8\").min and c_max < np.iinfo(\"i8\").max:\n",
    "                df[col] = df[col].astype(np.int64)\n",
    "        elif col == \"timestamp\":\n",
    "            df[col] = pd.to_datetime(df[col])\n",
    "        elif str(col_type)[:8] != \"datetime\":\n",
    "            df[col] = df[col].astype(\"category\")\n",
    "    end_mem = df.memory_usage().sum() / 1024**2\n",
    "    print('Потребление памяти меньше на', round(start_mem - end_mem, 2), 'Мб (минус', round(100 * (start_mem - end_mem) / start_mem, 1), '%)')\n",
    "    return df"
   ],
   "outputs": [],
   "metadata": {}
  },
  {
   "cell_type": "markdown",
   "source": [
    "## Данные для обучения"
   ],
   "metadata": {}
  },
  {
   "cell_type": "code",
   "execution_count": 3,
   "source": [
    "# Загрузка\n",
    "buildings = pd.read_csv('./data/building_metadata.csv.gz', usecols=['site_id', 'building_id'])\n",
    "\n",
    "weather = pd.read_csv('./data/weather_train.csv.gz')\n",
    "# Возьмем только site_id = 0 для сокращения времени расчета\n",
    "weather = weather[weather['site_id'] == 0]\n",
    "\n",
    "energy = pd.read_csv('./data/train.0.csv.gz')\n",
    "# Берем данные по энергопотреблению для первых 50 зданий\n",
    "energy = energy[energy['building_id'] < 50]\n",
    "energy = energy[energy[\"meter_reading\"] > 0]"
   ],
   "outputs": [],
   "metadata": {}
  },
  {
   "cell_type": "code",
   "execution_count": 4,
   "source": [
    "# Данные погоды\n",
    "## Интерполяция пропусков\n",
    "weather[\"precip_depth_1_hr\"] = weather[\"precip_depth_1_hr\"].apply(lambda x:x if x>0 else 0)\n",
    "interpolate_columns = [\"air_temperature\", \"dew_temperature\",\n",
    "                       \"cloud_coverage\", \"wind_speed\", \"wind_direction\",\n",
    "                       \"precip_depth_1_hr\", \"sea_level_pressure\"]\n",
    "for col in interpolate_columns:\n",
    "    weather[col] = weather[col].interpolate(limit_direction='both',\n",
    "                            kind='cubic')\n",
    "\n",
    "## Обогащение данных\n",
    "weather[\"wind_direction_rad\"] = weather[\"wind_direction\"] * np.pi/180\n",
    "weather[\"wind_direction_sin\"] = np.sin(weather[\"wind_direction_rad\"])\n",
    "weather[\"wind_direction_cos\"] = np.cos(weather[\"wind_direction_rad\"])\n",
    "weather[\"air_temperature_diff1\"] = weather[\"air_temperature\"].diff()\n",
    "weather.at[0, \"air_temperature_diff1\"] = weather.at[1, \"air_temperature_diff1\"]\n",
    "weather[\"air_temperature_diff2\"] = weather[\"air_temperature_diff1\"].diff()\n",
    "weather.at[0, \"air_temperature_diff2\"] = weather.at[1, \"air_temperature_diff2\"]"
   ],
   "outputs": [],
   "metadata": {}
  },
  {
   "cell_type": "code",
   "execution_count": 5,
   "source": [
    "# Данные по энергопотреблению\n",
    "## Обогащение данных\n",
    "energy['timestamp'] = pd.to_datetime(energy['timestamp'])\n",
    "energy[\"hour\"] = energy[\"timestamp\"].dt.hour.astype(\"int8\")\n",
    "energy[\"weekday\"] = energy[\"timestamp\"].dt.weekday.astype(\"int8\")\n",
    "energy[\"week\"] = energy[\"timestamp\"].dt.week.astype(\"int8\")\n",
    "energy[\"month\"] = energy[\"timestamp\"].dt.month.astype(\"int8\")\n",
    "energy[\"date\"] = pd.to_datetime(energy[\"timestamp\"].dt.date)\n",
    "dates_range = pd.date_range(start='2015-12-31', end='2017-01-01')\n",
    "us_holidays = calendar().holidays(start=dates_range.min(), end=dates_range.max())\n",
    "energy['is_holiday'] = energy['date'].isin(us_holidays).astype(\"int8\")\n",
    "for weekday in range(0,7):\n",
    "    energy['is_wday' + str(weekday)] = energy['weekday'].isin([weekday]).astype(\"int8\")\n",
    "for week in range(1,54):\n",
    "    energy['is_w' + str(week)] = energy['week'].isin([week]).astype(\"int8\")\n",
    "for month in range(1,13):\n",
    "    energy['is_m' + str(month)] = energy['month'].isin([month]).astype(\"int8\")\n",
    "\n",
    "energy[\"meter_reading_log\"] = np.log(energy[\"meter_reading\"] + 1)"
   ],
   "outputs": [
    {
     "output_type": "stream",
     "name": "stderr",
     "text": [
      "/tmp/ipykernel_7823/878717931.py:6: FutureWarning: Series.dt.weekofyear and Series.dt.week have been deprecated.  Please use Series.dt.isocalendar().week instead.\n",
      "  energy[\"week\"] = energy[\"timestamp\"].dt.week.astype(\"int8\")\n"
     ]
    }
   ],
   "metadata": {}
  },
  {
   "cell_type": "code",
   "execution_count": 6,
   "source": [
    "#  Объединим данные\n",
    "energy = pd.merge(left=energy, right=buildings, how='left', left_on='building_id', right_on='building_id')\n",
    "\n",
    "energy = energy.set_index([\"timestamp\", \"site_id\"])\n",
    "weather['timestamp'] = pd.to_datetime(weather['timestamp'])\n",
    "weather = weather.set_index([\"timestamp\", \"site_id\"])\n",
    "data_train = pd.merge(left=energy, right=weather, how=\"left\", left_index=True, right_index=True)\n",
    "data_train.reset_index(inplace=True)"
   ],
   "outputs": [],
   "metadata": {}
  },
  {
   "cell_type": "code",
   "execution_count": 7,
   "source": [
    "#  Удалим ненужные столбцы и оптимизируем памать\n",
    "data_train = data_train.drop(columns=['meter', 'site_id', 'timestamp'], axis=1)\n",
    "data_train = reduce_mem_usage(data_train)\n",
    "del weather\n",
    "del energy\n",
    "print (data_train.info())"
   ],
   "outputs": [
    {
     "output_type": "stream",
     "name": "stdout",
     "text": [
      "Потребление памяти меньше на 23.35 Мб (минус 44.4 %)\n",
      "<class 'pandas.core.frame.DataFrame'>\n",
      "RangeIndex: 269067 entries, 0 to 269066\n",
      "Data columns (total 93 columns):\n",
      " #   Column                 Non-Null Count   Dtype         \n",
      "---  ------                 --------------   -----         \n",
      " 0   building_id            269067 non-null  int8          \n",
      " 1   meter_reading          269067 non-null  float16       \n",
      " 2   hour                   269067 non-null  int8          \n",
      " 3   weekday                269067 non-null  int8          \n",
      " 4   week                   269067 non-null  int8          \n",
      " 5   month                  269067 non-null  int8          \n",
      " 6   date                   269067 non-null  datetime64[ns]\n",
      " 7   is_holiday             269067 non-null  int8          \n",
      " 8   is_wday0               269067 non-null  int8          \n",
      " 9   is_wday1               269067 non-null  int8          \n",
      " 10  is_wday2               269067 non-null  int8          \n",
      " 11  is_wday3               269067 non-null  int8          \n",
      " 12  is_wday4               269067 non-null  int8          \n",
      " 13  is_wday5               269067 non-null  int8          \n",
      " 14  is_wday6               269067 non-null  int8          \n",
      " 15  is_w1                  269067 non-null  int8          \n",
      " 16  is_w2                  269067 non-null  int8          \n",
      " 17  is_w3                  269067 non-null  int8          \n",
      " 18  is_w4                  269067 non-null  int8          \n",
      " 19  is_w5                  269067 non-null  int8          \n",
      " 20  is_w6                  269067 non-null  int8          \n",
      " 21  is_w7                  269067 non-null  int8          \n",
      " 22  is_w8                  269067 non-null  int8          \n",
      " 23  is_w9                  269067 non-null  int8          \n",
      " 24  is_w10                 269067 non-null  int8          \n",
      " 25  is_w11                 269067 non-null  int8          \n",
      " 26  is_w12                 269067 non-null  int8          \n",
      " 27  is_w13                 269067 non-null  int8          \n",
      " 28  is_w14                 269067 non-null  int8          \n",
      " 29  is_w15                 269067 non-null  int8          \n",
      " 30  is_w16                 269067 non-null  int8          \n",
      " 31  is_w17                 269067 non-null  int8          \n",
      " 32  is_w18                 269067 non-null  int8          \n",
      " 33  is_w19                 269067 non-null  int8          \n",
      " 34  is_w20                 269067 non-null  int8          \n",
      " 35  is_w21                 269067 non-null  int8          \n",
      " 36  is_w22                 269067 non-null  int8          \n",
      " 37  is_w23                 269067 non-null  int8          \n",
      " 38  is_w24                 269067 non-null  int8          \n",
      " 39  is_w25                 269067 non-null  int8          \n",
      " 40  is_w26                 269067 non-null  int8          \n",
      " 41  is_w27                 269067 non-null  int8          \n",
      " 42  is_w28                 269067 non-null  int8          \n",
      " 43  is_w29                 269067 non-null  int8          \n",
      " 44  is_w30                 269067 non-null  int8          \n",
      " 45  is_w31                 269067 non-null  int8          \n",
      " 46  is_w32                 269067 non-null  int8          \n",
      " 47  is_w33                 269067 non-null  int8          \n",
      " 48  is_w34                 269067 non-null  int8          \n",
      " 49  is_w35                 269067 non-null  int8          \n",
      " 50  is_w36                 269067 non-null  int8          \n",
      " 51  is_w37                 269067 non-null  int8          \n",
      " 52  is_w38                 269067 non-null  int8          \n",
      " 53  is_w39                 269067 non-null  int8          \n",
      " 54  is_w40                 269067 non-null  int8          \n",
      " 55  is_w41                 269067 non-null  int8          \n",
      " 56  is_w42                 269067 non-null  int8          \n",
      " 57  is_w43                 269067 non-null  int8          \n",
      " 58  is_w44                 269067 non-null  int8          \n",
      " 59  is_w45                 269067 non-null  int8          \n",
      " 60  is_w46                 269067 non-null  int8          \n",
      " 61  is_w47                 269067 non-null  int8          \n",
      " 62  is_w48                 269067 non-null  int8          \n",
      " 63  is_w49                 269067 non-null  int8          \n",
      " 64  is_w50                 269067 non-null  int8          \n",
      " 65  is_w51                 269067 non-null  int8          \n",
      " 66  is_w52                 269067 non-null  int8          \n",
      " 67  is_w53                 269067 non-null  int8          \n",
      " 68  is_m1                  269067 non-null  int8          \n",
      " 69  is_m2                  269067 non-null  int8          \n",
      " 70  is_m3                  269067 non-null  int8          \n",
      " 71  is_m4                  269067 non-null  int8          \n",
      " 72  is_m5                  269067 non-null  int8          \n",
      " 73  is_m6                  269067 non-null  int8          \n",
      " 74  is_m7                  269067 non-null  int8          \n",
      " 75  is_m8                  269067 non-null  int8          \n",
      " 76  is_m9                  269067 non-null  int8          \n",
      " 77  is_m10                 269067 non-null  int8          \n",
      " 78  is_m11                 269067 non-null  int8          \n",
      " 79  is_m12                 269067 non-null  int8          \n",
      " 80  meter_reading_log      269067 non-null  float16       \n",
      " 81  air_temperature        269067 non-null  float16       \n",
      " 82  cloud_coverage         269067 non-null  float16       \n",
      " 83  dew_temperature        269067 non-null  float16       \n",
      " 84  precip_depth_1_hr      269067 non-null  float16       \n",
      " 85  sea_level_pressure     269067 non-null  float16       \n",
      " 86  wind_direction         269067 non-null  float16       \n",
      " 87  wind_speed             269067 non-null  float16       \n",
      " 88  wind_direction_rad     269067 non-null  float16       \n",
      " 89  wind_direction_sin     269067 non-null  float16       \n",
      " 90  wind_direction_cos     269067 non-null  float16       \n",
      " 91  air_temperature_diff1  269067 non-null  float16       \n",
      " 92  air_temperature_diff2  269067 non-null  float16       \n",
      "dtypes: datetime64[ns](1), float16(14), int8(78)\n",
      "memory usage: 29.3 MB\n",
      "None\n"
     ]
    }
   ],
   "metadata": {}
  },
  {
   "cell_type": "markdown",
   "source": [
    "## Строим модели"
   ],
   "metadata": {}
  },
  {
   "cell_type": "code",
   "execution_count": 8,
   "source": [
    "# Набор параметров для каждой модели\n",
    "## Модель 1. Весь оптимальный набор метео данных\n",
    "lr_weather_columns = [\"meter_reading_log\", \"hour\", \"building_id\",\n",
    "                      \"air_temperature\", \"dew_temperature\",\n",
    "                      \"sea_level_pressure\", \"wind_speed\",\n",
    "                      \"air_temperature_diff1\", \"air_temperature_diff2\",\n",
    "                      \"cloud_coverage\",\n",
    "                      \"wind_direction_rad\", \"wind_direction_sin\", \"wind_direction_rad\"]\n",
    "\n",
    "## Модель 2. Дни недели и праздники                      \n",
    "lr_day_columns = [\"meter_reading_log\", \"hour\", \"building_id\", \"is_holiday\"]\n",
    "for wday in range(0,7):\n",
    "    lr_day_columns.append(\"is_wday\" + str(wday))\n",
    "\n",
    "## Модель 3. Недели года                      \n",
    "lr_week_columns = [\"meter_reading_log\", \"hour\", \"building_id\"]\n",
    "for week in range(1,54):\n",
    "    lr_week_columns.append(\"is_w\" + str(week))\n",
    "\n",
    "## Модель 4. Месяцы                      \n",
    "lr_month_columns = [\"meter_reading_log\", \"hour\", \"building_id\"]\n",
    "for month in range(1,13):\n",
    "    lr_month_columns.append(\"is_m\" + str(month))\n",
    "\n",
    "hours = range(0, 24)\n",
    "building_ids = range(0, data_train[\"building_id\"].max() + 1)"
   ],
   "outputs": [],
   "metadata": {}
  },
  {
   "cell_type": "code",
   "execution_count": 9,
   "source": [
    "def train_model (df, columns):\n",
    "    df_train_lr = pd.DataFrame(df, columns=columns)\n",
    "    lr_models = [[]]*len(buildings)\n",
    "    for building in building_ids:\n",
    "        lr_models[building] = [[]]*len(hours)\n",
    "        df_train_b = df_train_lr[df_train_lr[\"building_id\"]==building]\n",
    "        for hour in hours:\n",
    "            df_train_bh = df_train_b[df_train_b[\"hour\"]==hour]\n",
    "            y = df_train_bh[\"meter_reading_log\"]\n",
    "            x = df_train_bh.drop(labels=[\"meter_reading_log\", \"hour\", \"building_id\"], axis=1)\n",
    "            model = LinearRegression(fit_intercept=False).fit(x, y)\n",
    "            lr_models[building][hour] = model.coef_\n",
    "            lr_models[building][hour] = np.append(lr_models[building][hour], model.intercept_)\n",
    "    return lr_models"
   ],
   "outputs": [],
   "metadata": {}
  },
  {
   "cell_type": "code",
   "execution_count": 10,
   "source": [
    "# Расчет отдельных моделей\n",
    "data_train_1, data_test_1 = train_test_split(data_train, test_size=0.1)\n",
    "\n",
    "lr_weather_models = train_model(data_train_1, lr_weather_columns)\n",
    "lr_day_models = train_model(data_train_1, lr_day_columns)\n",
    "lr_week_models = train_model(data_train_1, lr_week_columns)\n",
    "lr_month_models = train_model(data_train_1, lr_month_columns)"
   ],
   "outputs": [],
   "metadata": {}
  },
  {
   "cell_type": "code",
   "execution_count": 11,
   "source": [
    "def calculate_model_ensemble (x, model, columns):\n",
    "    lr = -1\n",
    "    if len(model) > 0:\n",
    "        lr = np.sum([x[col] * model[i] for i,col in enumerate(columns[3:])])\n",
    "        # lr += model[len(columns)-3]\n",
    "        lr += model[-1]\n",
    "        lr = np.exp(lr)\n",
    "    if lr < 0 or lr*lr == lr:\n",
    "        lr = 0\n",
    "\n",
    "    return lr\n",
    "\n",
    "def calculate_models_ensemble (x):\n",
    "    lr_weather = calculate_model_ensemble(x, model=lr_weather_models[x.building_id][x.hour], columns=lr_weather_columns)\n",
    "    lr_day = calculate_model_ensemble(x, model=lr_day_models[x.building_id][x.hour], columns=lr_day_columns)\n",
    "    lr_week = calculate_model_ensemble(x, model=lr_week_models[x.building_id][x.hour], columns=lr_week_columns)\n",
    "    lr_month = calculate_model_ensemble(x, model=lr_month_models[x.building_id][x.hour], columns=lr_month_columns)    \n",
    "    lr_ensemble = lr_weather * 3/8 + lr_day * 3/8 + lr_week * 1/8 + lr_month * 1/8\n",
    "\n",
    "    x['meter_reading_lr_weather'] = lr_weather\n",
    "    x['meter_reading_lr_day'] = lr_day\n",
    "    x['meter_reading_lr_week'] = lr_week\n",
    "    x['meter_reading_lr_month'] = lr_month\n",
    "    x['meter_reading_lr_ensemble'] = lr_ensemble\n",
    "\n",
    "    return x"
   ],
   "outputs": [],
   "metadata": {}
  },
  {
   "cell_type": "code",
   "execution_count": 12,
   "source": [
    "data_test_1 = data_test_1.apply(calculate_models_ensemble, axis=1, result_type='expand')"
   ],
   "outputs": [],
   "metadata": {}
  },
  {
   "cell_type": "code",
   "execution_count": 13,
   "source": [
    "# Проверка качества моделей\n",
    "from sklearn.metrics import mean_squared_log_error\n",
    "\n",
    "rmsle_weather = np.sqrt(mean_squared_log_error(data_test_1['meter_reading'], data_test_1['meter_reading_lr_weather']))\n",
    "print('LR weather:', round(rmsle_weather, 4))\n",
    "rmsle_day = np.sqrt(mean_squared_log_error(data_test_1['meter_reading'], data_test_1['meter_reading_lr_day']))\n",
    "print('LR day:', round(rmsle_day, 4))\n",
    "rmsle_week = np.sqrt(mean_squared_log_error(data_test_1['meter_reading'], data_test_1['meter_reading_lr_week']))\n",
    "print('LR week:', round(rmsle_week, 4))\n",
    "rmsle_month = np.sqrt(mean_squared_log_error(data_test_1['meter_reading'], data_test_1['meter_reading_lr_month']))\n",
    "print('LR month:', round(rmsle_month, 4))\n",
    "\n",
    "rmsle_ensemble = np.sqrt(mean_squared_log_error(data_test_1['meter_reading'], data_test_1['meter_reading_lr_ensemble']))\n",
    "print('LR esemble: ', round(rmsle_ensemble, 4))"
   ],
   "outputs": [
    {
     "output_type": "stream",
     "name": "stdout",
     "text": [
      "LR weather: 0.2622\n",
      "LR day: 0.2972\n",
      "LR week: 0.2873\n",
      "LR month: 0.2568\n",
      "LR esemble:  0.2394\n"
     ]
    }
   ],
   "metadata": {}
  },
  {
   "cell_type": "markdown",
   "source": [
    "## Данные для тестирования"
   ],
   "metadata": {}
  },
  {
   "cell_type": "code",
   "execution_count": 14,
   "source": [
    "# Загрузка\n",
    "weather = pd.read_csv('./data/weather_test.csv.gz')\n",
    "# Возьмем только site_id = 0 для сокращения времени расчета\n",
    "weather = weather[weather['site_id'] == 0]\n",
    "\n",
    "energy = pd.read_csv('./data/test.csv.gz')\n",
    "# Берем данные по энергопотреблению для первых 50 зданий\n",
    "energy = energy[energy['building_id'] < 50]\n",
    "print(energy.info())"
   ],
   "outputs": [
    {
     "output_type": "stream",
     "name": "stdout",
     "text": [
      "<class 'pandas.core.frame.DataFrame'>\n",
      "Int64Index: 1051200 entries, 0 to 2260073\n",
      "Data columns (total 4 columns):\n",
      " #   Column       Non-Null Count    Dtype \n",
      "---  ------       --------------    ----- \n",
      " 0   row_id       1051200 non-null  int64 \n",
      " 1   building_id  1051200 non-null  int64 \n",
      " 2   meter        1051200 non-null  int64 \n",
      " 3   timestamp    1051200 non-null  object\n",
      "dtypes: int64(3), object(1)\n",
      "memory usage: 40.1+ MB\n",
      "None\n"
     ]
    }
   ],
   "metadata": {}
  },
  {
   "cell_type": "code",
   "execution_count": 15,
   "source": [
    "# Данные погоды\n",
    "## Интерполяция пропусков\n",
    "weather[\"precip_depth_1_hr\"] = weather[\"precip_depth_1_hr\"].apply(lambda x:x if x>0 else 0)\n",
    "interpolate_columns = [\"air_temperature\", \"dew_temperature\",\n",
    "                       \"cloud_coverage\", \"wind_speed\", \"wind_direction\",\n",
    "                       \"precip_depth_1_hr\", \"sea_level_pressure\"]\n",
    "for col in interpolate_columns:\n",
    "    weather[col] = weather[col].interpolate(limit_direction='both',\n",
    "                            kind='cubic')\n",
    "\n",
    "## Обогащение данных\n",
    "weather[\"wind_direction_rad\"] = weather[\"wind_direction\"] * np.pi/180\n",
    "weather[\"wind_direction_sin\"] = np.sin(weather[\"wind_direction_rad\"])\n",
    "weather[\"wind_direction_cos\"] = np.cos(weather[\"wind_direction_rad\"])\n",
    "weather[\"air_temperature_diff1\"] = weather[\"air_temperature\"].diff()\n",
    "weather.at[0, \"air_temperature_diff1\"] = weather.at[1, \"air_temperature_diff1\"]\n",
    "weather[\"air_temperature_diff2\"] = weather[\"air_temperature_diff1\"].diff()\n",
    "weather.at[0, \"air_temperature_diff2\"] = weather.at[1, \"air_temperature_diff2\"]"
   ],
   "outputs": [],
   "metadata": {}
  },
  {
   "cell_type": "code",
   "execution_count": 16,
   "source": [
    "# Данные по энергопотреблению\n",
    "## Обогащение данных\n",
    "energy['timestamp'] = pd.to_datetime(energy['timestamp'])\n",
    "energy[\"hour\"] = energy[\"timestamp\"].dt.hour.astype(\"int8\")\n",
    "energy[\"weekday\"] = energy[\"timestamp\"].dt.weekday.astype(\"int8\")\n",
    "energy[\"week\"] = energy[\"timestamp\"].dt.week.astype(\"int8\")\n",
    "energy[\"month\"] = energy[\"timestamp\"].dt.month.astype(\"int8\")\n",
    "energy[\"date\"] = pd.to_datetime(energy[\"timestamp\"].dt.date)\n",
    "dates_range = pd.date_range(start='2015-12-31', end='2017-01-01')\n",
    "us_holidays = calendar().holidays(start=dates_range.min(), end=dates_range.max())\n",
    "energy['is_holiday'] = energy['date'].isin(us_holidays).astype(\"int8\")\n",
    "for weekday in range(0,7):\n",
    "    energy['is_wday' + str(weekday)] = energy['weekday'].isin([weekday]).astype(\"int8\")\n",
    "for week in range(1,54):\n",
    "    energy['is_w' + str(week)] = energy['week'].isin([week]).astype(\"int8\")\n",
    "for month in range(1,13):\n",
    "    energy['is_m' + str(month)] = energy['month'].isin([month]).astype(\"int8\")"
   ],
   "outputs": [
    {
     "output_type": "stream",
     "name": "stderr",
     "text": [
      "/tmp/ipykernel_7823/3761125146.py:6: FutureWarning: Series.dt.weekofyear and Series.dt.week have been deprecated.  Please use Series.dt.isocalendar().week instead.\n",
      "  energy[\"week\"] = energy[\"timestamp\"].dt.week.astype(\"int8\")\n"
     ]
    }
   ],
   "metadata": {}
  },
  {
   "cell_type": "code",
   "execution_count": 17,
   "source": [
    "#  Объединим данные\n",
    "energy = pd.merge(left=energy, right=buildings, how='left', left_on='building_id', right_on='building_id')\n",
    "\n",
    "energy = energy.set_index([\"timestamp\", \"site_id\"])\n",
    "weather['timestamp'] = pd.to_datetime(weather['timestamp'])\n",
    "weather = weather.set_index([\"timestamp\", \"site_id\"])\n",
    "data_test = pd.merge(left=energy, right=weather, how=\"left\", left_index=True, right_index=True)\n",
    "data_test.reset_index(inplace=True)"
   ],
   "outputs": [],
   "metadata": {}
  },
  {
   "cell_type": "code",
   "execution_count": 18,
   "source": [
    "#  Удалим ненужные столбцы и оптимизируем памать\n",
    "data_test = data_test.drop(columns=['meter', 'site_id', 'timestamp'], axis=1)\n",
    "data_test = reduce_mem_usage(data_test)\n",
    "del weather\n",
    "del energy\n",
    "print (data_test.info())"
   ],
   "outputs": [
    {
     "output_type": "stream",
     "name": "stdout",
     "text": [
      "Потребление памяти меньше на 83.21 Мб (минус 42.1 %)\n",
      "<class 'pandas.core.frame.DataFrame'>\n",
      "RangeIndex: 1051200 entries, 0 to 1051199\n",
      "Data columns (total 92 columns):\n",
      " #   Column                 Non-Null Count    Dtype         \n",
      "---  ------                 --------------    -----         \n",
      " 0   row_id                 1051200 non-null  int32         \n",
      " 1   building_id            1051200 non-null  int8          \n",
      " 2   hour                   1051200 non-null  int8          \n",
      " 3   weekday                1051200 non-null  int8          \n",
      " 4   week                   1051200 non-null  int8          \n",
      " 5   month                  1051200 non-null  int8          \n",
      " 6   date                   1051200 non-null  datetime64[ns]\n",
      " 7   is_holiday             1051200 non-null  int8          \n",
      " 8   is_wday0               1051200 non-null  int8          \n",
      " 9   is_wday1               1051200 non-null  int8          \n",
      " 10  is_wday2               1051200 non-null  int8          \n",
      " 11  is_wday3               1051200 non-null  int8          \n",
      " 12  is_wday4               1051200 non-null  int8          \n",
      " 13  is_wday5               1051200 non-null  int8          \n",
      " 14  is_wday6               1051200 non-null  int8          \n",
      " 15  is_w1                  1051200 non-null  int8          \n",
      " 16  is_w2                  1051200 non-null  int8          \n",
      " 17  is_w3                  1051200 non-null  int8          \n",
      " 18  is_w4                  1051200 non-null  int8          \n",
      " 19  is_w5                  1051200 non-null  int8          \n",
      " 20  is_w6                  1051200 non-null  int8          \n",
      " 21  is_w7                  1051200 non-null  int8          \n",
      " 22  is_w8                  1051200 non-null  int8          \n",
      " 23  is_w9                  1051200 non-null  int8          \n",
      " 24  is_w10                 1051200 non-null  int8          \n",
      " 25  is_w11                 1051200 non-null  int8          \n",
      " 26  is_w12                 1051200 non-null  int8          \n",
      " 27  is_w13                 1051200 non-null  int8          \n",
      " 28  is_w14                 1051200 non-null  int8          \n",
      " 29  is_w15                 1051200 non-null  int8          \n",
      " 30  is_w16                 1051200 non-null  int8          \n",
      " 31  is_w17                 1051200 non-null  int8          \n",
      " 32  is_w18                 1051200 non-null  int8          \n",
      " 33  is_w19                 1051200 non-null  int8          \n",
      " 34  is_w20                 1051200 non-null  int8          \n",
      " 35  is_w21                 1051200 non-null  int8          \n",
      " 36  is_w22                 1051200 non-null  int8          \n",
      " 37  is_w23                 1051200 non-null  int8          \n",
      " 38  is_w24                 1051200 non-null  int8          \n",
      " 39  is_w25                 1051200 non-null  int8          \n",
      " 40  is_w26                 1051200 non-null  int8          \n",
      " 41  is_w27                 1051200 non-null  int8          \n",
      " 42  is_w28                 1051200 non-null  int8          \n",
      " 43  is_w29                 1051200 non-null  int8          \n",
      " 44  is_w30                 1051200 non-null  int8          \n",
      " 45  is_w31                 1051200 non-null  int8          \n",
      " 46  is_w32                 1051200 non-null  int8          \n",
      " 47  is_w33                 1051200 non-null  int8          \n",
      " 48  is_w34                 1051200 non-null  int8          \n",
      " 49  is_w35                 1051200 non-null  int8          \n",
      " 50  is_w36                 1051200 non-null  int8          \n",
      " 51  is_w37                 1051200 non-null  int8          \n",
      " 52  is_w38                 1051200 non-null  int8          \n",
      " 53  is_w39                 1051200 non-null  int8          \n",
      " 54  is_w40                 1051200 non-null  int8          \n",
      " 55  is_w41                 1051200 non-null  int8          \n",
      " 56  is_w42                 1051200 non-null  int8          \n",
      " 57  is_w43                 1051200 non-null  int8          \n",
      " 58  is_w44                 1051200 non-null  int8          \n",
      " 59  is_w45                 1051200 non-null  int8          \n",
      " 60  is_w46                 1051200 non-null  int8          \n",
      " 61  is_w47                 1051200 non-null  int8          \n",
      " 62  is_w48                 1051200 non-null  int8          \n",
      " 63  is_w49                 1051200 non-null  int8          \n",
      " 64  is_w50                 1051200 non-null  int8          \n",
      " 65  is_w51                 1051200 non-null  int8          \n",
      " 66  is_w52                 1051200 non-null  int8          \n",
      " 67  is_w53                 1051200 non-null  int8          \n",
      " 68  is_m1                  1051200 non-null  int8          \n",
      " 69  is_m2                  1051200 non-null  int8          \n",
      " 70  is_m3                  1051200 non-null  int8          \n",
      " 71  is_m4                  1051200 non-null  int8          \n",
      " 72  is_m5                  1051200 non-null  int8          \n",
      " 73  is_m6                  1051200 non-null  int8          \n",
      " 74  is_m7                  1051200 non-null  int8          \n",
      " 75  is_m8                  1051200 non-null  int8          \n",
      " 76  is_m9                  1051200 non-null  int8          \n",
      " 77  is_m10                 1051200 non-null  int8          \n",
      " 78  is_m11                 1051200 non-null  int8          \n",
      " 79  is_m12                 1051200 non-null  int8          \n",
      " 80  air_temperature        1051200 non-null  float16       \n",
      " 81  cloud_coverage         1051200 non-null  float16       \n",
      " 82  dew_temperature        1051200 non-null  float16       \n",
      " 83  precip_depth_1_hr      1051200 non-null  float16       \n",
      " 84  sea_level_pressure     1051200 non-null  float16       \n",
      " 85  wind_direction         1051200 non-null  float16       \n",
      " 86  wind_speed             1051200 non-null  float16       \n",
      " 87  wind_direction_rad     1051200 non-null  float16       \n",
      " 88  wind_direction_sin     1051200 non-null  float16       \n",
      " 89  wind_direction_cos     1051200 non-null  float16       \n",
      " 90  air_temperature_diff1  1051200 non-null  float16       \n",
      " 91  air_temperature_diff2  1051200 non-null  float16       \n",
      "dtypes: datetime64[ns](1), float16(12), int32(1), int8(78)\n",
      "memory usage: 114.3 MB\n",
      "None\n"
     ]
    }
   ],
   "metadata": {}
  },
  {
   "cell_type": "code",
   "execution_count": null,
   "source": [
    "# Рассчитаем тестовые данные\n",
    "data_test = data_test.apply(calculate_models_ensemble, axis=1, result_type='expand')"
   ],
   "outputs": [],
   "metadata": {}
  },
  {
   "cell_type": "code",
   "execution_count": null,
   "source": [
    "# Подготовка результатов в требуемом формате\n",
    "results_ready = pd.DataFrame(data_test, columns=[\"row_id\", \"meter_reading_lr_ensemble\"])\n",
    "results_ready['meter_reading'] = results_ready['meter_reading_lr_ensemble']\n",
    "results_ready = results_ready.drop(labels=['meter_reading_lr_ensemble'], axis=1)\n",
    "\n",
    "results = pd.read_csv(\"./data/test.csv.gz\", usecols=[\"row_id\"])\n",
    "results = pd.merge(left=results, right=results_ready, how=\"left\", left_on=\"row_id\", right_on=\"row_id\")\n",
    "results.fillna(value=0, inplace=True)\n",
    "print (results.info())"
   ],
   "outputs": [],
   "metadata": {}
  },
  {
   "cell_type": "code",
   "execution_count": null,
   "source": [
    "results.to_csv(\"./data/submission.csv\",index=False)"
   ],
   "outputs": [],
   "metadata": {}
  },
  {
   "cell_type": "code",
   "execution_count": null,
   "source": [
    "del data_train\n",
    "del data_test\n",
    "del results\n",
    "del results_ready"
   ],
   "outputs": [],
   "metadata": {}
  }
 ],
 "metadata": {
  "orig_nbformat": 4,
  "language_info": {
   "name": "python",
   "version": "3.8.5",
   "mimetype": "text/x-python",
   "codemirror_mode": {
    "name": "ipython",
    "version": 3
   },
   "pygments_lexer": "ipython3",
   "nbconvert_exporter": "python",
   "file_extension": ".py"
  },
  "kernelspec": {
   "name": "python3",
   "display_name": "Python 3.8.5 64-bit"
  },
  "interpreter": {
   "hash": "916dbcbb3f70747c44a77c7bcd40155683ae19c65e1c03b4aa3499c5328201f1"
  }
 },
 "nbformat": 4,
 "nbformat_minor": 2
}