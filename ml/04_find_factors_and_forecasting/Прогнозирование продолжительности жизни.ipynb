{
 "cells": [
  {
   "cell_type": "markdown",
   "metadata": {},
   "source": [
    "## Постановка задачи\n",
    "Требуется предсказать ожидаемую продолжительность жизни на 2019 год в РФ, пердварительно выявив факторы, в наибольшей степени влияющие на этот показатель.\n",
    "\n",
    "## Описание\n",
    "Соберите случайный ансамбль из нескольких методов выделения факторов - корреляции, взаимной информации, важности признаков, главных компонент, независимых компонент и др. Получите не менее 3 наборов из 5 наиболее важных признаков.\n",
    "\n",
    "Соберите для каждого набора ансамбль стекинга для задачи, используя (но не ограничиваясь) решающими деревьями, CatBoost, линейной регрессией - всего не менее 3 ансамблей стекинга, каждый из которых состоит из большого числа разнородных моделей.\n",
    "\n",
    "Используя эти ансамбли, предскажите продолжительность жизни на 2019 год.\n",
    "\n",
    "Данные:\n",
    "video.ittensive.com/machine-learning/sc-tatar2020/rosstat/rosstat.csv"
   ]
  },
  {
   "cell_type": "markdown",
   "metadata": {},
   "source": [
    "### Подключение библиотек"
   ]
  },
  {
   "cell_type": "code",
   "execution_count": null,
   "metadata": {},
   "outputs": [],
   "source": [
    "from sklearn.decomposition import PCA, FastICA\n",
    "from catboost import CatBoostRegressor\n",
    "from sklearn.ensemble import RandomForestRegressor, ExtraTreesRegressor\n",
    "from sklearn.linear_model import LinearRegression\n",
    "from sklearn.preprocessing import MinMaxScaler\n",
    "import numpy as np\n",
    "import pandas as pd\n",
    "%matplotlib inline\n"
   ]
  },
  {
   "cell_type": "code",
   "execution_count": null,
   "metadata": {},
   "outputs": [],
   "source": [
    "def linear_extrapolation(x):\n",
    "    X = np.array(x.dropna().index.astype(int)).reshape(-1, 1)\n",
    "    Y = np.array(x.dropna().values).reshape(-1, 1)\n",
    "    if X.shape[0] > 0:\n",
    "        f = LinearRegression().fit(X, Y)\n",
    "        for i in x.index:\n",
    "            v = x.loc[i]\n",
    "            if v != v:\n",
    "                v = f.predict([[int(i)]])[0][0]\n",
    "                if v < 0:\n",
    "                    v = 0\n",
    "                x.loc[i] = v\n",
    "    return x\n",
    "\n",
    "def make_ensemble(x, y):\n",
    "    pca10 = PCA(n_components=10, random_state=42).fit(x)\n",
    "    pca10_feature_importances = np.zeros(len(pca10.components_[0]))\n",
    "    for c in range(len(pca10.components_)):\n",
    "        pca10_feature_importances += pca10.components_[c]\n",
    "\n",
    "    ica10 = FastICA(n_components=8, random_state=42).fit(x)\n",
    "    ica10_feature_importances = np.zeros(len(ica10.components_[0]))\n",
    "    for c in range(len(ica10.components_)):\n",
    "        ica10_feature_importances += ica10.components_[c]\n",
    "\n",
    "    return {\n",
    "        'rfr250': np.argsort(RandomForestRegressor(n_estimators=250, random_state=17).fit(x, y).feature_importances_)[::-1],\n",
    "        'etr250': np.argsort(ExtraTreesRegressor(n_estimators=250, random_state=17).fit(x, y).feature_importances_)[::-1],\n",
    "        'pca10': np.argsort(np.abs(pca10_feature_importances))[::-1],\n",
    "        'ica10': np.argsort(np.abs(ica10_feature_importances))[::-1]\n",
    "    }\n"
   ]
  },
  {
   "cell_type": "markdown",
   "metadata": {},
   "source": [
    "### Загрузка и очистка данных\n",
    "Линейно интерполируем пропуски, а начальные и конечные пропущенные данные экстраполируем по линейному закону. Удаляем пустые параметры"
   ]
  },
  {
   "cell_type": "code",
   "execution_count": null,
   "metadata": {},
   "outputs": [],
   "source": [
    "data = pd.read_csv(\"./data/rosstat.csv\", na_values=[\"-\", \" - \", \"...\", \"…\", \" -\"])"
   ]
  },
  {
   "cell_type": "code",
   "execution_count": null,
   "metadata": {},
   "outputs": [],
   "source": [
    "# data[data['feature']=='ОЖИДАЕМАЯ ПРОДОЛЖИТЕЛЬНОСТЬ ЖИЗНИ ПРИ РОЖДЕНИИ 1.16.1. Все население (число лет)']['2019']"
   ]
  },
  {
   "cell_type": "code",
   "execution_count": null,
   "metadata": {},
   "outputs": [],
   "source": [
    "features = data[\"feature\"]\n",
    "data.drop(labels=[\"feature\"], inplace=True, axis=1)\n",
    "data.interpolate(method=\"linear\", axis=1, inplace=True)\n",
    "data = data.apply(linear_extrapolation, axis=1, result_type=\"expand\")"
   ]
  },
  {
   "cell_type": "code",
   "execution_count": null,
   "metadata": {},
   "outputs": [],
   "source": [
    "data[\"feature\"] = features\n",
    "data.dropna(inplace=True)\n",
    "features = np.array(data[\"feature\"])\n",
    "data = data.T[:len(data.columns)-1].astype(\"float\")\n",
    "data.drop(labels=[\"2019\"], inplace=True)"
   ]
  },
  {
   "cell_type": "code",
   "execution_count": null,
   "metadata": {},
   "outputs": [],
   "source": [
    "# Нормируем данные для сопоставления влияния разных факторов\n",
    "scaller = MinMaxScaler()\n",
    "data = pd.DataFrame(scaller.fit_transform(data))\n",
    "data.columns = features\n",
    "data.head(10)"
   ]
  },
  {
   "cell_type": "markdown",
   "metadata": {},
   "source": [
    "### Случайные наборы признаков"
   ]
  },
  {
   "cell_type": "code",
   "execution_count": null,
   "metadata": {},
   "outputs": [],
   "source": [
    "y_column = \"ОЖИДАЕМАЯ ПРОДОЛЖИТЕЛЬНОСТЬ ЖИЗНИ ПРИ РОЖДЕНИИ 1.16.1. Все население (число лет)\"\n",
    "y_columns = [\"ОЖИДАЕМАЯ ПРОДОЛЖИТЕЛЬНОСТЬ ЖИЗНИ ПРИ РОЖДЕНИИ 1.16.2. Мужчины (число лет)\",\n",
    "             \"ОЖИДАЕМАЯ ПРОДОЛЖИТЕЛЬНОСТЬ ЖИЗНИ ПРИ РОЖДЕНИИ 1.16.3. Женщины (число лет)\"]\n",
    "y = data[y_column]\n",
    "x = data.drop(labels=[y_column], axis=1).drop(labels=y_columns, axis=1)"
   ]
  },
  {
   "cell_type": "markdown",
   "metadata": {},
   "source": [
    "Обучим несколько моделей на случайном поднаборе признаков, отранжируем признаки по значимости, возьмем 10 наиболее значащих признаков, повторим такой выбор несколько раз, затем выберем топ10 из нескольких итераций"
   ]
  },
  {
   "cell_type": "code",
   "execution_count": null,
   "metadata": {},
   "outputs": [],
   "source": [
    "super_features_n = 3\n",
    "super_features = []\n",
    "subset_size = 20  # 50\n",
    "subset_power = 5  # 100\n",
    "subset_iter = 30  # 50\n",
    "subset_super = 10  # 20\n",
    "\n",
    "for n in range(super_features_n):\n",
    "    super_features.append(np.zeros(len(features)))\n",
    "    for k in range(subset_super):\n",
    "        subset_features = np.zeros(len(features))\n",
    "        for j in range(subset_iter):\n",
    "            features_ensemble = [0]*len(features)\n",
    "            for f_random in np.random.randint(len(features), size=[subset_power, subset_size]):\n",
    "                x_subset = data[features[f_random]].copy()\n",
    "                if y_column in features[f_random]:\n",
    "                    x_subset = x_subset.drop(labels=[y_column], axis=1)\n",
    "                for y_column_ in y_columns:\n",
    "                    if y_column_ in features[f_random]:\n",
    "                        x_subset = x_subset.drop(labels=[y_column_], axis=1)\n",
    "                ensemble = make_ensemble(x_subset, y)\n",
    "                for e in ensemble:\n",
    "                    i = 0\n",
    "                    for f in ensemble[e]:\n",
    "                        features_ensemble[f_random[f]] += subset_size - i\n",
    "                        i += 1\n",
    "            subset_features[np.argsort(features_ensemble)[::-1][:10]] += 1\n",
    "        super_features[n][np.argsort(subset_features)[::-1][:10]] += 1\n"
   ]
  },
  {
   "cell_type": "code",
   "execution_count": null,
   "metadata": {},
   "outputs": [],
   "source": [
    "for xsf in super_features:\n",
    "    print(np.argsort(xsf)[::-1][:5])\n"
   ]
  },
  {
   "cell_type": "code",
   "execution_count": null,
   "metadata": {},
   "outputs": [],
   "source": [
    "for xsf in super_features:\n",
    "    print(features[np.argsort(xsf)[::-1][:5]])\n",
    "    print()"
   ]
  },
  {
   "cell_type": "markdown",
   "metadata": {},
   "source": [
    "## Предсказание на 2019\n",
    "**По итогам 2019 года средняя продолжительность жизни в России достигла очередного исторического максимума и составила 73,4 года**"
   ]
  },
  {
   "cell_type": "code",
   "execution_count": null,
   "metadata": {},
   "outputs": [],
   "source": [
    "y = data[y_column]\n",
    "\n",
    "for features_ in super_features:\n",
    "    main_params = np.argsort(features_)[::-1][:5]\n",
    "    x = data[[features[i] for i in main_params]]\n",
    "\n",
    "    # Сдвинем факторы на год назад: чтобы предсказывать по значениям текущего года - следующий\n",
    "    x_ = x[:-1]\n",
    "    y_ = np.array(y[1:])\n",
    "\n",
    "    # Строим ансамбли\n",
    "    ensemble_lr = []\n",
    "    for i in range(100):\n",
    "        ensemble_lr.append(LinearRegression().fit(x_, y_))\n",
    "\n",
    "    ensemble_et = []\n",
    "    for i in range(100):\n",
    "        ensemble_et.append(ExtraTreesRegressor(\n",
    "            n_estimators=50, random_state=i).fit(x_, y_))\n",
    "\n",
    "    ensemble_cb = []\n",
    "    for i in range(100):\n",
    "        ensemble_cb.append(CatBoostRegressor(\n",
    "            iterations=20, depth=16, random_state=i, verbose=False).fit(x_, y_))\n",
    "\n",
    "    # Вычисляем итоговое предсказание\n",
    "    prediction = 0\n",
    "    for i in range (100):\n",
    "        prediction += ensemble_lr[i].predict(x[-1:])\n",
    "        prediction += ensemble_et[i].predict(x[-1:])\n",
    "        prediction += ensemble_cb[i].predict(x[-1:])\n",
    "    prediction /= 300\n",
    "\n",
    "    # print (prediction)\n",
    "    # Маштабируем предсказание\n",
    "    data_predict = data.copy()\n",
    "    data_predict[y_column] = np.ones(len(data_predict)) * prediction\n",
    "    data_predict = scaller.inverse_transform(data_predict)\n",
    "    \n",
    "    prediction = data_predict[0][np.where(features==y_column)][0]\n",
    "    print(main_params, round(prediction, 4))"
   ]
  }
 ],
 "metadata": {
  "kernelspec": {
   "display_name": "Python 3",
   "language": "python",
   "name": "python3"
  },
  "language_info": {
   "codemirror_mode": {
    "name": "ipython",
    "version": 3
   },
   "file_extension": ".py",
   "mimetype": "text/x-python",
   "name": "python",
   "nbconvert_exporter": "python",
   "pygments_lexer": "ipython3",
   "version": "3.8.10"
  }
 },
 "nbformat": 4,
 "nbformat_minor": 2
}
