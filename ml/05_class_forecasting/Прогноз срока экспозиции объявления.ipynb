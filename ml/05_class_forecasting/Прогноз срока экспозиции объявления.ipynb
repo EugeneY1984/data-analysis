{
 "cells": [
  {
   "cell_type": "markdown",
   "metadata": {},
   "source": [
    "# Прогноз срока экспозиции объявления\n",
    "Каждый пользователь, размещая объявление об аренде квартиры, хочет понимать, сколько времени потребуется для сдачи объекта. В первую очередь такая информация нужна на форме подачи объявлений, что заметно ограничивает набор возможных признаков. Вам предлагается построить модель, прогнозирующую длительность экспозиции объявлений на Яндекс.Недвижимости.\n",
    "Для построения целевой переменной срок экспозиции разбит на несколько классов, каждому из которых соответствует целое число: \"меньше 7 дней\"(1), \"7-14 дней\"(2), \"15-30 дней\"(3), \"30-70 дней\"(4), \"более 70 дней\"(5).\n",
    "Метрика, по которой оцениваются решения, записывается следующим образом:\n",
    "\n",
    "$$metric = \\frac{1}l \\sum_{i=0}^{l}{exp^{|prediction_i - target_i|}}$$\n",
    "\n",
    "### Формат ввода\n",
    "В файле с обучающей выборкой в каждой строке через табуляцию записаны числовой id объявления и набор признаков, характеризующих его.\n",
    "\n",
    "Данные в тестовой выборке exposition_test.tsv представлены в аналогичном формате, за исключением целевой переменной.\n",
    "\n",
    "### Формат вывода\n",
    "Первая строка должна содержать названия столбцов: id target.\n",
    "В каждой последующей строке файла через табуляцию должны быть записаны id объявления и предсказанный класс в виде вещественного числа."
   ]
  },
  {
   "cell_type": "markdown",
   "metadata": {
    "id": "OKWUgpUpAJrv"
   },
   "source": [
    "### Подключение библиотек"
   ]
  },
  {
   "cell_type": "code",
   "execution_count": 31,
   "metadata": {
    "id": "BMMIDKFYAJGG"
   },
   "outputs": [],
   "source": [
    "import pandas as pd\n",
    "import numpy as np\n",
    "from sklearn.linear_model import LinearRegression\n",
    "from sklearn_som.som import SOM\n",
    "import hdbscan\n",
    "from sklearn.preprocessing import MinMaxScaler"
   ]
  },
  {
   "cell_type": "code",
   "execution_count": 32,
   "metadata": {},
   "outputs": [],
   "source": [
    "def reduce_mem_usage (df):\n",
    "    start_mem = df.memory_usage().sum() / 1024**2    \n",
    "    for col in df.columns:\n",
    "        col_type = df[col].dtypes\n",
    "        if str(col_type)[:5] == \"float\":\n",
    "            c_min = df[col].min()\n",
    "            c_max = df[col].max()\n",
    "            if c_min > np.finfo(\"f2\").min and c_max < np.finfo(\"f2\").max:\n",
    "                df[col] = df[col].astype(np.float16)\n",
    "            elif c_min > np.finfo(\"f4\").min and c_max < np.finfo(\"f4\").max:\n",
    "                df[col] = df[col].astype(np.float32)\n",
    "            else:\n",
    "                df[col] = df[col].astype(np.float64)\n",
    "        elif str(col_type)[:3] == \"int\":\n",
    "            c_min = df[col].min()\n",
    "            c_max = df[col].max()\n",
    "            if c_min > np.iinfo(\"i1\").min and c_max < np.iinfo(\"i1\").max:\n",
    "                df[col] = df[col].astype(np.int8)\n",
    "            elif c_min > np.iinfo(\"i2\").min and c_max < np.iinfo(\"i2\").max:\n",
    "                df[col] = df[col].astype(np.int16)\n",
    "            elif c_min > np.iinfo(\"i4\").min and c_max < np.iinfo(\"i4\").max:\n",
    "                df[col] = df[col].astype(np.int32)\n",
    "            elif c_min > np.iinfo(\"i8\").min and c_max < np.iinfo(\"i8\").max:\n",
    "                df[col] = df[col].astype(np.int64)\n",
    "        elif col == \"timestamp\":\n",
    "            df[col] = pd.to_datetime(df[col])\n",
    "        elif str(col_type)[:8] != \"datetime\":\n",
    "            df[col] = df[col].astype(\"category\")\n",
    "    end_mem = df.memory_usage().sum() / 1024**2\n",
    "    print('Потребление памяти меньше на',\n",
    "          round(start_mem - end_mem, 2),\n",
    "          'Мб (минус',\n",
    "          round(100 * (start_mem - end_mem) / start_mem, 1),\n",
    "         '%)')\n",
    "    return df"
   ]
  },
  {
   "cell_type": "markdown",
   "metadata": {},
   "source": [
    "### Загрузка данных"
   ]
  },
  {
   "cell_type": "code",
   "execution_count": 33,
   "metadata": {},
   "outputs": [],
   "source": [
    "### Используем очищенные данные\n",
    "# Заполнены пропуски\n",
    "# Текстовые атрибуты преобразованы в единичные вектора\n",
    "# Добавлены мета-признаки даты\n",
    "# Уточнены цены\n",
    "# Добавллена средняя цена по метро/городу\n",
    "# Удалены слабо коррелириующие признаки\n",
    "\n",
    "train_data = pd.read_csv('./data/exposition_train.basic.csv')\n",
    "test_data = pd.read_csv('./data/exposition_test.csv')"
   ]
  },
  {
   "cell_type": "code",
   "execution_count": 34,
   "metadata": {},
   "outputs": [
    {
     "data": {
      "text/plain": [
       "Index(['total_area', 'ceiling_height', 'rooms', 'living_area', 'price',\n",
       "       'day_mean', 'doy_108', 'price_locality_name_median', 'target',\n",
       "       'day_count'],\n",
       "      dtype='object')"
      ]
     },
     "execution_count": 34,
     "metadata": {},
     "output_type": "execute_result"
    }
   ],
   "source": [
    "train_data.columns"
   ]
  },
  {
   "cell_type": "markdown",
   "metadata": {},
   "source": [
    "### Выравнивание тестовых данных"
   ]
  },
  {
   "cell_type": "code",
   "execution_count": 35,
   "metadata": {},
   "outputs": [],
   "source": [
    "test_data['day'] =  pd.to_datetime(test_data['day'])\n",
    "test_data['doy_108'] = test_data['day'].dt.dayofyear"
   ]
  },
  {
   "cell_type": "code",
   "execution_count": 36,
   "metadata": {},
   "outputs": [],
   "source": [
    "# Построим прогноз day_mean по day_count\n",
    "test_data['day_count'] = test_data.groupby('day')['total_area'].transform('count')"
   ]
  },
  {
   "cell_type": "code",
   "execution_count": 37,
   "metadata": {},
   "outputs": [],
   "source": [
    "x = np.array(train_data['day_count']).reshape(-1, 1)\n",
    "y = train_data['day_mean']\n",
    "model = LinearRegression().fit(x, y)\n",
    "train_data = train_data.drop(labels=['day_count'], axis=1)"
   ]
  },
  {
   "cell_type": "code",
   "execution_count": 38,
   "metadata": {},
   "outputs": [],
   "source": [
    "test_data['day_mean'] = model.predict(np.array(test_data['day_count']).reshape(-1, 1))\n",
    "test_data = test_data.drop(labels=['day_count'], axis=1)"
   ]
  },
  {
   "cell_type": "code",
   "execution_count": 39,
   "metadata": {},
   "outputs": [
    {
     "name": "stdout",
     "output_type": "stream",
     "text": [
      "['total_area', 'ceiling_height', 'rooms', 'living_area', 'price', 'day_mean', 'doy_108', 'price_locality_name_median']\n"
     ]
    }
   ],
   "source": [
    "cols = train_data.columns.to_list()\n",
    "cols.remove('target')\n",
    "print(cols)\n",
    "test_data = test_data[cols]"
   ]
  },
  {
   "cell_type": "code",
   "execution_count": 40,
   "metadata": {},
   "outputs": [
    {
     "name": "stdout",
     "output_type": "stream",
     "text": [
      "Потребление памяти меньше на 18.7 Мб (минус 76.4 %)\n",
      "Потребление памяти меньше на 3.21 Мб (минус 73.4 %)\n"
     ]
    }
   ],
   "source": [
    "# Оптимизация памяти\n",
    "train_data = reduce_mem_usage(train_data)\n",
    "test_data = reduce_mem_usage(test_data)"
   ]
  },
  {
   "cell_type": "code",
   "execution_count": 41,
   "metadata": {},
   "outputs": [
    {
     "name": "stdout",
     "output_type": "stream",
     "text": [
      "<class 'pandas.core.frame.DataFrame'>\n",
      "Int64Index: 428166 entries, 0 to 71665\n",
      "Data columns (total 9 columns):\n",
      " #   Column                      Non-Null Count   Dtype  \n",
      "---  ------                      --------------   -----  \n",
      " 0   total_area                  428166 non-null  float16\n",
      " 1   ceiling_height              428166 non-null  float16\n",
      " 2   rooms                       428166 non-null  int8   \n",
      " 3   living_area                 428166 non-null  float16\n",
      " 4   price                       428166 non-null  int32  \n",
      " 5   day_mean                    428166 non-null  float16\n",
      " 6   doy_108                     428166 non-null  int16  \n",
      " 7   price_locality_name_median  428166 non-null  float16\n",
      " 8   target                      356500 non-null  float64\n",
      "dtypes: float16(5), float64(1), int16(1), int32(1), int8(1)\n",
      "memory usage: 13.5 MB\n"
     ]
    }
   ],
   "source": [
    "all_data = pd.concat([train_data, test_data])\n",
    "all_data.info()"
   ]
  },
  {
   "cell_type": "markdown",
   "metadata": {},
   "source": [
    "### Нормализация данных"
   ]
  },
  {
   "cell_type": "code",
   "execution_count": 42,
   "metadata": {},
   "outputs": [],
   "source": [
    "all_data_mm = pd.DataFrame(MinMaxScaler().fit_transform(all_data[all_data.columns[:-1]]))"
   ]
  },
  {
   "cell_type": "markdown",
   "metadata": {},
   "source": [
    "### Построим кластеры по всем данным"
   ]
  },
  {
   "cell_type": "code",
   "execution_count": 43,
   "metadata": {},
   "outputs": [],
   "source": [
    "# np.random.seed(42)\n",
    "# som = SOM(m=10, n=10, dim=len(all_data_mm.columns), max_iter=1000)\n",
    "# labels = som.fit_predict(np.array(all_data_mm), epochs=100, shuffle=False)\n",
    "\n",
    "hdb = hdbscan.HDBSCAN(min_cluster_size=5)\n",
    "hdb.fit(all_data_mm)\n",
    "labels = hdb.labels_"
   ]
  },
  {
   "cell_type": "code",
   "execution_count": 44,
   "metadata": {},
   "outputs": [
    {
     "name": "stderr",
     "output_type": "stream",
     "text": [
      "/home/eugeney/.local/lib/python3.8/site-packages/pandas/core/frame.py:3607: SettingWithCopyWarning: \n",
      "A value is trying to be set on a copy of a slice from a DataFrame.\n",
      "Try using .loc[row_indexer,col_indexer] = value instead\n",
      "\n",
      "See the caveats in the documentation: https://pandas.pydata.org/pandas-docs/stable/user_guide/indexing.html#returning-a-view-versus-a-copy\n",
      "  self._set_item(key, value)\n"
     ]
    }
   ],
   "source": [
    "all_data_mm[\"label\"] = labels\n",
    "\n",
    "train_data_mm = all_data_mm[:len(train_data)]\n",
    "train_data_mm[\"target\"] = train_data[\"target\"]\n",
    "\n",
    "test_data_mm = all_data_mm[:len(test_data)]"
   ]
  },
  {
   "cell_type": "markdown",
   "metadata": {},
   "source": [
    "### Предсказание класса\n",
    "Выбор наиболее популярного класса в кластере"
   ]
  },
  {
   "cell_type": "code",
   "execution_count": 45,
   "metadata": {},
   "outputs": [],
   "source": [
    "groups = train_data_mm.groupby([\"label\",\"target\"]).count()[0]\n",
    "clusters_popular = [0]*len(labels)\n",
    "clusters_class = [0]*len(labels)\n",
    "for group in groups.iteritems():\n",
    "    items = group[1]\n",
    "    cluster = group[0][0]\n",
    "    if items > clusters_popular[cluster]:\n",
    "        clusters_popular[cluster] = items\n",
    "        clusters_class[cluster] = group[0][1]"
   ]
  },
  {
   "cell_type": "code",
   "execution_count": 46,
   "metadata": {},
   "outputs": [],
   "source": [
    "train_data_mm[\"target_pred\"] = train_data_mm[\"label\"].apply(lambda x:clusters_class[x])\n",
    "test_data_mm[\"target\"] = test_data_mm[\"label\"].apply(lambda x:clusters_class[x])"
   ]
  },
  {
   "cell_type": "markdown",
   "metadata": {},
   "source": [
    "Оценка предсказания на тренировочных данных"
   ]
  },
  {
   "cell_type": "code",
   "execution_count": 47,
   "metadata": {},
   "outputs": [
    {
     "name": "stdout",
     "output_type": "stream",
     "text": [
      "Оценка точности:  6.883897604360649\n"
     ]
    }
   ],
   "source": [
    "print (\"Оценка точности: \", np.exp(np.abs(train_data_mm[\"target_pred\"] - train_data_mm[\"target\"])).sum() / len(train_data_mm))\n",
    "# SOM(10x10):  7.492984934833076\n",
    "# SOM(25x25):  7.398204967468479\n",
    "# HDBSCAN:     6.883897604360649"
   ]
  },
  {
   "cell_type": "markdown",
   "metadata": {},
   "source": [
    "### Сохранение результатов"
   ]
  },
  {
   "cell_type": "code",
   "execution_count": 48,
   "metadata": {},
   "outputs": [],
   "source": [
    "test_data_mm['target'].to_csv('./data/exposition_sample_submision.tsv', sep='\\t', index_label='id')"
   ]
  }
 ],
 "metadata": {
  "colab": {
   "collapsed_sections": [],
   "name": "Finally.ipynb",
   "provenance": []
  },
  "kernelspec": {
   "display_name": "Python 3",
   "language": "python",
   "name": "python3"
  },
  "language_info": {
   "codemirror_mode": {
    "name": "ipython",
    "version": 3
   },
   "file_extension": ".py",
   "mimetype": "text/x-python",
   "name": "python",
   "nbconvert_exporter": "python",
   "pygments_lexer": "ipython3",
   "version": "3.8.10"
  }
 },
 "nbformat": 4,
 "nbformat_minor": 1
}
