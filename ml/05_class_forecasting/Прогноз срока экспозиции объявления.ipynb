{
 "cells": [
  {
   "cell_type": "markdown",
   "metadata": {},
   "source": [
    "# Прогноз срока экспозиции объявления\n",
    "Каждый пользователь, размещая объявление об аренде квартиры, хочет понимать, сколько времени потребуется для сдачи объекта. В первую очередь такая информация нужна на форме подачи объявлений, что заметно ограничивает набор возможных признаков. Вам предлагается построить модель, прогнозирующую длительность экспозиции объявлений на Яндекс.Недвижимости.\n",
    "Для построения целевой переменной срок экспозиции разбит на несколько классов, каждому из которых соответствует целое число: \"меньше 7 дней\"(1), \"7-14 дней\"(2), \"15-30 дней\"(3), \"30-70 дней\"(4), \"более 70 дней\"(5).\n",
    "Метрика, по которой оцениваются решения, записывается следующим образом:\n",
    "\n",
    "$$metric = \\frac{1}l \\sum_{i=0}^{l}{exp^{|prediction_i - target_i|}}$$\n",
    "\n",
    "### Формат ввода\n",
    "В файле с обучающей выборкой в каждой строке через табуляцию записаны числовой id объявления и набор признаков, характеризующих его.\n",
    "\n",
    "Данные в тестовой выборке exposition_test.tsv представлены в аналогичном формате, за исключением целевой переменной.\n",
    "\n",
    "### Формат вывода\n",
    "Первая строка должна содержать названия столбцов: id target.\n",
    "В каждой последующей строке файла через табуляцию должны быть записаны id объявления и предсказанный класс в виде вещественного числа."
   ]
  },
  {
   "cell_type": "markdown",
   "metadata": {
    "id": "OKWUgpUpAJrv"
   },
   "source": [
    "### Подключение библиотек"
   ]
  },
  {
   "cell_type": "code",
   "execution_count": 1,
   "metadata": {
    "id": "BMMIDKFYAJGG"
   },
   "outputs": [],
   "source": [
    "import pandas as pd\n",
    "import numpy as np\n",
    "from sklearn.linear_model import LinearRegression\n",
    "from sklearn_som.som import SOM\n",
    "import hdbscan\n",
    "from sklearn.preprocessing import MinMaxScaler"
   ]
  },
  {
   "cell_type": "code",
   "execution_count": 2,
   "metadata": {},
   "outputs": [],
   "source": [
    "def reduce_mem_usage (df):\n",
    "    start_mem = df.memory_usage().sum() / 1024**2    \n",
    "    for col in df.columns:\n",
    "        col_type = df[col].dtypes\n",
    "        if str(col_type)[:5] == \"float\":\n",
    "            c_min = df[col].min()\n",
    "            c_max = df[col].max()\n",
    "            if c_min > np.finfo(\"f2\").min and c_max < np.finfo(\"f2\").max:\n",
    "                df[col] = df[col].astype(np.float16)\n",
    "            elif c_min > np.finfo(\"f4\").min and c_max < np.finfo(\"f4\").max:\n",
    "                df[col] = df[col].astype(np.float32)\n",
    "            else:\n",
    "                df[col] = df[col].astype(np.float64)\n",
    "        elif str(col_type)[:3] == \"int\":\n",
    "            c_min = df[col].min()\n",
    "            c_max = df[col].max()\n",
    "            if c_min > np.iinfo(\"i1\").min and c_max < np.iinfo(\"i1\").max:\n",
    "                df[col] = df[col].astype(np.int8)\n",
    "            elif c_min > np.iinfo(\"i2\").min and c_max < np.iinfo(\"i2\").max:\n",
    "                df[col] = df[col].astype(np.int16)\n",
    "            elif c_min > np.iinfo(\"i4\").min and c_max < np.iinfo(\"i4\").max:\n",
    "                df[col] = df[col].astype(np.int32)\n",
    "            elif c_min > np.iinfo(\"i8\").min and c_max < np.iinfo(\"i8\").max:\n",
    "                df[col] = df[col].astype(np.int64)\n",
    "        elif col == \"timestamp\":\n",
    "            df[col] = pd.to_datetime(df[col])\n",
    "        elif str(col_type)[:8] != \"datetime\":\n",
    "            df[col] = df[col].astype(\"category\")\n",
    "    end_mem = df.memory_usage().sum() / 1024**2\n",
    "    print('Потребление памяти меньше на',\n",
    "          round(start_mem - end_mem, 2),\n",
    "          'Мб (минус',\n",
    "          round(100 * (start_mem - end_mem) / start_mem, 1),\n",
    "         '%)')\n",
    "    return df"
   ]
  },
  {
   "cell_type": "markdown",
   "metadata": {},
   "source": [
    "### Загрузка данных"
   ]
  },
  {
   "cell_type": "code",
   "execution_count": 3,
   "metadata": {},
   "outputs": [],
   "source": [
    "### Используем очищенные данные\n",
    "# Заполнены пропуски\n",
    "# Текстовые атрибуты преобразованы в единичные вектора\n",
    "# Добавлены мета-признаки даты\n",
    "# Уточнены цены\n",
    "# Добавллена средняя цена по метро/городу\n",
    "# Удалены слабо коррелириующие признаки\n",
    "\n",
    "train_data = pd.read_csv('./data/exposition_train.basic.csv')\n",
    "test_data = pd.read_csv('./data/exposition_test.csv')"
   ]
  },
  {
   "cell_type": "code",
   "execution_count": 4,
   "metadata": {},
   "outputs": [
    {
     "data": {
      "text/plain": [
       "Index(['total_area', 'ceiling_height', 'rooms', 'living_area', 'price',\n",
       "       'day_mean', 'doy_108', 'price_locality_name_median', 'target',\n",
       "       'day_count'],\n",
       "      dtype='object')"
      ]
     },
     "execution_count": 4,
     "metadata": {},
     "output_type": "execute_result"
    }
   ],
   "source": [
    "train_data.columns"
   ]
  },
  {
   "cell_type": "markdown",
   "metadata": {},
   "source": [
    "### Выравнивание тестовых данных"
   ]
  },
  {
   "cell_type": "code",
   "execution_count": 5,
   "metadata": {},
   "outputs": [],
   "source": [
    "test_data['day'] =  pd.to_datetime(test_data['day'])\n",
    "test_data['doy_108'] = test_data['day'].dt.dayofyear"
   ]
  },
  {
   "cell_type": "code",
   "execution_count": 6,
   "metadata": {},
   "outputs": [],
   "source": [
    "# Построим прогноз day_mean по day_count\n",
    "test_data['day_count'] = test_data.groupby('day')['total_area'].transform('count')"
   ]
  },
  {
   "cell_type": "code",
   "execution_count": 7,
   "metadata": {},
   "outputs": [],
   "source": [
    "x = np.array(train_data['day_count']).reshape(-1, 1)\n",
    "y = train_data['day_mean']\n",
    "model = LinearRegression().fit(x, y)\n",
    "train_data = train_data.drop(labels=['day_count'], axis=1)"
   ]
  },
  {
   "cell_type": "code",
   "execution_count": 8,
   "metadata": {},
   "outputs": [],
   "source": [
    "test_data['day_mean'] = model.predict(np.array(test_data['day_count']).reshape(-1, 1))\n",
    "test_data = test_data.drop(labels=['day_count'], axis=1)"
   ]
  },
  {
   "cell_type": "code",
   "execution_count": 9,
   "metadata": {},
   "outputs": [
    {
     "name": "stdout",
     "output_type": "stream",
     "text": [
      "['total_area', 'ceiling_height', 'rooms', 'living_area', 'price', 'day_mean', 'doy_108', 'price_locality_name_median']\n"
     ]
    }
   ],
   "source": [
    "cols = train_data.columns.to_list()\n",
    "cols.remove('target')\n",
    "print(cols)\n",
    "test_data = test_data[cols]"
   ]
  },
  {
   "cell_type": "code",
   "execution_count": 10,
   "metadata": {},
   "outputs": [
    {
     "name": "stdout",
     "output_type": "stream",
     "text": [
      "Потребление памяти меньше на 18.7 Мб (минус 76.4 %)\n",
      "Потребление памяти меньше на 3.21 Мб (минус 73.4 %)\n"
     ]
    }
   ],
   "source": [
    "# Оптимизация памяти\n",
    "train_data = reduce_mem_usage(train_data)\n",
    "test_data = reduce_mem_usage(test_data)"
   ]
  },
  {
   "cell_type": "code",
   "execution_count": 11,
   "metadata": {},
   "outputs": [
    {
     "name": "stdout",
     "output_type": "stream",
     "text": [
      "<class 'pandas.core.frame.DataFrame'>\n",
      "Int64Index: 428166 entries, 0 to 71665\n",
      "Data columns (total 9 columns):\n",
      " #   Column                      Non-Null Count   Dtype  \n",
      "---  ------                      --------------   -----  \n",
      " 0   total_area                  428166 non-null  float16\n",
      " 1   ceiling_height              428166 non-null  float16\n",
      " 2   rooms                       428166 non-null  int8   \n",
      " 3   living_area                 428166 non-null  float16\n",
      " 4   price                       428166 non-null  int32  \n",
      " 5   day_mean                    428166 non-null  float16\n",
      " 6   doy_108                     428166 non-null  int16  \n",
      " 7   price_locality_name_median  428166 non-null  float16\n",
      " 8   target                      356500 non-null  float64\n",
      "dtypes: float16(5), float64(1), int16(1), int32(1), int8(1)\n",
      "memory usage: 13.5 MB\n"
     ]
    }
   ],
   "source": [
    "all_data = pd.concat([train_data, test_data])\n",
    "all_data.info()"
   ]
  },
  {
   "cell_type": "markdown",
   "metadata": {},
   "source": [
    "### Нормализация данных"
   ]
  },
  {
   "cell_type": "code",
   "execution_count": 12,
   "metadata": {},
   "outputs": [],
   "source": [
    "all_data = all_data.drop(labels=['doy_108'], axis=1)\n",
    "all_data_mm = pd.DataFrame(MinMaxScaler().fit_transform(all_data[all_data.columns[:-1]]))"
   ]
  },
  {
   "cell_type": "markdown",
   "metadata": {},
   "source": [
    "### Построим кластеры по всем данным"
   ]
  },
  {
   "cell_type": "code",
   "execution_count": 13,
   "metadata": {},
   "outputs": [],
   "source": [
    "# np.random.seed(42)\n",
    "# som = SOM(m=10, n=10, dim=len(all_data_mm.columns), max_iter=1000)\n",
    "# labels = som.fit_predict(np.array(all_data_mm), epochs=100, shuffle=False)\n",
    "\n",
    "hdb = hdbscan.HDBSCAN(min_cluster_size=5)\n",
    "hdb.fit_predict(all_data_mm)\n",
    "labels = hdb.labels_"
   ]
  },
  {
   "cell_type": "code",
   "execution_count": 14,
   "metadata": {},
   "outputs": [
    {
     "name": "stderr",
     "output_type": "stream",
     "text": [
      "/home/eugeney/.local/lib/python3.8/site-packages/pandas/core/frame.py:3607: SettingWithCopyWarning: \n",
      "A value is trying to be set on a copy of a slice from a DataFrame.\n",
      "Try using .loc[row_indexer,col_indexer] = value instead\n",
      "\n",
      "See the caveats in the documentation: https://pandas.pydata.org/pandas-docs/stable/user_guide/indexing.html#returning-a-view-versus-a-copy\n",
      "  self._set_item(key, value)\n"
     ]
    }
   ],
   "source": [
    "all_data_mm[\"label\"] = labels\n",
    "\n",
    "train_data_mm = all_data_mm[:len(train_data)]\n",
    "train_data_mm[\"target\"] = train_data[\"target\"]\n",
    "\n",
    "test_data_mm = all_data_mm[:-len(test_data)]"
   ]
  },
  {
   "cell_type": "code",
   "execution_count": 15,
   "metadata": {},
   "outputs": [
    {
     "data": {
      "text/html": [
       "<div>\n",
       "<style scoped>\n",
       "    .dataframe tbody tr th:only-of-type {\n",
       "        vertical-align: middle;\n",
       "    }\n",
       "\n",
       "    .dataframe tbody tr th {\n",
       "        vertical-align: top;\n",
       "    }\n",
       "\n",
       "    .dataframe thead th {\n",
       "        text-align: right;\n",
       "    }\n",
       "</style>\n",
       "<table border=\"1\" class=\"dataframe\">\n",
       "  <thead>\n",
       "    <tr style=\"text-align: right;\">\n",
       "      <th></th>\n",
       "      <th>0</th>\n",
       "      <th>1</th>\n",
       "      <th>2</th>\n",
       "      <th>3</th>\n",
       "      <th>4</th>\n",
       "      <th>5</th>\n",
       "      <th>6</th>\n",
       "      <th>label</th>\n",
       "      <th>target</th>\n",
       "    </tr>\n",
       "  </thead>\n",
       "  <tbody>\n",
       "    <tr>\n",
       "      <th>0</th>\n",
       "      <td>0.097782</td>\n",
       "      <td>0.107143</td>\n",
       "      <td>0.6</td>\n",
       "      <td>0.112360</td>\n",
       "      <td>0.002111</td>\n",
       "      <td>0.454021</td>\n",
       "      <td>0.002111</td>\n",
       "      <td>-1</td>\n",
       "      <td>1</td>\n",
       "    </tr>\n",
       "    <tr>\n",
       "      <th>1</th>\n",
       "      <td>0.032258</td>\n",
       "      <td>0.107143</td>\n",
       "      <td>0.2</td>\n",
       "      <td>0.043153</td>\n",
       "      <td>0.000555</td>\n",
       "      <td>0.641781</td>\n",
       "      <td>0.000933</td>\n",
       "      <td>4036</td>\n",
       "      <td>2</td>\n",
       "    </tr>\n",
       "    <tr>\n",
       "      <th>2</th>\n",
       "      <td>0.029832</td>\n",
       "      <td>0.094308</td>\n",
       "      <td>0.0</td>\n",
       "      <td>0.042697</td>\n",
       "      <td>0.000577</td>\n",
       "      <td>0.662288</td>\n",
       "      <td>0.000578</td>\n",
       "      <td>996</td>\n",
       "      <td>2</td>\n",
       "    </tr>\n",
       "    <tr>\n",
       "      <th>3</th>\n",
       "      <td>0.072581</td>\n",
       "      <td>0.107143</td>\n",
       "      <td>0.6</td>\n",
       "      <td>0.110112</td>\n",
       "      <td>0.000777</td>\n",
       "      <td>0.665492</td>\n",
       "      <td>0.001167</td>\n",
       "      <td>-1</td>\n",
       "      <td>2</td>\n",
       "    </tr>\n",
       "    <tr>\n",
       "      <th>4</th>\n",
       "      <td>0.092742</td>\n",
       "      <td>0.107143</td>\n",
       "      <td>0.6</td>\n",
       "      <td>0.110112</td>\n",
       "      <td>0.001777</td>\n",
       "      <td>0.466838</td>\n",
       "      <td>0.001778</td>\n",
       "      <td>2501</td>\n",
       "      <td>3</td>\n",
       "    </tr>\n",
       "  </tbody>\n",
       "</table>\n",
       "</div>"
      ],
      "text/plain": [
       "          0         1    2         3         4         5         6  label  \\\n",
       "0  0.097782  0.107143  0.6  0.112360  0.002111  0.454021  0.002111     -1   \n",
       "1  0.032258  0.107143  0.2  0.043153  0.000555  0.641781  0.000933   4036   \n",
       "2  0.029832  0.094308  0.0  0.042697  0.000577  0.662288  0.000578    996   \n",
       "3  0.072581  0.107143  0.6  0.110112  0.000777  0.665492  0.001167     -1   \n",
       "4  0.092742  0.107143  0.6  0.110112  0.001777  0.466838  0.001778   2501   \n",
       "\n",
       "   target  \n",
       "0       1  \n",
       "1       2  \n",
       "2       2  \n",
       "3       2  \n",
       "4       3  "
      ]
     },
     "execution_count": 15,
     "metadata": {},
     "output_type": "execute_result"
    }
   ],
   "source": [
    "train_data_mm.head()"
   ]
  },
  {
   "cell_type": "markdown",
   "metadata": {},
   "source": [
    "### Предсказание класса\n",
    "Выбор наиболее популярного класса в кластере"
   ]
  },
  {
   "cell_type": "code",
   "execution_count": 45,
   "metadata": {},
   "outputs": [],
   "source": [
    "### Самый популярный класс в кластере\n",
    "# groups = train_data_mm.groupby([\"label\",\"target\"]).count()[0]\n",
    "# clusters_popular = [0]*len(labels)\n",
    "# clusters_class = [0]*len(labels)\n",
    "# for group in groups.iteritems():\n",
    "#     items = group[1]\n",
    "#     cluster = group[0][0]\n",
    "#     if items > clusters_popular[cluster]:\n",
    "#         clusters_popular[cluster] = items\n",
    "#         clusters_class[cluster] = group[0][1]"
   ]
  },
  {
   "cell_type": "code",
   "execution_count": 46,
   "metadata": {},
   "outputs": [],
   "source": [
    "# train_data_mm[\"target_pred\"] = train_data_mm[\"label\"].apply(lambda x:clusters_class[x])\n",
    "# test_data_mm[\"target\"] = test_data_mm[\"label\"].apply(lambda x:clusters_class[x])"
   ]
  },
  {
   "cell_type": "code",
   "execution_count": 41,
   "metadata": {},
   "outputs": [],
   "source": [
    "### Среднее значение класса по кластеру\n",
    "clusters = train_data_mm.groupby(\"label\").mean()[\"target\"]\n",
    "train_data_mm['target_pred'] = train_data_mm['label'].apply(lambda x: clusters.loc[x])\n",
    "test_data_mm['target'] = test_data_mm['label'].apply(lambda x: clusters.loc[x])"
   ]
  },
  {
   "cell_type": "markdown",
   "metadata": {},
   "source": [
    "Оценка предсказания на тренировочных данных"
   ]
  },
  {
   "cell_type": "code",
   "execution_count": 42,
   "metadata": {},
   "outputs": [
    {
     "name": "stdout",
     "output_type": "stream",
     "text": [
      "Оценка точности:  4.053223052605551\n"
     ]
    }
   ],
   "source": [
    "print (\"Оценка точности: \", np.exp(np.abs(train_data_mm[\"target_pred\"] - train_data_mm[\"target\"])).sum() / len(train_data_mm))\n",
    "# target_pred = 3     4.28"
   ]
  },
  {
   "cell_type": "code",
   "execution_count": 26,
   "metadata": {},
   "outputs": [
    {
     "name": "stderr",
     "output_type": "stream",
     "text": [
      "/home/eugeney/.local/lib/python3.8/site-packages/pandas/core/frame.py:3607: SettingWithCopyWarning: \n",
      "A value is trying to be set on a copy of a slice from a DataFrame.\n",
      "Try using .loc[row_indexer,col_indexer] = value instead\n",
      "\n",
      "See the caveats in the documentation: https://pandas.pydata.org/pandas-docs/stable/user_guide/indexing.html#returning-a-view-versus-a-copy\n",
      "  self._set_item(key, value)\n"
     ]
    },
    {
     "data": {
      "text/html": [
       "<div>\n",
       "<style scoped>\n",
       "    .dataframe tbody tr th:only-of-type {\n",
       "        vertical-align: middle;\n",
       "    }\n",
       "\n",
       "    .dataframe tbody tr th {\n",
       "        vertical-align: top;\n",
       "    }\n",
       "\n",
       "    .dataframe thead th {\n",
       "        text-align: right;\n",
       "    }\n",
       "</style>\n",
       "<table border=\"1\" class=\"dataframe\">\n",
       "  <thead>\n",
       "    <tr style=\"text-align: right;\">\n",
       "      <th></th>\n",
       "      <th>0</th>\n",
       "      <th>1</th>\n",
       "      <th>2</th>\n",
       "      <th>3</th>\n",
       "      <th>4</th>\n",
       "      <th>5</th>\n",
       "      <th>6</th>\n",
       "      <th>label</th>\n",
       "      <th>target</th>\n",
       "    </tr>\n",
       "  </thead>\n",
       "  <tbody>\n",
       "    <tr>\n",
       "      <th>0</th>\n",
       "      <td>0.097782</td>\n",
       "      <td>0.107143</td>\n",
       "      <td>0.6</td>\n",
       "      <td>0.112360</td>\n",
       "      <td>0.002111</td>\n",
       "      <td>0.454021</td>\n",
       "      <td>0.002111</td>\n",
       "      <td>-1</td>\n",
       "      <td>3.0</td>\n",
       "    </tr>\n",
       "    <tr>\n",
       "      <th>1</th>\n",
       "      <td>0.032258</td>\n",
       "      <td>0.107143</td>\n",
       "      <td>0.2</td>\n",
       "      <td>0.043153</td>\n",
       "      <td>0.000555</td>\n",
       "      <td>0.641781</td>\n",
       "      <td>0.000933</td>\n",
       "      <td>4036</td>\n",
       "      <td>3.0</td>\n",
       "    </tr>\n",
       "    <tr>\n",
       "      <th>2</th>\n",
       "      <td>0.029832</td>\n",
       "      <td>0.094308</td>\n",
       "      <td>0.0</td>\n",
       "      <td>0.042697</td>\n",
       "      <td>0.000577</td>\n",
       "      <td>0.662288</td>\n",
       "      <td>0.000578</td>\n",
       "      <td>996</td>\n",
       "      <td>3.0</td>\n",
       "    </tr>\n",
       "    <tr>\n",
       "      <th>3</th>\n",
       "      <td>0.072581</td>\n",
       "      <td>0.107143</td>\n",
       "      <td>0.6</td>\n",
       "      <td>0.110112</td>\n",
       "      <td>0.000777</td>\n",
       "      <td>0.665492</td>\n",
       "      <td>0.001167</td>\n",
       "      <td>-1</td>\n",
       "      <td>3.0</td>\n",
       "    </tr>\n",
       "    <tr>\n",
       "      <th>4</th>\n",
       "      <td>0.092742</td>\n",
       "      <td>0.107143</td>\n",
       "      <td>0.6</td>\n",
       "      <td>0.110112</td>\n",
       "      <td>0.001777</td>\n",
       "      <td>0.466838</td>\n",
       "      <td>0.001778</td>\n",
       "      <td>2501</td>\n",
       "      <td>3.0</td>\n",
       "    </tr>\n",
       "  </tbody>\n",
       "</table>\n",
       "</div>"
      ],
      "text/plain": [
       "          0         1    2         3         4         5         6  label  \\\n",
       "0  0.097782  0.107143  0.6  0.112360  0.002111  0.454021  0.002111     -1   \n",
       "1  0.032258  0.107143  0.2  0.043153  0.000555  0.641781  0.000933   4036   \n",
       "2  0.029832  0.094308  0.0  0.042697  0.000577  0.662288  0.000578    996   \n",
       "3  0.072581  0.107143  0.6  0.110112  0.000777  0.665492  0.001167     -1   \n",
       "4  0.092742  0.107143  0.6  0.110112  0.001777  0.466838  0.001778   2501   \n",
       "\n",
       "   target  \n",
       "0     3.0  \n",
       "1     3.0  \n",
       "2     3.0  \n",
       "3     3.0  \n",
       "4     3.0  "
      ]
     },
     "execution_count": 26,
     "metadata": {},
     "output_type": "execute_result"
    }
   ],
   "source": [
    "test_data_mm['target'] = np.around(test_data_mm['target'])\n",
    "test_data_mm.head()"
   ]
  },
  {
   "cell_type": "markdown",
   "metadata": {},
   "source": [
    "### Сохранение результатов"
   ]
  },
  {
   "cell_type": "code",
   "execution_count": 48,
   "metadata": {},
   "outputs": [],
   "source": [
    "test_data_mm['target'].to_csv('./data/exposition_sample_submision.tsv', sep='\\t', index_label='id')"
   ]
  }
 ],
 "metadata": {
  "colab": {
   "collapsed_sections": [],
   "name": "Finally.ipynb",
   "provenance": []
  },
  "kernelspec": {
   "display_name": "Python 3",
   "language": "python",
   "name": "python3"
  },
  "language_info": {
   "codemirror_mode": {
    "name": "ipython",
    "version": 3
   },
   "file_extension": ".py",
   "mimetype": "text/x-python",
   "name": "python",
   "nbconvert_exporter": "python",
   "pygments_lexer": "ipython3",
   "version": "3.8.10"
  }
 },
 "nbformat": 4,
 "nbformat_minor": 1
}
