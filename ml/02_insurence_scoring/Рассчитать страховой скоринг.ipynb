{
 "cells": [
  {
   "cell_type": "markdown",
   "source": [
    "## Постановка задачи\n",
    "Задача страхового скоринга: https://www.kaggle.com/c/prudential-life-insurance-assessment\n",
    "\n",
    "Требуется провести классификацию клиентов по уровню благонадежности для страхования жизни (всего 8 градаций) - Response. Для оценки доступно несколько параметров: виды страховки (Product_Info), возраст (Ins_Age), рост (Ht), вес (Wt), индекс массы тела (BMI), данные о работе (Employment_Info), данные страховки (InsuredInfo), история страхования (Insurance_History), семья (Family_Hist), медицинские данные (Medical_History) и медицинские термины (Medical_Keyword) - всего 126 переменных.\n",
    "\n",
    "## Описание задания\n",
    "\n",
    "Загрузите данные, приведите их к числовым, заполните пропуски, нормализуйте данные и оптимизируйте память.\n",
    "\n",
    "Сформируйте параллельный ансамбль из CatBoost, градиентного бустинга, опорных векторов и LightGBM. Используйте лучшие гиперпараметры, подобранные ранее, или найдите их через перекрестную проверку. Итоговое решение рассчитайте на основании самого точного предсказания класса у определенной модели ансамбля: выберите для каждого класса модель, которая предсказывает его лучше всего.\n",
    "\n",
    "Проведите расчеты и выгрузите результат в виде submission.csv"
   ],
   "metadata": {}
  },
  {
   "cell_type": "code",
   "execution_count": 2,
   "source": [
    "import pandas as pd\n",
    "import numpy as np\n",
    "from sklearn.model_selection import train_test_split\n",
    "from sklearn import preprocessing\n",
    "from sklearn.svm import SVC\n",
    "import lightgbm as lgb\n",
    "from catboost import Pool, CatBoostClassifier\n",
    "from sklearn.ensemble import GradientBoostingClassifier"
   ],
   "outputs": [],
   "metadata": {}
  },
  {
   "cell_type": "code",
   "execution_count": 23,
   "source": [
    "# Загрузка данных\n",
    "data = pd.read_csv('./data/train.csv.gz')\n",
    "print(data.info())"
   ],
   "outputs": [
    {
     "output_type": "stream",
     "name": "stdout",
     "text": [
      "<class 'pandas.core.frame.DataFrame'>\n",
      "RangeIndex: 59381 entries, 0 to 59380\n",
      "Columns: 128 entries, Id to Response\n",
      "dtypes: float64(18), int64(109), object(1)\n",
      "memory usage: 58.0+ MB\n",
      "None\n"
     ]
    }
   ],
   "metadata": {}
  },
  {
   "cell_type": "code",
   "execution_count": 4,
   "source": [
    "# Предобработка данных\n",
    "def data_preprocess (df):\n",
    "    df[\"Product_Info_2_1\"] = df[\"Product_Info_2\"].str.slice(0, 1)\n",
    "    df[\"Product_Info_2_2\"] = pd.to_numeric(df[\"Product_Info_2\"].str.slice(1, 2))\n",
    "    df.drop(labels=[\"Product_Info_2\"], axis=1, inplace=True)\n",
    "    for l in df[\"Product_Info_2_1\"].unique():\n",
    "        df[\"Product_Info_2_1\" + l] = df[\"Product_Info_2_1\"].isin([l]).astype(\"int8\")\n",
    "    df.drop(labels=[\"Product_Info_2_1\"], axis=1, inplace=True)\n",
    "    df.fillna(value=-1, inplace=True)\n",
    "    data[\"Response\"] = data[\"Response\"] - 1\n",
    "    return df"
   ],
   "outputs": [],
   "metadata": {}
  },
  {
   "cell_type": "code",
   "execution_count": 24,
   "source": [
    "data = data_preprocess(data)"
   ],
   "outputs": [],
   "metadata": {}
  },
  {
   "cell_type": "code",
   "execution_count": 6,
   "source": [
    "# Набор столбцов для рассчета\n",
    "columns_groups = [\"Insurance_History\", \"InsurеdInfo\", \"Medical_Keyword\",\n",
    "                  \"Family_Hist\", \"Medical_History\", \"Product_Info\"]\n",
    "columns = [\"Wt\", \"Ht\", \"Ins_Age\", \"BMI\"]\n",
    "for cg in columns_groups:\n",
    "    columns.extend(data.columns[data.columns.str.startswith(cg)])\n",
    "print ('Columns:', len(columns))"
   ],
   "outputs": [
    {
     "output_type": "stream",
     "name": "stdout",
     "text": [
      "Columns: 118\n"
     ]
    }
   ],
   "metadata": {}
  },
  {
   "cell_type": "code",
   "execution_count": 25,
   "source": [
    "# Нормализация данных\n",
    "scaler = preprocessing.StandardScaler()\n",
    "data_transformed = pd.DataFrame(scaler.fit_transform(pd.DataFrame(data, columns=columns)))\n",
    "columns_transformed = data_transformed.columns\n",
    "data_transformed[\"Response\"] = data[\"Response\"]"
   ],
   "outputs": [],
   "metadata": {}
  },
  {
   "cell_type": "code",
   "execution_count": 8,
   "source": [
    "# Оптимизация памяти\n",
    "def reduce_mem_usage (df):\n",
    "    start_mem = df.memory_usage().sum() / 1024**2    \n",
    "    for col in df.columns:\n",
    "        col_type = df[col].dtypes\n",
    "        if str(col_type)[:5] == \"float\":\n",
    "            c_min = df[col].min()\n",
    "            c_max = df[col].max()\n",
    "            if c_min > np.finfo(\"f2\").min and c_max < np.finfo(\"f2\").max:\n",
    "                df[col] = df[col].astype(np.float16)\n",
    "            elif c_min > np.finfo(\"f4\").min and c_max < np.finfo(\"f4\").max:\n",
    "                df[col] = df[col].astype(np.float32)\n",
    "            else:\n",
    "                df[col] = df[col].astype(np.float64)\n",
    "        elif str(col_type)[:3] == \"int\":\n",
    "            c_min = df[col].min()\n",
    "            c_max = df[col].max()\n",
    "            if c_min > np.iinfo(\"i1\").min and c_max < np.iinfo(\"i1\").max:\n",
    "                df[col] = df[col].astype(np.int8)\n",
    "            elif c_min > np.iinfo(\"i2\").min and c_max < np.iinfo(\"i2\").max:\n",
    "                df[col] = df[col].astype(np.int16)\n",
    "            elif c_min > np.iinfo(\"i4\").min and c_max < np.iinfo(\"i4\").max:\n",
    "                df[col] = df[col].astype(np.int32)\n",
    "            elif c_min > np.iinfo(\"i8\").min and c_max < np.iinfo(\"i8\").max:\n",
    "                df[col] = df[col].astype(np.int64)\n",
    "        else:\n",
    "            df[col] = df[col].astype(\"category\")\n",
    "    end_mem = df.memory_usage().sum() / 1024**2\n",
    "    print('Потребление памяти меньше на', round(start_mem - end_mem, 2), 'Мб (минус', round(100 * (start_mem - end_mem) / start_mem, 1), '%)')\n",
    "    return df"
   ],
   "outputs": [],
   "metadata": {}
  },
  {
   "cell_type": "code",
   "execution_count": 27,
   "source": [
    "data_transformed = reduce_mem_usage(data_transformed)\n",
    "print(data_transformed.info())"
   ],
   "outputs": [
    {
     "output_type": "stream",
     "name": "stdout",
     "text": [
      "Потребление памяти меньше на 0.0 Мб (минус 0.0 %)\n",
      "<class 'pandas.core.frame.DataFrame'>\n",
      "RangeIndex: 59381 entries, 0 to 59380\n",
      "Columns: 119 entries, 0 to Response\n",
      "dtypes: float16(118), int8(1)\n",
      "memory usage: 13.4 MB\n",
      "None\n"
     ]
    }
   ],
   "metadata": {}
  },
  {
   "cell_type": "markdown",
   "source": [
    "## Рассчет моделей"
   ],
   "metadata": {}
  },
  {
   "cell_type": "code",
   "execution_count": 108,
   "source": [
    "data_train, data_test = train_test_split(data_transformed, test_size=0.2)\n",
    "x = pd.DataFrame(data_train, columns=columns_transformed)\n",
    "y = data_train['Response']"
   ],
   "outputs": [],
   "metadata": {}
  },
  {
   "cell_type": "markdown",
   "source": [
    "## CatBoost"
   ],
   "metadata": {}
  },
  {
   "cell_type": "code",
   "execution_count": 12,
   "source": [
    "train_dataset = Pool(data=x, label=y)\n",
    "\n",
    "model_cb = CatBoostClassifier(iterations=100,\n",
    "        learning_rate=0.58,\n",
    "        depth=7,\n",
    "        l2_leaf_reg=1,\n",
    "        random_seed=17, loss_function=\"MultiClass\",\n",
    "        bootstrap_type=\"MVS\", custom_metric=\"WKappa\")\n",
    "\n",
    "model_cb.fit(train_dataset)"
   ],
   "outputs": [
    {
     "output_type": "stream",
     "name": "stdout",
     "text": [
      "0:\tlearn: 1.5016205\ttotal: 172ms\tremaining: 17.1s\n",
      "1:\tlearn: 1.4151402\ttotal: 365ms\tremaining: 17.9s\n",
      "2:\tlearn: 1.3296230\ttotal: 473ms\tremaining: 15.3s\n",
      "3:\tlearn: 1.3028089\ttotal: 597ms\tremaining: 14.3s\n",
      "4:\tlearn: 1.2769281\ttotal: 751ms\tremaining: 14.3s\n",
      "5:\tlearn: 1.2600902\ttotal: 848ms\tremaining: 13.3s\n",
      "6:\tlearn: 1.2462205\ttotal: 933ms\tremaining: 12.4s\n",
      "7:\tlearn: 1.2375356\ttotal: 1.02s\tremaining: 11.7s\n",
      "8:\tlearn: 1.2299081\ttotal: 1.1s\tremaining: 11.1s\n",
      "9:\tlearn: 1.2196455\ttotal: 1.18s\tremaining: 10.6s\n",
      "10:\tlearn: 1.2034322\ttotal: 1.27s\tremaining: 10.3s\n",
      "11:\tlearn: 1.1942784\ttotal: 1.35s\tremaining: 9.93s\n",
      "12:\tlearn: 1.1895436\ttotal: 1.45s\tremaining: 9.72s\n",
      "13:\tlearn: 1.1813231\ttotal: 1.54s\tremaining: 9.45s\n",
      "14:\tlearn: 1.1773184\ttotal: 1.62s\tremaining: 9.17s\n",
      "15:\tlearn: 1.1736443\ttotal: 1.71s\tremaining: 8.98s\n",
      "16:\tlearn: 1.1674752\ttotal: 1.81s\tremaining: 8.85s\n",
      "17:\tlearn: 1.1614913\ttotal: 1.9s\tremaining: 8.64s\n",
      "18:\tlearn: 1.1570210\ttotal: 1.98s\tremaining: 8.45s\n",
      "19:\tlearn: 1.1520976\ttotal: 2.08s\tremaining: 8.32s\n",
      "20:\tlearn: 1.1470818\ttotal: 2.17s\tremaining: 8.18s\n",
      "21:\tlearn: 1.1414533\ttotal: 2.28s\tremaining: 8.07s\n",
      "22:\tlearn: 1.1309201\ttotal: 2.38s\tremaining: 7.96s\n",
      "23:\tlearn: 1.1224768\ttotal: 2.47s\tremaining: 7.83s\n",
      "24:\tlearn: 1.1164899\ttotal: 2.58s\tremaining: 7.74s\n",
      "25:\tlearn: 1.1121513\ttotal: 2.67s\tremaining: 7.61s\n",
      "26:\tlearn: 1.1077178\ttotal: 2.76s\tremaining: 7.47s\n",
      "27:\tlearn: 1.1037947\ttotal: 2.87s\tremaining: 7.37s\n",
      "28:\tlearn: 1.0996251\ttotal: 2.97s\tremaining: 7.27s\n",
      "29:\tlearn: 1.0948506\ttotal: 3.07s\tremaining: 7.16s\n",
      "30:\tlearn: 1.0919203\ttotal: 3.16s\tremaining: 7.04s\n",
      "31:\tlearn: 1.0870311\ttotal: 3.27s\tremaining: 6.95s\n",
      "32:\tlearn: 1.0836606\ttotal: 3.37s\tremaining: 6.84s\n",
      "33:\tlearn: 1.0801852\ttotal: 3.47s\tremaining: 6.74s\n",
      "34:\tlearn: 1.0775061\ttotal: 3.57s\tremaining: 6.63s\n",
      "35:\tlearn: 1.0756207\ttotal: 3.67s\tremaining: 6.52s\n",
      "36:\tlearn: 1.0730180\ttotal: 3.76s\tremaining: 6.4s\n",
      "37:\tlearn: 1.0690788\ttotal: 3.86s\tremaining: 6.3s\n",
      "38:\tlearn: 1.0665565\ttotal: 3.95s\tremaining: 6.18s\n",
      "39:\tlearn: 1.0645712\ttotal: 4.04s\tremaining: 6.07s\n",
      "40:\tlearn: 1.0612187\ttotal: 4.13s\tremaining: 5.94s\n",
      "41:\tlearn: 1.0579033\ttotal: 4.22s\tremaining: 5.83s\n",
      "42:\tlearn: 1.0542394\ttotal: 4.31s\tremaining: 5.71s\n",
      "43:\tlearn: 1.0501467\ttotal: 4.39s\tremaining: 5.59s\n",
      "44:\tlearn: 1.0473378\ttotal: 4.48s\tremaining: 5.48s\n",
      "45:\tlearn: 1.0449451\ttotal: 4.57s\tremaining: 5.36s\n",
      "46:\tlearn: 1.0412024\ttotal: 4.66s\tremaining: 5.25s\n",
      "47:\tlearn: 1.0385193\ttotal: 4.75s\tremaining: 5.14s\n",
      "48:\tlearn: 1.0342483\ttotal: 4.83s\tremaining: 5.03s\n",
      "49:\tlearn: 1.0311969\ttotal: 4.92s\tremaining: 4.92s\n",
      "50:\tlearn: 1.0289161\ttotal: 5.01s\tremaining: 4.82s\n",
      "51:\tlearn: 1.0261831\ttotal: 5.1s\tremaining: 4.71s\n",
      "52:\tlearn: 1.0254467\ttotal: 5.19s\tremaining: 4.6s\n",
      "53:\tlearn: 1.0230609\ttotal: 5.28s\tremaining: 4.5s\n",
      "54:\tlearn: 1.0192700\ttotal: 5.37s\tremaining: 4.39s\n",
      "55:\tlearn: 1.0164723\ttotal: 5.47s\tremaining: 4.29s\n",
      "56:\tlearn: 1.0150339\ttotal: 5.6s\tremaining: 4.22s\n",
      "57:\tlearn: 1.0125148\ttotal: 5.72s\tremaining: 4.14s\n",
      "58:\tlearn: 1.0098167\ttotal: 5.85s\tremaining: 4.07s\n",
      "59:\tlearn: 1.0068067\ttotal: 5.97s\tremaining: 3.98s\n",
      "60:\tlearn: 1.0031795\ttotal: 6.09s\tremaining: 3.89s\n",
      "61:\tlearn: 1.0004095\ttotal: 6.18s\tremaining: 3.79s\n",
      "62:\tlearn: 0.9991909\ttotal: 6.27s\tremaining: 3.68s\n",
      "63:\tlearn: 0.9970156\ttotal: 6.37s\tremaining: 3.58s\n",
      "64:\tlearn: 0.9949915\ttotal: 6.45s\tremaining: 3.48s\n",
      "65:\tlearn: 0.9934885\ttotal: 6.55s\tremaining: 3.37s\n",
      "66:\tlearn: 0.9918494\ttotal: 6.64s\tremaining: 3.27s\n",
      "67:\tlearn: 0.9881047\ttotal: 6.77s\tremaining: 3.18s\n",
      "68:\tlearn: 0.9859906\ttotal: 6.89s\tremaining: 3.1s\n",
      "69:\tlearn: 0.9833830\ttotal: 7.01s\tremaining: 3.01s\n",
      "70:\tlearn: 0.9816462\ttotal: 7.13s\tremaining: 2.91s\n",
      "71:\tlearn: 0.9791048\ttotal: 7.26s\tremaining: 2.82s\n",
      "72:\tlearn: 0.9767330\ttotal: 7.39s\tremaining: 2.73s\n",
      "73:\tlearn: 0.9746511\ttotal: 7.49s\tremaining: 2.63s\n",
      "74:\tlearn: 0.9728156\ttotal: 7.6s\tremaining: 2.53s\n",
      "75:\tlearn: 0.9702140\ttotal: 7.72s\tremaining: 2.44s\n",
      "76:\tlearn: 0.9686896\ttotal: 7.84s\tremaining: 2.34s\n",
      "77:\tlearn: 0.9668221\ttotal: 7.96s\tremaining: 2.24s\n",
      "78:\tlearn: 0.9639294\ttotal: 8.08s\tremaining: 2.15s\n",
      "79:\tlearn: 0.9618295\ttotal: 8.2s\tremaining: 2.05s\n",
      "80:\tlearn: 0.9603640\ttotal: 8.32s\tremaining: 1.95s\n",
      "81:\tlearn: 0.9575520\ttotal: 8.44s\tremaining: 1.85s\n",
      "82:\tlearn: 0.9569565\ttotal: 8.54s\tremaining: 1.75s\n",
      "83:\tlearn: 0.9540310\ttotal: 8.67s\tremaining: 1.65s\n",
      "84:\tlearn: 0.9523112\ttotal: 8.79s\tremaining: 1.55s\n",
      "85:\tlearn: 0.9506864\ttotal: 8.93s\tremaining: 1.45s\n",
      "86:\tlearn: 0.9489016\ttotal: 9.03s\tremaining: 1.35s\n",
      "87:\tlearn: 0.9475550\ttotal: 9.13s\tremaining: 1.25s\n",
      "88:\tlearn: 0.9459990\ttotal: 9.22s\tremaining: 1.14s\n",
      "89:\tlearn: 0.9444048\ttotal: 9.33s\tremaining: 1.04s\n",
      "90:\tlearn: 0.9436546\ttotal: 9.42s\tremaining: 932ms\n",
      "91:\tlearn: 0.9410885\ttotal: 9.52s\tremaining: 828ms\n",
      "92:\tlearn: 0.9384958\ttotal: 9.62s\tremaining: 724ms\n",
      "93:\tlearn: 0.9372672\ttotal: 9.71s\tremaining: 620ms\n",
      "94:\tlearn: 0.9350650\ttotal: 9.82s\tremaining: 517ms\n",
      "95:\tlearn: 0.9317268\ttotal: 9.94s\tremaining: 414ms\n",
      "96:\tlearn: 0.9296962\ttotal: 10.1s\tremaining: 311ms\n",
      "97:\tlearn: 0.9279445\ttotal: 10.2s\tremaining: 208ms\n",
      "98:\tlearn: 0.9263043\ttotal: 10.3s\tremaining: 104ms\n",
      "99:\tlearn: 0.9233563\ttotal: 10.4s\tremaining: 0us\n"
     ]
    },
    {
     "output_type": "execute_result",
     "data": {
      "text/plain": [
       "<catboost.core.CatBoostClassifier at 0x7f291496baf0>"
      ]
     },
     "metadata": {},
     "execution_count": 12
    }
   ],
   "metadata": {}
  },
  {
   "cell_type": "markdown",
   "source": [
    "## Градиентный бустинг"
   ],
   "metadata": {}
  },
  {
   "cell_type": "code",
   "execution_count": 13,
   "source": [
    "# model_gb = GradientBoostingClassifier(random_state=17, max_depth=13, max_features=26, min_samples_leaf=21, n_estimators=75)\n",
    "model_gb = GradientBoostingClassifier(random_state=17, max_depth=7, max_features=14, min_samples_leaf=20, n_estimators=38)\n",
    "model_gb.fit(x, y)"
   ],
   "outputs": [
    {
     "output_type": "execute_result",
     "data": {
      "text/plain": [
       "GradientBoostingClassifier(max_depth=7, max_features=14, min_samples_leaf=20,\n",
       "                           n_estimators=38, random_state=17)"
      ]
     },
     "metadata": {},
     "execution_count": 13
    }
   ],
   "metadata": {}
  },
  {
   "cell_type": "markdown",
   "source": [
    "## Метод опорных векторов"
   ],
   "metadata": {}
  },
  {
   "cell_type": "code",
   "execution_count": 14,
   "source": [
    "model_svm = SVC(kernel='linear', probability=True, max_iter=1000)\n",
    "model_svm.fit(x, y)"
   ],
   "outputs": [
    {
     "output_type": "stream",
     "name": "stderr",
     "text": [
      "/home/eugeney/.local/lib/python3.8/site-packages/sklearn/svm/_base.py:255: ConvergenceWarning: Solver terminated early (max_iter=1000).  Consider pre-processing your data with StandardScaler or MinMaxScaler.\n",
      "  warnings.warn('Solver terminated early (max_iter=%i).'\n"
     ]
    },
    {
     "output_type": "execute_result",
     "data": {
      "text/plain": [
       "SVC(kernel='linear', max_iter=1000, probability=True)"
      ]
     },
     "metadata": {},
     "execution_count": 14
    }
   ],
   "metadata": {}
  },
  {
   "cell_type": "markdown",
   "source": [
    "## LightGBM"
   ],
   "metadata": {}
  },
  {
   "cell_type": "code",
   "execution_count": 102,
   "source": [
    "model_lgb = lgb.LGBMRegressor(random_state=17, max_depth=16,\n",
    "            min_child_samples=17, num_leaves=36, n_estimators=1000,\n",
    "            objective='multiclass', num_class=8)\n",
    "model_lgb.fit(x, y)"
   ],
   "outputs": [
    {
     "output_type": "execute_result",
     "data": {
      "text/plain": [
       "LGBMRegressor(max_depth=16, min_child_samples=17, n_estimators=1000,\n",
       "              num_class=8, num_leaves=36, objective='multiclass',\n",
       "              random_state=17)"
      ]
     },
     "metadata": {},
     "execution_count": 102
    }
   ],
   "metadata": {}
  },
  {
   "cell_type": "markdown",
   "source": [
    "## Выбор для каждого класса модели, которая предсказывает его лучше всего"
   ],
   "metadata": {}
  },
  {
   "cell_type": "code",
   "execution_count": 110,
   "source": [
    "# Рассчитаем модели\n",
    "x_test = pd.DataFrame(data_test, columns=columns_transformed)\n",
    "\n",
    "data_test['target_cb'] = model_cb.predict(x_test)\n",
    "data_test['target_gb'] = model_gb.predict(x_test)\n",
    "data_test['target_svm'] = model_svm.predict(x_test)"
   ],
   "outputs": [
    {
     "output_type": "stream",
     "name": "stderr",
     "text": [
      "/home/eugeney/.local/lib/python3.8/site-packages/pandas/core/frame.py:3607: SettingWithCopyWarning: \n",
      "A value is trying to be set on a copy of a slice from a DataFrame.\n",
      "Try using .loc[row_indexer,col_indexer] = value instead\n",
      "\n",
      "See the caveats in the documentation: https://pandas.pydata.org/pandas-docs/stable/user_guide/indexing.html#returning-a-view-versus-a-copy\n",
      "  self._set_item(key, value)\n",
      "/home/eugeney/.local/lib/python3.8/site-packages/pandas/core/frame.py:3607: SettingWithCopyWarning: \n",
      "A value is trying to be set on a copy of a slice from a DataFrame.\n",
      "Try using .loc[row_indexer,col_indexer] = value instead\n",
      "\n",
      "See the caveats in the documentation: https://pandas.pydata.org/pandas-docs/stable/user_guide/indexing.html#returning-a-view-versus-a-copy\n",
      "  self._set_item(key, value)\n",
      "/home/eugeney/.local/lib/python3.8/site-packages/pandas/core/frame.py:3607: SettingWithCopyWarning: \n",
      "A value is trying to be set on a copy of a slice from a DataFrame.\n",
      "Try using .loc[row_indexer,col_indexer] = value instead\n",
      "\n",
      "See the caveats in the documentation: https://pandas.pydata.org/pandas-docs/stable/user_guide/indexing.html#returning-a-view-versus-a-copy\n",
      "  self._set_item(key, value)\n"
     ]
    }
   ],
   "metadata": {}
  },
  {
   "cell_type": "code",
   "execution_count": 112,
   "source": [
    "def calc_model_lgb(x):\n",
    "    return np.argmax([x])\n",
    "data_test['target_lgb'] = x_test.apply(calc_model_lgb, axis=1, result_type='expand')\n",
    "data_test['target_lgb'] = data_test['target_lgb'].apply(lambda x:0 if x<0 else 7 if x>7 else x)"
   ],
   "outputs": [],
   "metadata": {}
  },
  {
   "cell_type": "code",
   "execution_count": 113,
   "source": [
    "# Опредделим лучшую модель для каждого класса\n",
    "models = [model_cb, model_gb, model_lgb, model_svm]\n",
    "opt_models_by_class = [x for x in range(8)]\n",
    "models_result = np.zeros((8, 4))\n",
    "\n",
    "for i, row in data_test.iterrows():    \n",
    "    r = int(row['Response'])\n",
    "    if row['Response'] == row['target_cb']: \n",
    "        models_result[r][0] += 1\n",
    "    if row['Response'] == row['target_gb']: \n",
    "        models_result[r][1] += 1\n",
    "    if row['Response'] == row['target_lgb']: \n",
    "        models_result[r][2] += 1\n",
    "    if row['Response'] == row['target_svm']: \n",
    "        models_result[r][3] += 1        \n",
    "\n",
    "for i, cl in enumerate(models_result):\n",
    "    model_class = str(type(models[np.argmax(cl)])).split('.')[-1]\n",
    "    print(i, ':', model_class)\n",
    "    opt_models_by_class[i] = models[np.argmax(cl)]"
   ],
   "outputs": [
    {
     "output_type": "stream",
     "name": "stdout",
     "text": [
      "0 : SVC'>\n",
      "1 : CatBoostClassifier'>\n",
      "2 : CatBoostClassifier'>\n",
      "3 : GradientBoostingClassifier'>\n",
      "4 : CatBoostClassifier'>\n",
      "5 : CatBoostClassifier'>\n",
      "6 : CatBoostClassifier'>\n",
      "7 : LGBMRegressor'>\n"
     ]
    }
   ],
   "metadata": {}
  },
  {
   "cell_type": "markdown",
   "source": [
    "## Загрузка данных для рассчетов"
   ],
   "metadata": {}
  },
  {
   "cell_type": "code",
   "execution_count": 114,
   "source": [
    "data_test = pd.read_csv(\"./data/test.csv.gz\")\n",
    "data_test = data_preprocess(data_test)\n",
    "data_test = reduce_mem_usage(data_test)\n",
    "data_test_transformed = pd.DataFrame(scaler.transform(pd.DataFrame(data_test, columns=columns)))\n",
    "columns_transformed = data_test_transformed.columns\n",
    "print (data_test_transformed.info())"
   ],
   "outputs": [
    {
     "output_type": "stream",
     "name": "stdout",
     "text": [
      "Потребление памяти меньше на 16.34 Мб (минус 84.9 %)\n",
      "<class 'pandas.core.frame.DataFrame'>\n",
      "RangeIndex: 19765 entries, 0 to 19764\n",
      "Columns: 118 entries, 0 to 117\n",
      "dtypes: float32(118)\n",
      "memory usage: 8.9 MB\n",
      "None\n"
     ]
    }
   ],
   "metadata": {}
  },
  {
   "cell_type": "markdown",
   "source": [
    "## Предсказание данных"
   ],
   "metadata": {}
  },
  {
   "cell_type": "code",
   "execution_count": 115,
   "source": [
    "x_test = pd.DataFrame(data_test_transformed, columns=columns_transformed)\n",
    "\n",
    "data_test_cb = pd.DataFrame(model_cb.predict_proba(x_test))\n",
    "data_test_gb = pd.DataFrame(model_gb.predict_proba(x_test))\n",
    "data_test_lgb = pd.DataFrame(model_lgb.predict(x_test))\n",
    "data_test_svm = pd.DataFrame(model_svm.predict_proba(x_test))"
   ],
   "outputs": [],
   "metadata": {}
  },
  {
   "cell_type": "code",
   "execution_count": 116,
   "source": [
    "def vote_class (x):\n",
    "    return np.argmax(x.values)"
   ],
   "outputs": [],
   "metadata": {}
  },
  {
   "cell_type": "code",
   "execution_count": 117,
   "source": [
    "data_test_proba = data_test_cb.copy()\n",
    "for i in range(0, 8):\n",
    "    data_test_proba[i] = data_test_proba[i]\n",
    "    data_test_proba[i] = data_test_proba[i] + data_test_gb[i]\n",
    "    data_test_proba[i] = data_test_proba[i] + data_test_lgb[i]\n",
    "    data_test_proba[i] = data_test_proba[i] + data_test_svm[i]\n",
    "data_test_proba[\"voted_class\"] = data_test_proba.apply(vote_class, axis=1)"
   ],
   "outputs": [],
   "metadata": {}
  },
  {
   "cell_type": "code",
   "execution_count": 118,
   "source": [
    "\n",
    "def calculate_model(x):\n",
    "    voted_class = data_test_proba['voted_class'].values[x.name]\n",
    "    model = opt_models_by_class[voted_class]\n",
    "        \n",
    "    # LGB дает список вероятностей по классам\n",
    "    if str(type(model)).find('LGBM'):\n",
    "        y = model.predict([x])   \n",
    "        y = np.argmax(y)    \n",
    "        y = 0 if y<0 else 7 if y>7 else y  \n",
    "    else:\n",
    "        y = model.predict(x)\n",
    "    x['Response'] = y\n",
    "\n",
    "    return x\n",
    "\n",
    "data_test_transformed = data_test_transformed.apply(calculate_model, axis=1, result_type='expand')"
   ],
   "outputs": [],
   "metadata": {}
  },
  {
   "cell_type": "markdown",
   "source": [
    "## Подготовка результатов"
   ],
   "metadata": {}
  },
  {
   "cell_type": "code",
   "execution_count": 120,
   "source": [
    "submission = pd.read_csv(\"./data/sample_submission.csv.gz\")"
   ],
   "outputs": [],
   "metadata": {}
  },
  {
   "cell_type": "code",
   "execution_count": 123,
   "source": [
    "submission[\"Response\"] = data_test_transformed[\"Response\"].astype(\"int8\")"
   ],
   "outputs": [],
   "metadata": {}
  },
  {
   "cell_type": "code",
   "execution_count": 125,
   "source": [
    "submission.to_csv(\"./data/submission.csv\", index=False)"
   ],
   "outputs": [],
   "metadata": {}
  }
 ],
 "metadata": {
  "orig_nbformat": 4,
  "language_info": {
   "name": "python",
   "version": "3.8.5",
   "mimetype": "text/x-python",
   "codemirror_mode": {
    "name": "ipython",
    "version": 3
   },
   "pygments_lexer": "ipython3",
   "nbconvert_exporter": "python",
   "file_extension": ".py"
  },
  "kernelspec": {
   "name": "python3",
   "display_name": "Python 3.8.5 64-bit"
  },
  "interpreter": {
   "hash": "916dbcbb3f70747c44a77c7bcd40155683ae19c65e1c03b4aa3499c5328201f1"
  }
 },
 "nbformat": 4,
 "nbformat_minor": 2
}