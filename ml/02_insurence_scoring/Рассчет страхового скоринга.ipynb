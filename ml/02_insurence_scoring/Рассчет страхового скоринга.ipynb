{
 "cells": [
  {
   "cell_type": "markdown",
   "metadata": {},
   "source": [
    "## Постановка задачи\n",
    "Задача страхового скоринга: https://www.kaggle.com/c/prudential-life-insurance-assessment\n",
    "\n",
    "Требуется провести классификацию клиентов по уровню благонадежности для страхования жизни (всего 8 градаций) - Response. Для оценки доступно несколько параметров: виды страховки (Product_Info), возраст (Ins_Age), рост (Ht), вес (Wt), индекс массы тела (BMI), данные о работе (Employment_Info), данные страховки (InsuredInfo), история страхования (Insurance_History), семья (Family_Hist), медицинские данные (Medical_History) и медицинские термины (Medical_Keyword) - всего 126 переменных.\n",
    "\n",
    "## Описание задания\n",
    "\n",
    "Загрузите данные, приведите их к числовым, заполните пропуски, нормализуйте данные и оптимизируйте память.\n",
    "\n",
    "Сформируйте параллельный ансамбль из CatBoost, градиентного бустинга, опорных векторов и LightGBM. Используйте лучшие гиперпараметры, подобранные ранее, или найдите их через перекрестную проверку. Итоговое решение рассчитайте на основании самого точного предсказания класса у определенной модели ансамбля: выберите для каждого класса модель, которая предсказывает его лучше всего.\n",
    "\n",
    "Проведите расчеты и выгрузите результат в виде submission.csv"
   ]
  },
  {
   "cell_type": "code",
   "execution_count": null,
   "metadata": {},
   "outputs": [],
   "source": [
    "import pandas as pd\n",
    "import numpy as np\n",
    "from sklearn.model_selection import train_test_split\n",
    "from sklearn import preprocessing\n",
    "from sklearn.svm import SVC\n",
    "import lightgbm as lgb\n",
    "from catboost import Pool, CatBoostClassifier\n",
    "from sklearn.ensemble import GradientBoostingClassifier"
   ]
  },
  {
   "cell_type": "code",
   "execution_count": null,
   "metadata": {},
   "outputs": [],
   "source": [
    "# Загрузка данных\n",
    "data = pd.read_csv('./data/train.csv.gz')\n",
    "print(data.info())"
   ]
  },
  {
   "cell_type": "code",
   "execution_count": null,
   "metadata": {},
   "outputs": [],
   "source": [
    "# Предобработка данных\n",
    "def data_preprocess (df):\n",
    "    df[\"Product_Info_2_1\"] = df[\"Product_Info_2\"].str.slice(0, 1)\n",
    "    df[\"Product_Info_2_2\"] = pd.to_numeric(df[\"Product_Info_2\"].str.slice(1, 2))\n",
    "    df.drop(labels=[\"Product_Info_2\"], axis=1, inplace=True)\n",
    "    for l in df[\"Product_Info_2_1\"].unique():\n",
    "        df[\"Product_Info_2_1\" + l] = df[\"Product_Info_2_1\"].isin([l]).astype(\"int8\")\n",
    "    df.drop(labels=[\"Product_Info_2_1\"], axis=1, inplace=True)\n",
    "    df.fillna(value=-1, inplace=True)\n",
    "    data[\"Response\"] = data[\"Response\"] - 1\n",
    "    return df"
   ]
  },
  {
   "cell_type": "code",
   "execution_count": null,
   "metadata": {},
   "outputs": [],
   "source": [
    "data = data_preprocess(data)"
   ]
  },
  {
   "cell_type": "code",
   "execution_count": null,
   "metadata": {},
   "outputs": [],
   "source": [
    "# Набор столбцов для рассчета\n",
    "columns_groups = [\"Insurance_History\", \"InsurеdInfo\", \"Medical_Keyword\",\n",
    "                  \"Family_Hist\", \"Medical_History\", \"Product_Info\"]\n",
    "columns = [\"Wt\", \"Ht\", \"Ins_Age\", \"BMI\"]\n",
    "for cg in columns_groups:\n",
    "    columns.extend(data.columns[data.columns.str.startswith(cg)])\n",
    "print ('Columns:', len(columns))"
   ]
  },
  {
   "cell_type": "code",
   "execution_count": null,
   "metadata": {},
   "outputs": [],
   "source": [
    "# Нормализация данных\n",
    "scaler = preprocessing.StandardScaler()\n",
    "data_transformed = pd.DataFrame(scaler.fit_transform(pd.DataFrame(data, columns=columns)))\n",
    "columns_transformed = data_transformed.columns\n",
    "data_transformed[\"Response\"] = data[\"Response\"]"
   ]
  },
  {
   "cell_type": "code",
   "execution_count": null,
   "metadata": {},
   "outputs": [],
   "source": [
    "# Оптимизация памяти\n",
    "def reduce_mem_usage (df):\n",
    "    start_mem = df.memory_usage().sum() / 1024**2    \n",
    "    for col in df.columns:\n",
    "        col_type = df[col].dtypes\n",
    "        if str(col_type)[:5] == \"float\":\n",
    "            c_min = df[col].min()\n",
    "            c_max = df[col].max()\n",
    "            if c_min > np.finfo(\"f2\").min and c_max < np.finfo(\"f2\").max:\n",
    "                df[col] = df[col].astype(np.float16)\n",
    "            elif c_min > np.finfo(\"f4\").min and c_max < np.finfo(\"f4\").max:\n",
    "                df[col] = df[col].astype(np.float32)\n",
    "            else:\n",
    "                df[col] = df[col].astype(np.float64)\n",
    "        elif str(col_type)[:3] == \"int\":\n",
    "            c_min = df[col].min()\n",
    "            c_max = df[col].max()\n",
    "            if c_min > np.iinfo(\"i1\").min and c_max < np.iinfo(\"i1\").max:\n",
    "                df[col] = df[col].astype(np.int8)\n",
    "            elif c_min > np.iinfo(\"i2\").min and c_max < np.iinfo(\"i2\").max:\n",
    "                df[col] = df[col].astype(np.int16)\n",
    "            elif c_min > np.iinfo(\"i4\").min and c_max < np.iinfo(\"i4\").max:\n",
    "                df[col] = df[col].astype(np.int32)\n",
    "            elif c_min > np.iinfo(\"i8\").min and c_max < np.iinfo(\"i8\").max:\n",
    "                df[col] = df[col].astype(np.int64)\n",
    "        else:\n",
    "            df[col] = df[col].astype(\"category\")\n",
    "    end_mem = df.memory_usage().sum() / 1024**2\n",
    "    print('Потребление памяти меньше на', round(start_mem - end_mem, 2), 'Мб (минус', round(100 * (start_mem - end_mem) / start_mem, 1), '%)')\n",
    "    return df"
   ]
  },
  {
   "cell_type": "code",
   "execution_count": null,
   "metadata": {},
   "outputs": [],
   "source": [
    "data_transformed = reduce_mem_usage(data_transformed)\n",
    "print(data_transformed.info())"
   ]
  },
  {
   "cell_type": "markdown",
   "metadata": {},
   "source": [
    "## Рассчет моделей"
   ]
  },
  {
   "cell_type": "code",
   "execution_count": null,
   "metadata": {},
   "outputs": [],
   "source": [
    "data_train, data_test = train_test_split(data_transformed, test_size=0.2)\n",
    "x = pd.DataFrame(data_train, columns=columns_transformed)\n",
    "y = data_train['Response']"
   ]
  },
  {
   "cell_type": "markdown",
   "metadata": {},
   "source": [
    "## CatBoost"
   ]
  },
  {
   "cell_type": "code",
   "execution_count": null,
   "metadata": {},
   "outputs": [],
   "source": [
    "train_dataset = Pool(data=x, label=y)\n",
    "\n",
    "model_cb = CatBoostClassifier(iterations=100,\n",
    "        learning_rate=0.58,\n",
    "        depth=7,\n",
    "        l2_leaf_reg=1,\n",
    "        random_seed=17, loss_function=\"MultiClass\",\n",
    "        bootstrap_type=\"MVS\", custom_metric=\"WKappa\")\n",
    "\n",
    "model_cb.fit(train_dataset)"
   ]
  },
  {
   "cell_type": "markdown",
   "metadata": {},
   "source": [
    "## Градиентный бустинг"
   ]
  },
  {
   "cell_type": "code",
   "execution_count": null,
   "metadata": {},
   "outputs": [],
   "source": [
    "# model_gb = GradientBoostingClassifier(random_state=17, max_depth=13, max_features=26, min_samples_leaf=21, n_estimators=75)\n",
    "model_gb = GradientBoostingClassifier(random_state=17, max_depth=7, max_features=14, min_samples_leaf=20, n_estimators=38)\n",
    "model_gb.fit(x, y)"
   ]
  },
  {
   "cell_type": "markdown",
   "metadata": {},
   "source": [
    "## Метод опорных векторов"
   ]
  },
  {
   "cell_type": "code",
   "execution_count": null,
   "metadata": {},
   "outputs": [],
   "source": [
    "model_svm = SVC(kernel='linear', probability=True, max_iter=1000)\n",
    "model_svm.fit(x, y)"
   ]
  },
  {
   "cell_type": "markdown",
   "metadata": {},
   "source": [
    "## LightGBM"
   ]
  },
  {
   "cell_type": "code",
   "execution_count": null,
   "metadata": {},
   "outputs": [],
   "source": [
    "model_lgb = lgb.LGBMRegressor(random_state=17, max_depth=16,\n",
    "            min_child_samples=17, num_leaves=36, n_estimators=1000,\n",
    "            objective='multiclass', num_class=8)\n",
    "model_lgb.fit(x, y)"
   ]
  },
  {
   "cell_type": "markdown",
   "metadata": {},
   "source": [
    "## Выбор для каждого класса модели, которая предсказывает его лучше всего"
   ]
  },
  {
   "cell_type": "code",
   "execution_count": null,
   "metadata": {},
   "outputs": [],
   "source": [
    "# Рассчитаем модели\n",
    "x_test = pd.DataFrame(data_test, columns=columns_transformed)\n",
    "\n",
    "data_test['target_cb'] = model_cb.predict(x_test)\n",
    "data_test['target_gb'] = model_gb.predict(x_test)\n",
    "data_test['target_svm'] = model_svm.predict(x_test)"
   ]
  },
  {
   "cell_type": "code",
   "execution_count": null,
   "metadata": {},
   "outputs": [],
   "source": [
    "def calc_model_lgb(x):\n",
    "    return np.argmax([x])\n",
    "data_test['target_lgb'] = x_test.apply(calc_model_lgb, axis=1, result_type='expand')\n",
    "data_test['target_lgb'] = data_test['target_lgb'].apply(lambda x:0 if x<0 else 7 if x>7 else x)"
   ]
  },
  {
   "cell_type": "code",
   "execution_count": null,
   "metadata": {},
   "outputs": [],
   "source": [
    "# Определим лучшую модель для каждого класса\n",
    "models = [model_cb, model_gb, model_lgb, model_svm]\n",
    "opt_models_by_class = [x for x in range(8)]\n",
    "models_result = np.zeros((8, 4))\n",
    "\n",
    "for i, row in data_test.iterrows():    \n",
    "    r = int(row['Response'])\n",
    "    if row['Response'] == row['target_cb']: \n",
    "        models_result[r][0] += 1\n",
    "    if row['Response'] == row['target_gb']: \n",
    "        models_result[r][1] += 1\n",
    "    if row['Response'] == row['target_lgb']: \n",
    "        models_result[r][2] += 1\n",
    "    if row['Response'] == row['target_svm']: \n",
    "        models_result[r][3] += 1        \n",
    "\n",
    "for i, cl in enumerate(models_result):\n",
    "    model_class = str(type(models[np.argmax(cl)])).split('.')[-1]\n",
    "    print(i, ':', model_class)\n",
    "    opt_models_by_class[i] = models[np.argmax(cl)]"
   ]
  },
  {
   "cell_type": "markdown",
   "metadata": {},
   "source": [
    "## Загрузка данных для рассчетов"
   ]
  },
  {
   "cell_type": "code",
   "execution_count": null,
   "metadata": {},
   "outputs": [],
   "source": [
    "data_test = pd.read_csv(\"./data/test.csv.gz\")\n",
    "data_test = data_preprocess(data_test)\n",
    "data_test = reduce_mem_usage(data_test)\n",
    "data_test_transformed = pd.DataFrame(scaler.transform(pd.DataFrame(data_test, columns=columns)))\n",
    "columns_transformed = data_test_transformed.columns\n",
    "print (data_test_transformed.info())"
   ]
  },
  {
   "cell_type": "markdown",
   "metadata": {},
   "source": [
    "## Предсказание данных"
   ]
  },
  {
   "cell_type": "code",
   "execution_count": null,
   "metadata": {},
   "outputs": [],
   "source": [
    "x_test = pd.DataFrame(data_test_transformed, columns=columns_transformed)\n",
    "\n",
    "data_test_cb = pd.DataFrame(model_cb.predict_proba(x_test))\n",
    "data_test_gb = pd.DataFrame(model_gb.predict_proba(x_test))\n",
    "data_test_lgb = pd.DataFrame(model_lgb.predict(x_test))\n",
    "data_test_svm = pd.DataFrame(model_svm.predict_proba(x_test))"
   ]
  },
  {
   "cell_type": "code",
   "execution_count": null,
   "metadata": {},
   "outputs": [],
   "source": [
    "def vote_class (x):\n",
    "    return np.argmax(x.values)"
   ]
  },
  {
   "cell_type": "code",
   "execution_count": null,
   "metadata": {},
   "outputs": [],
   "source": [
    "data_test_proba = data_test_cb.copy()\n",
    "for i in range(0, 8):\n",
    "    data_test_proba[i] = data_test_proba[i]\n",
    "    data_test_proba[i] = data_test_proba[i] + data_test_gb[i]\n",
    "    data_test_proba[i] = data_test_proba[i] + data_test_lgb[i]\n",
    "    data_test_proba[i] = data_test_proba[i] + data_test_svm[i]\n",
    "data_test_proba[\"voted_class\"] = data_test_proba.apply(vote_class, axis=1)"
   ]
  },
  {
   "cell_type": "code",
   "execution_count": null,
   "metadata": {},
   "outputs": [],
   "source": [
    "def getOptModel(x):\n",
    "    cb_res = model_cb.predict(x)\n",
    "    gb_res = model_gb.predict([x])\n",
    "    lgb_res = model_lgb.predict([x])\n",
    "    lgb_res = np.argmax(lgb_res)\n",
    "    lgb_res = 0 if lgb_res<0 else 7 if lgb_res>7 else lgb_res\n",
    "    svm_res = model_svm.predict([x])\n",
    "\n",
    "    n = 0\n",
    "    model = opt_models_by_class[int(cb_res)]\n",
    "    if str(type(model)).find('CatBoost'): \n",
    "        n += 1\n",
    "    \n",
    "    model = opt_models_by_class[int(gb_res)]\n",
    "    if str(type(model)).find('GradientBoosting'):\n",
    "        n += 1\n",
    "    \n",
    "    model = opt_models_by_class[int(lgb_res)]\n",
    "    if str(type(model)).find('LGBM'):\n",
    "        n += 1\n",
    "    \n",
    "    model = opt_models_by_class[int(svm_res)]\n",
    "    if str(type(model)).find('SVC'):\n",
    "        n += 1\n",
    "\n",
    "    # Если никакая модель не выдала свой самый точный класс, или несколько моделей выдало свои самые точные классы,\n",
    "    # то берем наилучшую модель для класса, выбранный мягким голосованием\n",
    "    if n != 1:\n",
    "        voted_class = data_test_proba['voted_class'].values[x.name]\n",
    "        model = opt_models_by_class[voted_class]\n",
    "\n",
    "    return model"
   ]
  },
  {
   "cell_type": "code",
   "execution_count": null,
   "metadata": {},
   "outputs": [],
   "source": [
    "\n",
    "def calculate_model(x):\n",
    "    model = getOptModel(x)\n",
    "        \n",
    "    # LGB дает список вероятностей по классам\n",
    "    if str(type(model)).find('LGBM'):\n",
    "        y = model.predict([x])   \n",
    "        y = np.argmax(y)    \n",
    "        y = 0 if y<0 else 7 if y>7 else y  \n",
    "    else:\n",
    "        y = model.predict(x)\n",
    "    x['Response'] = y\n",
    "\n",
    "    return x\n",
    "\n",
    "data_test_transformed = data_test_transformed.apply(calculate_model, axis=1, result_type='expand')"
   ]
  },
  {
   "cell_type": "markdown",
   "metadata": {},
   "source": [
    "## Подготовка результатов"
   ]
  },
  {
   "cell_type": "code",
   "execution_count": null,
   "metadata": {},
   "outputs": [],
   "source": [
    "submission = pd.read_csv(\"./data/sample_submission.csv.gz\")"
   ]
  },
  {
   "cell_type": "code",
   "execution_count": null,
   "metadata": {},
   "outputs": [],
   "source": [
    "submission[\"Response\"] = data_test_transformed[\"Response\"].astype(\"int8\")"
   ]
  },
  {
   "cell_type": "code",
   "execution_count": null,
   "metadata": {},
   "outputs": [],
   "source": [
    "submission.to_csv(\"./data/submission.csv\", index=False)"
   ]
  }
 ],
 "metadata": {
  "interpreter": {
   "hash": "916dbcbb3f70747c44a77c7bcd40155683ae19c65e1c03b4aa3499c5328201f1"
  },
  "kernelspec": {
   "display_name": "Python 3.8.5 64-bit",
   "name": "python3"
  },
  "language_info": {
   "codemirror_mode": {
    "name": "ipython",
    "version": 3
   },
   "file_extension": ".py",
   "mimetype": "text/x-python",
   "name": "python",
   "nbconvert_exporter": "python",
   "pygments_lexer": "ipython3",
   "version": "3.8.5"
  },
  "orig_nbformat": 4
 },
 "nbformat": 4,
 "nbformat_minor": 2
}
