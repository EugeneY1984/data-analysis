{
 "cells": [
  {
   "cell_type": "markdown",
   "metadata": {},
   "source": [
    "## Постановка задачи\n",
    "Задача страхового скоринга: https://www.kaggle.com/c/prudential-life-insurance-assessment\n",
    "\n",
    "Требуется провести классификацию клиентов по уровню благонадежности для страхования жизни (всего 8 градаций) - Response. Для оценки доступно несколько параметров: виды страховки (Product_Info), возраст (Ins_Age), рост (Ht), вес (Wt), индекс массы тела (BMI), данные о работе (Employment_Info), данные страховки (InsuredInfo), история страхования (Insurance_History), семья (Family_Hist), медицинские данные (Medical_History) и медицинские термины (Medical_Keyword) - всего 126 переменных.\n",
    "\n",
    "## Описание задания\n",
    "\n",
    "Загрузите данные, приведите их к числовым, заполните пропуски, нормализуйте данные и оптимизируйте память.\n",
    "\n",
    "Сформируйте параллельный ансамбль из CatBoost, градиентного бустинга, опорных векторов и LightGBM. Используйте лучшие гиперпараметры, подобранные ранее, или найдите их через перекрестную проверку. Итоговое решение рассчитайте на основании самого точного предсказания класса у определенной модели ансамбля: выберите для каждого класса модель, которая предсказывает его лучше всего.\n",
    "\n",
    "Проведите расчеты и выгрузите результат в виде submission.csv"
   ]
  },
  {
   "cell_type": "code",
   "execution_count": 1,
   "metadata": {},
   "outputs": [],
   "source": [
    "import pandas as pd\n",
    "import numpy as np\n",
    "from sklearn.model_selection import train_test_split\n",
    "from sklearn import preprocessing\n",
    "from sklearn.svm import SVC\n",
    "import lightgbm as lgb\n",
    "from catboost import Pool, CatBoostClassifier\n",
    "from sklearn.ensemble import GradientBoostingClassifier"
   ]
  },
  {
   "cell_type": "code",
   "execution_count": 2,
   "metadata": {},
   "outputs": [
    {
     "name": "stdout",
     "output_type": "stream",
     "text": [
      "<class 'pandas.core.frame.DataFrame'>\n",
      "RangeIndex: 59381 entries, 0 to 59380\n",
      "Columns: 128 entries, Id to Response\n",
      "dtypes: float64(18), int64(109), object(1)\n",
      "memory usage: 58.0+ MB\n",
      "None\n"
     ]
    }
   ],
   "source": [
    "# Загрузка данных\n",
    "data = pd.read_csv('./data/train.csv.gz')\n",
    "print(data.info())"
   ]
  },
  {
   "cell_type": "code",
   "execution_count": 3,
   "metadata": {},
   "outputs": [],
   "source": [
    "# Предобработка данных\n",
    "def data_preprocess (df):\n",
    "    df[\"Product_Info_2_1\"] = df[\"Product_Info_2\"].str.slice(0, 1)\n",
    "    df[\"Product_Info_2_2\"] = pd.to_numeric(df[\"Product_Info_2\"].str.slice(1, 2))\n",
    "    df.drop(labels=[\"Product_Info_2\"], axis=1, inplace=True)\n",
    "    for l in df[\"Product_Info_2_1\"].unique():\n",
    "        df[\"Product_Info_2_1\" + l] = df[\"Product_Info_2_1\"].isin([l]).astype(\"int8\")\n",
    "    df.drop(labels=[\"Product_Info_2_1\"], axis=1, inplace=True)\n",
    "    df.fillna(value=-1, inplace=True)\n",
    "    data[\"Response\"] = data[\"Response\"] - 1\n",
    "    return df"
   ]
  },
  {
   "cell_type": "code",
   "execution_count": 4,
   "metadata": {},
   "outputs": [],
   "source": [
    "data = data_preprocess(data)"
   ]
  },
  {
   "cell_type": "code",
   "execution_count": 5,
   "metadata": {},
   "outputs": [
    {
     "name": "stdout",
     "output_type": "stream",
     "text": [
      "Columns: 118\n"
     ]
    }
   ],
   "source": [
    "# Набор столбцов для рассчета\n",
    "columns_groups = [\"Insurance_History\", \"InsurеdInfo\", \"Medical_Keyword\",\n",
    "                  \"Family_Hist\", \"Medical_History\", \"Product_Info\"]\n",
    "columns = [\"Wt\", \"Ht\", \"Ins_Age\", \"BMI\"]\n",
    "for cg in columns_groups:\n",
    "    columns.extend(data.columns[data.columns.str.startswith(cg)])\n",
    "print ('Columns:', len(columns))"
   ]
  },
  {
   "cell_type": "code",
   "execution_count": 6,
   "metadata": {},
   "outputs": [],
   "source": [
    "# Нормализация данных\n",
    "scaler = preprocessing.StandardScaler()\n",
    "data_transformed = pd.DataFrame(scaler.fit_transform(pd.DataFrame(data, columns=columns)))\n",
    "columns_transformed = data_transformed.columns\n",
    "data_transformed[\"Response\"] = data[\"Response\"]"
   ]
  },
  {
   "cell_type": "code",
   "execution_count": 7,
   "metadata": {},
   "outputs": [],
   "source": [
    "# Оптимизация памяти\n",
    "def reduce_mem_usage (df):\n",
    "    start_mem = df.memory_usage().sum() / 1024**2    \n",
    "    for col in df.columns:\n",
    "        col_type = df[col].dtypes\n",
    "        if str(col_type)[:5] == \"float\":\n",
    "            c_min = df[col].min()\n",
    "            c_max = df[col].max()\n",
    "            if c_min > np.finfo(\"f2\").min and c_max < np.finfo(\"f2\").max:\n",
    "                df[col] = df[col].astype(np.float16)\n",
    "            elif c_min > np.finfo(\"f4\").min and c_max < np.finfo(\"f4\").max:\n",
    "                df[col] = df[col].astype(np.float32)\n",
    "            else:\n",
    "                df[col] = df[col].astype(np.float64)\n",
    "        elif str(col_type)[:3] == \"int\":\n",
    "            c_min = df[col].min()\n",
    "            c_max = df[col].max()\n",
    "            if c_min > np.iinfo(\"i1\").min and c_max < np.iinfo(\"i1\").max:\n",
    "                df[col] = df[col].astype(np.int8)\n",
    "            elif c_min > np.iinfo(\"i2\").min and c_max < np.iinfo(\"i2\").max:\n",
    "                df[col] = df[col].astype(np.int16)\n",
    "            elif c_min > np.iinfo(\"i4\").min and c_max < np.iinfo(\"i4\").max:\n",
    "                df[col] = df[col].astype(np.int32)\n",
    "            elif c_min > np.iinfo(\"i8\").min and c_max < np.iinfo(\"i8\").max:\n",
    "                df[col] = df[col].astype(np.int64)\n",
    "        else:\n",
    "            df[col] = df[col].astype(\"category\")\n",
    "    end_mem = df.memory_usage().sum() / 1024**2\n",
    "    print('Потребление памяти меньше на', round(start_mem - end_mem, 2), 'Мб (минус', round(100 * (start_mem - end_mem) / start_mem, 1), '%)')\n",
    "    return df"
   ]
  },
  {
   "cell_type": "code",
   "execution_count": 8,
   "metadata": {},
   "outputs": [
    {
     "name": "stdout",
     "output_type": "stream",
     "text": [
      "Потребление памяти меньше на 40.49 Мб (минус 75.1 %)\n",
      "<class 'pandas.core.frame.DataFrame'>\n",
      "RangeIndex: 59381 entries, 0 to 59380\n",
      "Columns: 119 entries, 0 to Response\n",
      "dtypes: float16(118), int8(1)\n",
      "memory usage: 13.4 MB\n",
      "None\n"
     ]
    }
   ],
   "source": [
    "data_transformed = reduce_mem_usage(data_transformed)\n",
    "print(data_transformed.info())"
   ]
  },
  {
   "cell_type": "markdown",
   "metadata": {},
   "source": [
    "## Рассчет моделей"
   ]
  },
  {
   "cell_type": "code",
   "execution_count": 9,
   "metadata": {},
   "outputs": [],
   "source": [
    "data_train, data_test = train_test_split(data_transformed, test_size=0.2)\n",
    "x = pd.DataFrame(data_train, columns=columns_transformed)\n",
    "y = data_train['Response']"
   ]
  },
  {
   "cell_type": "markdown",
   "metadata": {},
   "source": [
    "## CatBoost"
   ]
  },
  {
   "cell_type": "code",
   "execution_count": 10,
   "metadata": {},
   "outputs": [
    {
     "name": "stdout",
     "output_type": "stream",
     "text": [
      "0:\tlearn: 1.5247446\ttotal: 184ms\tremaining: 18.2s\n",
      "1:\tlearn: 1.3773391\ttotal: 282ms\tremaining: 13.8s\n",
      "2:\tlearn: 1.3350589\ttotal: 372ms\tremaining: 12s\n",
      "3:\tlearn: 1.3035095\ttotal: 473ms\tremaining: 11.4s\n",
      "4:\tlearn: 1.2824761\ttotal: 570ms\tremaining: 10.8s\n",
      "5:\tlearn: 1.2648602\ttotal: 669ms\tremaining: 10.5s\n",
      "6:\tlearn: 1.2517940\ttotal: 767ms\tremaining: 10.2s\n",
      "7:\tlearn: 1.2413652\ttotal: 859ms\tremaining: 9.88s\n",
      "8:\tlearn: 1.2338946\ttotal: 950ms\tremaining: 9.61s\n",
      "9:\tlearn: 1.2270294\ttotal: 1.05s\tremaining: 9.44s\n",
      "10:\tlearn: 1.2210753\ttotal: 1.14s\tremaining: 9.26s\n",
      "11:\tlearn: 1.2142604\ttotal: 1.23s\tremaining: 9.05s\n",
      "12:\tlearn: 1.2051687\ttotal: 1.35s\tremaining: 9.04s\n",
      "13:\tlearn: 1.2002528\ttotal: 1.48s\tremaining: 9.06s\n",
      "14:\tlearn: 1.1934799\ttotal: 1.6s\tremaining: 9.07s\n",
      "15:\tlearn: 1.1752871\ttotal: 1.72s\tremaining: 9.04s\n",
      "16:\tlearn: 1.1704791\ttotal: 1.84s\tremaining: 9.01s\n",
      "17:\tlearn: 1.1668390\ttotal: 1.97s\tremaining: 8.96s\n",
      "18:\tlearn: 1.1597529\ttotal: 2.1s\tremaining: 8.95s\n",
      "19:\tlearn: 1.1500299\ttotal: 2.23s\tremaining: 8.94s\n",
      "20:\tlearn: 1.1435039\ttotal: 2.36s\tremaining: 8.87s\n",
      "21:\tlearn: 1.1333913\ttotal: 2.48s\tremaining: 8.8s\n",
      "22:\tlearn: 1.1293071\ttotal: 2.61s\tremaining: 8.74s\n",
      "23:\tlearn: 1.1236507\ttotal: 2.73s\tremaining: 8.64s\n",
      "24:\tlearn: 1.1177885\ttotal: 2.83s\tremaining: 8.49s\n",
      "25:\tlearn: 1.1127235\ttotal: 2.94s\tremaining: 8.37s\n",
      "26:\tlearn: 1.1086837\ttotal: 3.04s\tremaining: 8.22s\n",
      "27:\tlearn: 1.1043044\ttotal: 3.15s\tremaining: 8.09s\n",
      "28:\tlearn: 1.1008798\ttotal: 3.25s\tremaining: 7.95s\n",
      "29:\tlearn: 1.0962658\ttotal: 3.35s\tremaining: 7.82s\n",
      "30:\tlearn: 1.0921271\ttotal: 3.44s\tremaining: 7.66s\n",
      "31:\tlearn: 1.0884726\ttotal: 3.54s\tremaining: 7.53s\n",
      "32:\tlearn: 1.0856537\ttotal: 3.64s\tremaining: 7.39s\n",
      "33:\tlearn: 1.0822827\ttotal: 3.75s\tremaining: 7.29s\n",
      "34:\tlearn: 1.0798497\ttotal: 3.9s\tremaining: 7.23s\n",
      "35:\tlearn: 1.0779273\ttotal: 4.04s\tremaining: 7.17s\n",
      "36:\tlearn: 1.0740357\ttotal: 4.19s\tremaining: 7.13s\n",
      "37:\tlearn: 1.0692022\ttotal: 4.36s\tremaining: 7.11s\n",
      "38:\tlearn: 1.0671749\ttotal: 4.5s\tremaining: 7.04s\n",
      "39:\tlearn: 1.0633403\ttotal: 4.62s\tremaining: 6.93s\n",
      "40:\tlearn: 1.0585012\ttotal: 4.73s\tremaining: 6.81s\n",
      "41:\tlearn: 1.0552664\ttotal: 4.85s\tremaining: 6.7s\n",
      "42:\tlearn: 1.0528523\ttotal: 4.97s\tremaining: 6.59s\n",
      "43:\tlearn: 1.0511297\ttotal: 5.08s\tremaining: 6.47s\n",
      "44:\tlearn: 1.0489049\ttotal: 5.19s\tremaining: 6.35s\n",
      "45:\tlearn: 1.0467271\ttotal: 5.31s\tremaining: 6.23s\n",
      "46:\tlearn: 1.0427721\ttotal: 5.42s\tremaining: 6.11s\n",
      "47:\tlearn: 1.0403834\ttotal: 5.54s\tremaining: 6s\n",
      "48:\tlearn: 1.0364037\ttotal: 5.65s\tremaining: 5.88s\n",
      "49:\tlearn: 1.0334595\ttotal: 5.77s\tremaining: 5.77s\n",
      "50:\tlearn: 1.0313569\ttotal: 5.88s\tremaining: 5.65s\n",
      "51:\tlearn: 1.0289280\ttotal: 5.99s\tremaining: 5.53s\n",
      "52:\tlearn: 1.0255648\ttotal: 6.1s\tremaining: 5.41s\n",
      "53:\tlearn: 1.0217814\ttotal: 6.22s\tremaining: 5.3s\n",
      "54:\tlearn: 1.0185128\ttotal: 6.34s\tremaining: 5.19s\n",
      "55:\tlearn: 1.0151016\ttotal: 6.45s\tremaining: 5.07s\n",
      "56:\tlearn: 1.0127239\ttotal: 6.56s\tremaining: 4.95s\n",
      "57:\tlearn: 1.0105569\ttotal: 6.67s\tremaining: 4.83s\n",
      "58:\tlearn: 1.0082741\ttotal: 6.79s\tremaining: 4.72s\n",
      "59:\tlearn: 1.0045760\ttotal: 6.9s\tremaining: 4.6s\n",
      "60:\tlearn: 1.0014097\ttotal: 7.01s\tremaining: 4.49s\n",
      "61:\tlearn: 0.9993520\ttotal: 7.13s\tremaining: 4.37s\n",
      "62:\tlearn: 0.9991913\ttotal: 7.25s\tremaining: 4.25s\n",
      "63:\tlearn: 0.9963784\ttotal: 7.36s\tremaining: 4.14s\n",
      "64:\tlearn: 0.9941064\ttotal: 7.49s\tremaining: 4.03s\n",
      "65:\tlearn: 0.9915959\ttotal: 7.6s\tremaining: 3.92s\n",
      "66:\tlearn: 0.9889939\ttotal: 7.71s\tremaining: 3.8s\n",
      "67:\tlearn: 0.9858923\ttotal: 7.83s\tremaining: 3.69s\n",
      "68:\tlearn: 0.9832363\ttotal: 7.94s\tremaining: 3.57s\n",
      "69:\tlearn: 0.9811055\ttotal: 8.06s\tremaining: 3.45s\n",
      "70:\tlearn: 0.9783215\ttotal: 8.17s\tremaining: 3.34s\n",
      "71:\tlearn: 0.9779801\ttotal: 8.28s\tremaining: 3.22s\n",
      "72:\tlearn: 0.9757749\ttotal: 8.4s\tremaining: 3.11s\n",
      "73:\tlearn: 0.9726168\ttotal: 8.51s\tremaining: 2.99s\n",
      "74:\tlearn: 0.9714275\ttotal: 8.64s\tremaining: 2.88s\n",
      "75:\tlearn: 0.9681436\ttotal: 8.82s\tremaining: 2.78s\n",
      "76:\tlearn: 0.9675116\ttotal: 8.97s\tremaining: 2.68s\n",
      "77:\tlearn: 0.9642671\ttotal: 9.08s\tremaining: 2.56s\n",
      "78:\tlearn: 0.9631406\ttotal: 9.19s\tremaining: 2.44s\n",
      "79:\tlearn: 0.9607336\ttotal: 9.3s\tremaining: 2.33s\n",
      "80:\tlearn: 0.9598946\ttotal: 9.4s\tremaining: 2.21s\n",
      "81:\tlearn: 0.9582247\ttotal: 9.49s\tremaining: 2.08s\n",
      "82:\tlearn: 0.9551005\ttotal: 9.61s\tremaining: 1.97s\n",
      "83:\tlearn: 0.9531582\ttotal: 9.74s\tremaining: 1.86s\n",
      "84:\tlearn: 0.9501461\ttotal: 9.88s\tremaining: 1.74s\n",
      "85:\tlearn: 0.9474121\ttotal: 9.99s\tremaining: 1.63s\n",
      "86:\tlearn: 0.9451525\ttotal: 10.1s\tremaining: 1.51s\n",
      "87:\tlearn: 0.9451109\ttotal: 10.3s\tremaining: 1.4s\n",
      "88:\tlearn: 0.9434002\ttotal: 10.4s\tremaining: 1.28s\n",
      "89:\tlearn: 0.9417325\ttotal: 10.5s\tremaining: 1.17s\n",
      "90:\tlearn: 0.9393108\ttotal: 10.6s\tremaining: 1.05s\n",
      "91:\tlearn: 0.9368255\ttotal: 10.8s\tremaining: 936ms\n",
      "92:\tlearn: 0.9348152\ttotal: 10.9s\tremaining: 820ms\n",
      "93:\tlearn: 0.9329742\ttotal: 11s\tremaining: 702ms\n",
      "94:\tlearn: 0.9315635\ttotal: 11.1s\tremaining: 584ms\n",
      "95:\tlearn: 0.9302069\ttotal: 11.2s\tremaining: 467ms\n",
      "96:\tlearn: 0.9285714\ttotal: 11.3s\tremaining: 349ms\n",
      "97:\tlearn: 0.9251941\ttotal: 11.4s\tremaining: 233ms\n",
      "98:\tlearn: 0.9232874\ttotal: 11.5s\tremaining: 116ms\n",
      "99:\tlearn: 0.9207049\ttotal: 11.6s\tremaining: 0us\n"
     ]
    },
    {
     "data": {
      "text/plain": [
       "<catboost.core.CatBoostClassifier at 0x7fbf6ab1b520>"
      ]
     },
     "execution_count": 10,
     "metadata": {},
     "output_type": "execute_result"
    }
   ],
   "source": [
    "train_dataset = Pool(data=x, label=y)\n",
    "\n",
    "model_cb = CatBoostClassifier(iterations=100,\n",
    "        learning_rate=0.58,\n",
    "        depth=7,\n",
    "        l2_leaf_reg=1,\n",
    "        random_seed=17, loss_function=\"MultiClass\",\n",
    "        bootstrap_type=\"MVS\", custom_metric=\"WKappa\")\n",
    "\n",
    "model_cb.fit(train_dataset)"
   ]
  },
  {
   "cell_type": "markdown",
   "metadata": {},
   "source": [
    "## Градиентный бустинг"
   ]
  },
  {
   "cell_type": "code",
   "execution_count": 11,
   "metadata": {},
   "outputs": [
    {
     "data": {
      "text/plain": [
       "GradientBoostingClassifier(max_depth=7, max_features=14, min_samples_leaf=20,\n",
       "                           n_estimators=38, random_state=17)"
      ]
     },
     "execution_count": 11,
     "metadata": {},
     "output_type": "execute_result"
    }
   ],
   "source": [
    "# model_gb = GradientBoostingClassifier(random_state=17, max_depth=13, max_features=26, min_samples_leaf=21, n_estimators=75)\n",
    "model_gb = GradientBoostingClassifier(random_state=17, max_depth=7, max_features=14, min_samples_leaf=20, n_estimators=38)\n",
    "model_gb.fit(x, y)"
   ]
  },
  {
   "cell_type": "markdown",
   "metadata": {},
   "source": [
    "## Метод опорных векторов"
   ]
  },
  {
   "cell_type": "code",
   "execution_count": 12,
   "metadata": {},
   "outputs": [
    {
     "name": "stderr",
     "output_type": "stream",
     "text": [
      "/home/eugeney/.local/lib/python3.8/site-packages/sklearn/svm/_base.py:255: ConvergenceWarning: Solver terminated early (max_iter=1000).  Consider pre-processing your data with StandardScaler or MinMaxScaler.\n",
      "  warnings.warn('Solver terminated early (max_iter=%i).'\n"
     ]
    },
    {
     "data": {
      "text/plain": [
       "SVC(kernel='linear', max_iter=1000, probability=True)"
      ]
     },
     "execution_count": 12,
     "metadata": {},
     "output_type": "execute_result"
    }
   ],
   "source": [
    "model_svm = SVC(kernel='linear', probability=True, max_iter=1000)\n",
    "model_svm.fit(x, y)"
   ]
  },
  {
   "cell_type": "markdown",
   "metadata": {},
   "source": [
    "## LightGBM"
   ]
  },
  {
   "cell_type": "code",
   "execution_count": 13,
   "metadata": {},
   "outputs": [
    {
     "data": {
      "text/plain": [
       "LGBMRegressor(max_depth=16, min_child_samples=17, n_estimators=1000,\n",
       "              num_class=8, num_leaves=36, objective='multiclass',\n",
       "              random_state=17)"
      ]
     },
     "execution_count": 13,
     "metadata": {},
     "output_type": "execute_result"
    }
   ],
   "source": [
    "model_lgb = lgb.LGBMRegressor(random_state=17, max_depth=16,\n",
    "            min_child_samples=17, num_leaves=36, n_estimators=1000,\n",
    "            objective='multiclass', num_class=8)\n",
    "model_lgb.fit(x, y)"
   ]
  },
  {
   "cell_type": "markdown",
   "metadata": {},
   "source": [
    "## Выбор для каждого класса модели, которая предсказывает его лучше всего"
   ]
  },
  {
   "cell_type": "code",
   "execution_count": 14,
   "metadata": {},
   "outputs": [
    {
     "name": "stderr",
     "output_type": "stream",
     "text": [
      "/home/eugeney/.local/lib/python3.8/site-packages/pandas/core/frame.py:3607: SettingWithCopyWarning: \n",
      "A value is trying to be set on a copy of a slice from a DataFrame.\n",
      "Try using .loc[row_indexer,col_indexer] = value instead\n",
      "\n",
      "See the caveats in the documentation: https://pandas.pydata.org/pandas-docs/stable/user_guide/indexing.html#returning-a-view-versus-a-copy\n",
      "  self._set_item(key, value)\n",
      "/home/eugeney/.local/lib/python3.8/site-packages/pandas/core/frame.py:3607: SettingWithCopyWarning: \n",
      "A value is trying to be set on a copy of a slice from a DataFrame.\n",
      "Try using .loc[row_indexer,col_indexer] = value instead\n",
      "\n",
      "See the caveats in the documentation: https://pandas.pydata.org/pandas-docs/stable/user_guide/indexing.html#returning-a-view-versus-a-copy\n",
      "  self._set_item(key, value)\n",
      "/home/eugeney/.local/lib/python3.8/site-packages/pandas/core/frame.py:3607: SettingWithCopyWarning: \n",
      "A value is trying to be set on a copy of a slice from a DataFrame.\n",
      "Try using .loc[row_indexer,col_indexer] = value instead\n",
      "\n",
      "See the caveats in the documentation: https://pandas.pydata.org/pandas-docs/stable/user_guide/indexing.html#returning-a-view-versus-a-copy\n",
      "  self._set_item(key, value)\n"
     ]
    }
   ],
   "source": [
    "# Рассчитаем модели\n",
    "x_test = pd.DataFrame(data_test, columns=columns_transformed)\n",
    "\n",
    "data_test['target_cb'] = model_cb.predict(x_test)\n",
    "data_test['target_gb'] = model_gb.predict(x_test)\n",
    "data_test['target_svm'] = model_svm.predict(x_test)"
   ]
  },
  {
   "cell_type": "code",
   "execution_count": 15,
   "metadata": {},
   "outputs": [],
   "source": [
    "def calc_model_lgb(x):\n",
    "    return np.argmax([x])\n",
    "data_test['target_lgb'] = x_test.apply(calc_model_lgb, axis=1, result_type='expand')\n",
    "data_test['target_lgb'] = data_test['target_lgb'].apply(lambda x:0 if x<0 else 7 if x>7 else x)"
   ]
  },
  {
   "cell_type": "code",
   "execution_count": 16,
   "metadata": {},
   "outputs": [
    {
     "name": "stdout",
     "output_type": "stream",
     "text": [
      "0 : SVC'>\n",
      "1 : CatBoostClassifier'>\n",
      "2 : CatBoostClassifier'>\n",
      "3 : GradientBoostingClassifier'>\n",
      "4 : GradientBoostingClassifier'>\n",
      "5 : GradientBoostingClassifier'>\n",
      "6 : CatBoostClassifier'>\n",
      "7 : LGBMRegressor'>\n"
     ]
    }
   ],
   "source": [
    "# Определим лучшую модель для каждого класса\n",
    "models = [model_cb, model_gb, model_lgb, model_svm]\n",
    "opt_models_by_class = [x for x in range(8)]\n",
    "models_result = np.zeros((8, 4))\n",
    "\n",
    "for i, row in data_test.iterrows():    \n",
    "    r = int(row['Response'])\n",
    "    if row['Response'] == row['target_cb']: \n",
    "        models_result[r][0] += 1\n",
    "    if row['Response'] == row['target_gb']: \n",
    "        models_result[r][1] += 1\n",
    "    if row['Response'] == row['target_lgb']: \n",
    "        models_result[r][2] += 1\n",
    "    if row['Response'] == row['target_svm']: \n",
    "        models_result[r][3] += 1        \n",
    "\n",
    "for i, cl in enumerate(models_result):\n",
    "    model_class = str(type(models[np.argmax(cl)])).split('.')[-1]\n",
    "    print(i, ':', model_class)\n",
    "    opt_models_by_class[i] = models[np.argmax(cl)]"
   ]
  },
  {
   "cell_type": "markdown",
   "metadata": {},
   "source": [
    "## Загрузка данных для рассчетов"
   ]
  },
  {
   "cell_type": "code",
   "execution_count": 17,
   "metadata": {},
   "outputs": [
    {
     "name": "stdout",
     "output_type": "stream",
     "text": [
      "Потребление памяти меньше на 16.34 Мб (минус 84.9 %)\n",
      "<class 'pandas.core.frame.DataFrame'>\n",
      "RangeIndex: 19765 entries, 0 to 19764\n",
      "Columns: 118 entries, 0 to 117\n",
      "dtypes: float32(118)\n",
      "memory usage: 8.9 MB\n",
      "None\n"
     ]
    }
   ],
   "source": [
    "data_test = pd.read_csv(\"./data/test.csv.gz\")\n",
    "data_test = data_preprocess(data_test)\n",
    "data_test = reduce_mem_usage(data_test)\n",
    "data_test_transformed = pd.DataFrame(scaler.transform(pd.DataFrame(data_test, columns=columns)))\n",
    "columns_transformed = data_test_transformed.columns\n",
    "print (data_test_transformed.info())"
   ]
  },
  {
   "cell_type": "markdown",
   "metadata": {},
   "source": [
    "## Предсказание данных"
   ]
  },
  {
   "cell_type": "code",
   "execution_count": 18,
   "metadata": {},
   "outputs": [],
   "source": [
    "x_test = pd.DataFrame(data_test_transformed, columns=columns_transformed)\n",
    "\n",
    "data_test_cb = pd.DataFrame(model_cb.predict_proba(x_test))\n",
    "data_test_gb = pd.DataFrame(model_gb.predict_proba(x_test))\n",
    "data_test_lgb = pd.DataFrame(model_lgb.predict(x_test))\n",
    "data_test_svm = pd.DataFrame(model_svm.predict_proba(x_test))"
   ]
  },
  {
   "cell_type": "code",
   "execution_count": 19,
   "metadata": {},
   "outputs": [],
   "source": [
    "def vote_class (x):\n",
    "    return np.argmax(x.values)"
   ]
  },
  {
   "cell_type": "code",
   "execution_count": 20,
   "metadata": {},
   "outputs": [],
   "source": [
    "data_test_proba = data_test_cb.copy()\n",
    "for i in range(0, 8):\n",
    "    data_test_proba[i] = data_test_proba[i]\n",
    "    data_test_proba[i] = data_test_proba[i] + data_test_gb[i]\n",
    "    data_test_proba[i] = data_test_proba[i] + data_test_lgb[i]\n",
    "    data_test_proba[i] = data_test_proba[i] + data_test_svm[i]\n",
    "data_test_proba[\"voted_class\"] = data_test_proba.apply(vote_class, axis=1)"
   ]
  },
  {
   "cell_type": "code",
   "execution_count": 29,
   "metadata": {},
   "outputs": [],
   "source": [
    "def getOptModel(x):\n",
    "    cb_res = model_cb.predict(x)\n",
    "    gb_res = model_gb.predict([x])\n",
    "    lgb_res = model_lgb.predict([x])\n",
    "    lgb_res = np.argmax(lgb_res)\n",
    "    lgb_res = 0 if lgb_res<0 else 7 if lgb_res>7 else lgb_res\n",
    "    svm_res = model_svm.predict([x])\n",
    "\n",
    "    n = 0\n",
    "    model = opt_models_by_class[int(cb_res)]\n",
    "    if str(type(model)).find('CatBoost'): \n",
    "        n += 1\n",
    "    \n",
    "    model = opt_models_by_class[int(gb_res)]\n",
    "    if str(type(model)).find('GradientBoosting'):\n",
    "        n += 1\n",
    "    \n",
    "    model = opt_models_by_class[int(lgb_res)]\n",
    "    if str(type(model)).find('LGBM'):\n",
    "        n += 1\n",
    "    \n",
    "    model = opt_models_by_class[int(svm_res)]\n",
    "    if str(type(model)).find('SVC'):\n",
    "        n += 1\n",
    "\n",
    "    # Если никакая модель не выдала свой самый точный класс, или несколько моделей выдало свои самые точные классы,\n",
    "    # то берем наилучшую модель для класса, выбранный мягким голосованием\n",
    "    if n != 1:\n",
    "        voted_class = data_test_proba['voted_class'].values[x.name]\n",
    "        model = opt_models_by_class[voted_class]\n",
    "\n",
    "    return model"
   ]
  },
  {
   "cell_type": "code",
   "execution_count": 30,
   "metadata": {},
   "outputs": [],
   "source": [
    "\n",
    "def calculate_model(x):\n",
    "    model = getOptModel(x)\n",
    "        \n",
    "    # LGB дает список вероятностей по классам\n",
    "    if str(type(model)).find('LGBM'):\n",
    "        y = model.predict([x])   \n",
    "        y = np.argmax(y)    \n",
    "        y = 0 if y<0 else 7 if y>7 else y  \n",
    "    else:\n",
    "        y = model.predict(x)\n",
    "    x['Response'] = y\n",
    "\n",
    "    return x\n",
    "\n",
    "data_test_transformed = data_test_transformed.apply(calculate_model, axis=1, result_type='expand')"
   ]
  },
  {
   "cell_type": "markdown",
   "metadata": {},
   "source": [
    "## Подготовка результатов"
   ]
  },
  {
   "cell_type": "code",
   "execution_count": 31,
   "metadata": {},
   "outputs": [],
   "source": [
    "submission = pd.read_csv(\"./data/sample_submission.csv.gz\")"
   ]
  },
  {
   "cell_type": "code",
   "execution_count": 32,
   "metadata": {},
   "outputs": [],
   "source": [
    "submission[\"Response\"] = data_test_transformed[\"Response\"].astype(\"int8\")"
   ]
  },
  {
   "cell_type": "code",
   "execution_count": 33,
   "metadata": {},
   "outputs": [],
   "source": [
    "submission.to_csv(\"./data/submission.csv\", index=False)"
   ]
  }
 ],
 "metadata": {
  "interpreter": {
   "hash": "916dbcbb3f70747c44a77c7bcd40155683ae19c65e1c03b4aa3499c5328201f1"
  },
  "kernelspec": {
   "display_name": "Python 3.8.5 64-bit",
   "name": "python3"
  },
  "language_info": {
   "codemirror_mode": {
    "name": "ipython",
    "version": 3
   },
   "file_extension": ".py",
   "mimetype": "text/x-python",
   "name": "python",
   "nbconvert_exporter": "python",
   "pygments_lexer": "ipython3",
   "version": "3.8.5"
  },
  "orig_nbformat": 4
 },
 "nbformat": 4,
 "nbformat_minor": 2
}
