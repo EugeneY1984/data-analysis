{
 "cells": [
  {
   "cell_type": "code",
   "execution_count": 1,
   "source": [
    "import requests\n",
    "from bs4 import BeautifulSoup\n",
    "\n",
    "base_url = 'http://video.ittensive.com/data/018-python-advanced/beru.ru/'\n",
    "r = requests.get(base_url)\n",
    "html = BeautifulSoup(r.content)\n",
    "\n",
    "links = html.find_all('a')\n",
    "\n",
    "for link in links:\n",
    "    if str(link).find('Саратов 452') > -1:\n",
    "        link_1 = link['href']\n",
    "    if str(link).find('Саратов 263') > -1:\n",
    "        link_2 = link['href']\n",
    "\n",
    "def get_full_volume(url):\n",
    "    r = requests.get(base_url + url)\n",
    "    html = BeautifulSoup(r.content)    \n",
    "    for line in html.find_all('span', {'class':'_112Tad-7AP'}):\n",
    "        if line.get_text().find('общий объем') > -1:\n",
    "            vol = ''.join(i for i in line.get_text() if i.isdigit())\n",
    "    size = int(vol)\n",
    "\n",
    "    return size\n",
    "\n",
    "print(abs(get_full_volume(link_1) - get_full_volume(link_2)))"
   ],
   "outputs": [
    {
     "output_type": "stream",
     "name": "stdout",
     "text": [
      "73\n"
     ]
    }
   ],
   "metadata": {}
  }
 ],
 "metadata": {
  "orig_nbformat": 4,
  "language_info": {
   "name": "python",
   "version": "3.8.5",
   "mimetype": "text/x-python",
   "codemirror_mode": {
    "name": "ipython",
    "version": 3
   },
   "pygments_lexer": "ipython3",
   "nbconvert_exporter": "python",
   "file_extension": ".py"
  },
  "kernelspec": {
   "name": "python3",
   "display_name": "Python 3.8.5 64-bit"
  },
  "interpreter": {
   "hash": "916dbcbb3f70747c44a77c7bcd40155683ae19c65e1c03b4aa3499c5328201f1"
  }
 },
 "nbformat": 4,
 "nbformat_minor": 2
}