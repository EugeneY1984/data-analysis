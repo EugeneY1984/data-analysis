{
 "cells": [
  {
   "cell_type": "code",
   "execution_count": 1,
   "source": [
    "import requests\n",
    "import pandas as pd\n",
    "from bs4 import BeautifulSoup\n",
    "\n",
    "r = requests.get('http://mfd.ru/marketdata/?id=5&group=16&mode=3&sortHeader=name&sortOrder=1&selectedDate=01.11.2019')\n",
    "html = BeautifulSoup(r.content)\n",
    "\n",
    "table = html.find('table', {'id':'marketDataList'})\n",
    "rows = []\n",
    "trs = table.find_all('tr')\n",
    "for tr in trs:\n",
    "    tr = [td.get_text(strip=True) for td in tr.find_all('td')] # strip=True - удаление лишних пробелов\n",
    "    if len(tr) > 0: # Не включаем пустые строки\n",
    "        rows.append(tr)\n",
    "\n",
    "data = pd.DataFrame(rows, columns=[\"Тикер\", \"Дата\", \"Сделки\", \"C/рост\", \"С/%\", \"Закрытие\", \"Открытие\", \"min\", \"max\", \"avg\", \"шт\", \"руб\", \"Всего\"])\n",
    "data = data[data['Сделки'] != 'N/A']\n",
    "data['С/%'] = data['С/%'].str.replace('%', '').str.replace('−', '-').astype(float)\n",
    "data = data.set_index('С/%')\n",
    "data = data.sort_index(ascending=False)\n",
    "print(data['Тикер'].head(1))\n"
   ],
   "outputs": [
    {
     "output_type": "stream",
     "name": "stdout",
     "text": [
      "С/%\n",
      "11.0    ИКРУСС-ИНВ\n",
      "Name: Тикер, dtype: object\n"
     ]
    }
   ],
   "metadata": {}
  }
 ],
 "metadata": {
  "orig_nbformat": 4,
  "language_info": {
   "name": "python",
   "version": "3.8.5",
   "mimetype": "text/x-python",
   "codemirror_mode": {
    "name": "ipython",
    "version": 3
   },
   "pygments_lexer": "ipython3",
   "nbconvert_exporter": "python",
   "file_extension": ".py"
  },
  "kernelspec": {
   "name": "python3",
   "display_name": "Python 3.8.5 64-bit"
  },
  "interpreter": {
   "hash": "916dbcbb3f70747c44a77c7bcd40155683ae19c65e1c03b4aa3499c5328201f1"
  }
 },
 "nbformat": 4,
 "nbformat_minor": 2
}