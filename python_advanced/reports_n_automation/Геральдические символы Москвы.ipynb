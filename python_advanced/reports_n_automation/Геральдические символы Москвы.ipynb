{
 "cells": [
  {
   "cell_type": "code",
   "execution_count": 3,
   "source": [
    "import pandas as pd\n",
    "from IPython.core.display import HTML\n",
    "import pdfkit\n",
    "import requests\n",
    "\n",
    "requests.packages.urllib3.util.ssl_.DEFAULT_CIPHERS = 'ALL:@SECLEVEL=1'\n",
    "\n",
    "data = pd.read_csv('https://video.ittensive.com/python-advanced/data-102743-2019-11-13.utf.csv', delimiter=';')\n",
    "data = data[['Name', 'Description', 'Picture']]\n",
    "data.head()\n",
    "\n",
    "html = '''\n",
    "<html>\n",
    "<head>\n",
    "    <title>Флаги и гербы районов Москвы</title>\n",
    "    <style>\n",
    "        p {page-break-before:always}\n",
    "    </style>\n",
    "</head>\n",
    "<body>\n",
    "    <h1>Флаги и гербы районов Москвы</h1>\n",
    "'''\n",
    "\n",
    "BASE_PICTURE_URL = 'http://op.mos.ru/MEDIA/showFile?id='\n",
    "for row in data.itertuples(index=False, name='xdata'):\n",
    "    html += '<p>'\n",
    "    html += '<b>' + row.Name + '</b>'\n",
    "    html += '<br><br>'\n",
    "    html += '<i>' + row.Description + '</i>'\n",
    "    html += '<br><br>'\n",
    "    html += '<img src=\"' + BASE_PICTURE_URL + row.Picture + '\" alt=\"picture\">'\n",
    "    html += '</p>'\n",
    "\n",
    "html += '</body></html'\n",
    "\n",
    "HTML(html)\n",
    "\n",
    "config = pdfkit.configuration(wkhtmltopdf='/usr/local/bin/wkhtmltopdf')\n",
    "options = {\n",
    "    'page-size': 'A4',\n",
    "    'margin-top': '0.5in',\n",
    "    'margin-right': '0.5in',\n",
    "    'margin-left': '0.5in',\n",
    "    'margin-bottom': '0.5in',\n",
    "    'encoding': 'UTF-8',\n",
    "    # 'footer-html': 'footer.html',\n",
    "    'header-font-name': 'Trebuchet',\n",
    "    'header-right': '[page]'\n",
    "    # 'page-offset': 1\n",
    "}\n",
    "\n",
    "pdfkit.from_string(html, 'task_out.pdf', configuration=config, options=options)"
   ],
   "outputs": [
    {
     "output_type": "stream",
     "name": "stdout",
     "text": [
      "Loading pages (1/6)\n",
      "Counting pages (2/6)                                               \n",
      "Resolving links (4/6)                                                       \n",
      "Loading headers and footers (5/6)                                           \n",
      "Printing pages (6/6)\n",
      "Done                                                                        \n"
     ]
    },
    {
     "output_type": "execute_result",
     "data": {
      "text/plain": [
       "True"
      ]
     },
     "metadata": {},
     "execution_count": 3
    }
   ],
   "metadata": {}
  }
 ],
 "metadata": {
  "orig_nbformat": 4,
  "language_info": {
   "name": "python",
   "version": "3.8.5",
   "mimetype": "text/x-python",
   "codemirror_mode": {
    "name": "ipython",
    "version": 3
   },
   "pygments_lexer": "ipython3",
   "nbconvert_exporter": "python",
   "file_extension": ".py"
  },
  "kernelspec": {
   "name": "python3",
   "display_name": "Python 3.8.5 64-bit"
  },
  "interpreter": {
   "hash": "916dbcbb3f70747c44a77c7bcd40155683ae19c65e1c03b4aa3499c5328201f1"
  }
 },
 "nbformat": 4,
 "nbformat_minor": 2
}