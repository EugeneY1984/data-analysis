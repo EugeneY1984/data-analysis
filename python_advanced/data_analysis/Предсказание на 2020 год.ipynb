{
 "cells": [
  {
   "cell_type": "code",
   "execution_count": 1,
   "source": [
    "import pandas as pd\n",
    "import numpy as np\n",
    "import matplotlib.pyplot as plt\n",
    "from sklearn.linear_model import LinearRegression\n",
    "\n",
    "data = pd.read_csv('https://video.ittensive.com/python-advanced/data-9753-2019-07-25.utf.csv', delimiter=';')\n",
    "\n",
    "data['UDP'] = 100 * data['UnemployedDisabled'] / data['UnemployedTotal']\n",
    "data_group = data.groupby('Year').filter(lambda x: x['UDP'].count() > 5)\n",
    "data_group = data_group.groupby('Year').mean()\n",
    "\n",
    "x = np.array(data_group.index).reshape(-1, 1)\n",
    "y = np.array(data_group['UDP'])\n",
    "\n",
    "model = LinearRegression().fit(x, y)\n",
    "print(np.round(model.predict(np.array(2020).reshape(1, 1)), 2))"
   ],
   "outputs": [
    {
     "output_type": "stream",
     "name": "stdout",
     "text": [
      "[1.52]\n"
     ]
    }
   ],
   "metadata": {}
  }
 ],
 "metadata": {
  "orig_nbformat": 4,
  "language_info": {
   "name": "python",
   "version": "3.8.5",
   "mimetype": "text/x-python",
   "codemirror_mode": {
    "name": "ipython",
    "version": 3
   },
   "pygments_lexer": "ipython3",
   "nbconvert_exporter": "python",
   "file_extension": ".py"
  },
  "kernelspec": {
   "name": "python3",
   "display_name": "Python 3.8.5 64-bit"
  },
  "interpreter": {
   "hash": "916dbcbb3f70747c44a77c7bcd40155683ae19c65e1c03b4aa3499c5328201f1"
  }
 },
 "nbformat": 4,
 "nbformat_minor": 2
}