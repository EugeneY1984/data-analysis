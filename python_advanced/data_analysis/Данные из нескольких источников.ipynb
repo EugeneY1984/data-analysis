{
 "cells": [
  {
   "cell_type": "code",
   "execution_count": 39,
   "source": [
    "%matplotlib inline\n",
    "\n",
    "import pandas as pd\n",
    "import matplotlib.pyplot as plt\n",
    "\n",
    "# Задание индекса при загрузке\n",
    "data_1 = pd.read_csv('http://video.ittensive.com/python-advanced/data-9753-2019-07-25.utf.csv', delimiter=';')#, na_values='NA', decimal=',', skiprows=1, names=['global_id', 'ID', 'Year', 'UnemployedMen', 'UnemployedWomen', 'UnemployedYoung', 'UnemployedDisabled', 'UnemployedTotal', 'Month', 'Unnamed: 9'], index_col=['Year','Month'])\n",
    "data_1 = data_1.set_index(['Year', 'Period'])\n",
    "\n",
    "data_2 = pd.read_csv('http://video.ittensive.com/python-advanced/data-5283-2019-10-04.utf.csv', delimiter=';')#, na_values='NA', decimal=',', skiprows=1, names=['ID', 'AdmArea', 'Year', 'global_id', 'Month', 'Calls', 'Unnamed: 6'], index_col=['Year', 'Month'])\n",
    "data_2 = data_2.set_index(['AdmArea', 'Year', 'Month'])\n",
    "data_2 = data_2.loc['Центральный административный округ']\n",
    "data_2.index.names = ['Year', 'Period']\n",
    "\n",
    "data = pd.merge(data_1, data_2, left_index=True, right_index=True)\n",
    "data = data.reset_index()\n",
    "data = data.set_index('Calls')\n",
    "data = data.sort_index()\n",
    "print(data['UnemployedMen'][0:1])\n"
   ],
   "outputs": [
    {
     "output_type": "stream",
     "name": "stdout",
     "text": [
      "Calls\n",
      "220    13465\n",
      "Name: UnemployedMen, dtype: int64\n"
     ]
    }
   ],
   "metadata": {}
  }
 ],
 "metadata": {
  "orig_nbformat": 4,
  "language_info": {
   "name": "python",
   "version": "3.8.5",
   "mimetype": "text/x-python",
   "codemirror_mode": {
    "name": "ipython",
    "version": 3
   },
   "pygments_lexer": "ipython3",
   "nbconvert_exporter": "python",
   "file_extension": ".py"
  },
  "kernelspec": {
   "name": "python3",
   "display_name": "Python 3.8.5 64-bit"
  },
  "interpreter": {
   "hash": "916dbcbb3f70747c44a77c7bcd40155683ae19c65e1c03b4aa3499c5328201f1"
  }
 },
 "nbformat": 4,
 "nbformat_minor": 2
}